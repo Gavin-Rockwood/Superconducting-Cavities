{
 "cells": [
  {
   "cell_type": "code",
   "execution_count": 1,
   "metadata": {},
   "outputs": [
    {
     "name": "stderr",
     "output_type": "stream",
     "text": [
      "WARNING: Method definition interp_summary(Type{cacheType}, Bool) where {cacheType} in module OrdinaryDiffEqCore at /Users/gavinrockwood/.julia/packages/OrdinaryDiffEqCore/55UVY/src/interp_func.jl:33 overwritten in module OrdinaryDiffEq at /Users/gavinrockwood/.julia/packages/OrdinaryDiffEq/s27pa/src/interp_func.jl:112.\n",
      "ERROR: Method overwriting is not permitted during Module precompilation. Use `__precompile__(false)` to opt-out of precompilation.\n"
     ]
    }
   ],
   "source": [
    "using Revise\n",
    "import SuperconductingCavities as SC\n",
    "\n",
    "using YAXArrays\n",
    "using DimensionalData\n",
    "\n",
    "using Logging\n",
    "using MiniLoggers\n"
   ]
  },
  {
   "cell_type": "code",
   "execution_count": 2,
   "metadata": {},
   "outputs": [
    {
     "data": {
      "text/plain": [
       "Base.CoreLogging.SimpleLogger(VSCodeServer.IJuliaCore.IJuliaStdio{Base.PipeEndpoint, typeof(VSCodeServer.io_send_callback)}(IOContext(Base.PipeEndpoint(RawFD(21) open, 0 bytes waiting)), VSCodeServer.io_send_callback), Info, Dict{Any, Int64}())"
      ]
     },
     "metadata": {},
     "output_type": "display_data"
    }
   ],
   "source": [
    "# MiniLogger(minlevel = MiniLoggers.Info) |> global_logger\n",
    "InfoLogger = MiniLogger(minlevel = MiniLoggers.Info)\n",
    "ProgressLogger = MiniLogger(minlevel = LogLevel(-1))\n",
    "DebugLogger = MiniLogger(minlevel = MiniLoggers.Debug)\n",
    "\n",
    "global_logger(DebugLogger)"
   ]
  },
  {
   "cell_type": "code",
   "execution_count": 29,
   "metadata": {},
   "outputs": [],
   "source": [
    "mode3 = SC.Circuits.Transmon_Resonators.load(\"ModelSaves/Mode3/Mode3.json\");"
   ]
  },
  {
   "cell_type": "code",
   "execution_count": 30,
   "metadata": {},
   "outputs": [
    {
     "data": {
      "text/plain": [
       "Dict{Any, Any} with 3 entries:\n",
       "  \"Dressed Mode 3 Collapse\"    => Quantum Object:   type=Operator   dims=[10, 1…\n",
       "  \"Dressed Transmon Dephasing\" => Quantum Object:   type=Operator   dims=[10, 1…\n",
       "  \"Dressed Transmon Collapse\"  => Quantum Object:   type=Operator   dims=[10, 1…"
      ]
     },
     "metadata": {},
     "output_type": "display_data"
    }
   ],
   "source": [
    "mode3.CandD_Ops"
   ]
  },
  {
   "cell_type": "code",
   "execution_count": 28,
   "metadata": {},
   "outputs": [
    {
     "data": {
      "text/plain": [
       "Dict{String, Any} with 30 entries:\n",
       "  \"half_sb_f_1\"     => Dict{String, Any}(\"pulse_time\"=>66.2424, \"Envelope Args\"…\n",
       "  \"sb_f_1_2pi_f_3\"  => Dict{String, Any}(\"pulse_time\"=>971.249, \"Envelope Args\"…\n",
       "  \"q_e_3\"           => Dict{String, Any}(\"pulse_time\"=>71.5, \"Envelope Args\"=>D…\n",
       "  \"q_g_1_Main\"      => Dict{String, Any}(\"pulse_time\"=>100, \"Envelope Args\"=>Di…\n",
       "  \"q_g_3\"           => Dict{String, Any}(\"pulse_time\"=>100, \"Envelope Args\"=>Di…\n",
       "  \"half_q_e_0\"      => Dict{String, Any}(\"pulse_time\"=>35.48, \"Envelope Args\"=>…\n",
       "  \"q_g_3_Main\"      => Dict{String, Any}(\"pulse_time\"=>100, \"Envelope Args\"=>Di…\n",
       "  \"q_g_2\"           => Dict{String, Any}(\"pulse_time\"=>100, \"Envelope Args\"=>Di…\n",
       "  \"q_e_2\"           => Dict{String, Any}(\"pulse_time\"=>71.6, \"Envelope Args\"=>D…\n",
       "  \"half_q_e_0_Long\" => Dict{String, Any}(\"pulse_time\"=>51.495, \"Envelope Args\"=…\n",
       "  \"sb_f_2_Main\"     => Dict{String, Any}(\"pulse_time\"=>96.85, \"Envelope Args\"=>…\n",
       "  \"q_g_0\"           => Dict{String, Any}(\"pulse_time\"=>100.2, \"Envelope Args\"=>…\n",
       "  \"q_g_2_Main\"      => Dict{String, Any}(\"pulse_time\"=>100, \"Envelope Args\"=>Di…\n",
       "  \"sb_f_0_4pi_f_3\"  => Dict{String, Any}(\"pulse_time\"=>1601.37, \"Envelope Args\"…\n",
       "  \"q_e_1_2\"         => Dict{String, Any}(\"pulse_time\"=>71.7, \"Envelope Args\"=>D…\n",
       "  \"sb_f_1_Main\"     => Dict{String, Any}(\"pulse_time\"=>121.667, \"Envelope Args\"…\n",
       "  \"q_e_1\"           => Dict{String, Any}(\"pulse_time\"=>71.6, \"Envelope Args\"=>D…\n",
       "  \"q_g_0_Main\"      => Dict{String, Any}(\"pulse_time\"=>100, \"Envelope Args\"=>Di…\n",
       "  \"q_g_0_1\"         => Dict{String, Any}(\"pulse_time\"=>100, \"Envelope Args\"=>Di…\n",
       "  ⋮                 => ⋮"
      ]
     },
     "metadata": {},
     "output_type": "display_data"
    }
   ],
   "source": [
    "mode3.Stuff[\"op_drive_params\"]"
   ]
  },
  {
   "cell_type": "code",
   "execution_count": 37,
   "metadata": {},
   "outputs": [
    {
     "name": "stdout",
     "output_type": "stream",
     "text": [
      "The Name for this run is: Operator_Sequence_2024-10-03T11:45:33.386\n",
      "It is being saved at: Data/\n"
     ]
    },
    {
     "name": "stderr",
     "output_type": "stream",
     "text": [
      "┌ Info: Running operator q_g_0\n",
      "└ @ SuperconductingCavities.Dynamics /Users/gavinrockwood/Documents/Git Repositories/SuperconductingCavities/src/Dynamics/RunOperatorSequence.jl:225\n",
      "┌ Info: Running Time Evolution\n",
      "└ @ SuperconductingCavities.Dynamics /Users/gavinrockwood/Documents/Git Repositories/SuperconductingCavities/src/Dynamics/RunOperatorSequence.jl:65\n"
     ]
    },
    {
     "name": "stdout",
     "output_type": "stream",
     "text": [
      "Progress: [==============================] 100.0% --- Elapsed Time: 0h 00m 05s (ETA: 0h 00m 00s)\n"
     ]
    },
    {
     "name": "stderr",
     "output_type": "stream",
     "text": [
      "┌ Info: Time Evolution Complete\n",
      "└ @ SuperconductingCavities.Dynamics /Users/gavinrockwood/Documents/Git Repositories/SuperconductingCavities/src/Dynamics/RunOperatorSequence.jl:70\n",
      "┌ Info: Saving Steps\n",
      "└ @ SuperconductingCavities.Dynamics /Users/gavinrockwood/Documents/Git Repositories/SuperconductingCavities/src/Dynamics/RunOperatorSequence.jl:74\n",
      "┌ Info: Done with Step_1\n",
      "└ @ SuperconductingCavities.Dynamics /Users/gavinrockwood/Documents/Git Repositories/SuperconductingCavities/src/Dynamics/RunOperatorSequence.jl:98\n",
      "┌ Info: Done With Running Sequence\n",
      "└ @ SuperconductingCavities.Dynamics /Users/gavinrockwood/Documents/Git Repositories/SuperconductingCavities/src/Dynamics/RunOperatorSequence.jl:229\n",
      "┌ Info: Loading Data\n",
      "└ @ SuperconductingCavities.Dynamics /Users/gavinrockwood/Documents/Git Repositories/SuperconductingCavities/src/Dynamics/RunOperatorSequence.jl:231\n",
      "┌ Warning: The argument dims should be a Tuple or a StaticVector for better performance. Try to use `dims = (10, 10)` or `dims = SVector(10, 10)` instead of `dims = [10, 10]`.\n",
      "└ @ QuantumToolbox /Users/gavinrockwood/.julia/packages/QuantumToolbox/s5JrE/src/qobj/quantum_object.jl:225\n",
      "\u001b[32mProgress: 100%|█████████████████████████████████████████| Time: 0:00:02\u001b[39m\u001b[K\n"
     ]
    },
    {
     "data": {
      "text/plain": [
       "Dict{Any, Any} with 2 entries:\n",
       "  \"times\"  => Any[0.0, 0.2, 0.4, 0.6, 0.8, 1.0, 1.2, 1.4, 1.6, 1.8  …  98.4, 98…\n",
       "  \"states\" => Any[Quantum Object:   type=Ket   dims=[10, 10]   size=(100,)…"
      ]
     },
     "metadata": {},
     "output_type": "display_data"
    }
   ],
   "source": [
    "ψ = mode3.dressed_states[(0,0)]\n",
    "\n",
    "res = SC.Dynamics.RunPulseSequence(mode3, ψ, [\"q_g_0\"], Return = true, clean_up = true)"
   ]
  },
  {
   "cell_type": "code",
   "execution_count": 38,
   "metadata": {},
   "outputs": [
    {
     "data": {
      "text/plain": [
       "Dict{Any, Any} with 2 entries:\n",
       "  \"times\"  => Any[0.0, 0.2, 0.4, 0.6, 0.8, 1.0, 1.2, 1.4, 1.6, 1.8  …  98.4, 98…\n",
       "  \"states\" => Any[Quantum Object:   type=Ket   dims=[10, 10]   size=(100,)…"
      ]
     },
     "metadata": {},
     "output_type": "display_data"
    }
   ],
   "source": [
    "res"
   ]
  },
  {
   "cell_type": "code",
   "execution_count": 46,
   "metadata": {},
   "outputs": [
    {
     "name": "stdout",
     "output_type": "stream",
     "text": [
      "(1, 2)\n"
     ]
    }
   ],
   "source": [
    "for i in Iterators.product([1,2]...)\n",
    "    println(i)\n",
    "end"
   ]
  },
  {
   "cell_type": "code",
   "execution_count": 14,
   "metadata": {},
   "outputs": [
    {
     "data": {
      "text/plain": [
       "2-element Vector{Int64}:\n",
       " 1\n",
       " 2"
      ]
     },
     "metadata": {},
     "output_type": "display_data"
    }
   ],
   "source": [
    "a = [(1,2)...]"
   ]
  },
  {
   "cell_type": "code",
   "execution_count": 15,
   "metadata": {},
   "outputs": [
    {
     "data": {
      "text/plain": [
       "3-element Vector{Int64}:\n",
       " 1\n",
       " 2\n",
       " 4"
      ]
     },
     "metadata": {},
     "output_type": "display_data"
    }
   ],
   "source": [
    "insert!(a, 3, 4)"
   ]
  },
  {
   "cell_type": "code",
   "execution_count": null,
   "metadata": {},
   "outputs": [],
   "source": []
  }
 ],
 "metadata": {
  "kernelspec": {
   "display_name": "Julia 1.10.4",
   "language": "julia",
   "name": "julia-1.10"
  },
  "language_info": {
   "file_extension": ".jl",
   "mimetype": "application/julia",
   "name": "julia",
   "version": "1.10.4"
  }
 },
 "nbformat": 4,
 "nbformat_minor": 2
}
