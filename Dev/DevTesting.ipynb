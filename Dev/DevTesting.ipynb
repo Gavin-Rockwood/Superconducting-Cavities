{
 "cells": [
  {
   "cell_type": "code",
   "execution_count": 1,
   "metadata": {},
   "outputs": [
    {
     "name": "stderr",
     "output_type": "stream",
     "text": [
      "WARNING: Method definition interp_summary(Type{cacheType}, Bool) where {cacheType} in module OrdinaryDiffEqCore at /home/gr400/.julia/packages/OrdinaryDiffEqCore/55UVY/src/interp_func.jl:33 overwritten in module OrdinaryDiffEq at /home/gr400/.julia/packages/OrdinaryDiffEq/s27pa/src/interp_func.jl:112.\n",
      "ERROR: Method overwriting is not permitted during Module precompilation. Use `__precompile__(false)` to opt-out of precompilation.\n"
     ]
    }
   ],
   "source": [
    "using Revise\n",
    "import SuperconductingCavities as SC\n",
    "\n",
    "using YAXArrays\n",
    "using DimensionalData\n",
    "\n",
    "using Logging\n",
    "using MiniLoggers\n",
    "\n",
    "import LsqFit as LF\n"
   ]
  },
  {
   "cell_type": "code",
   "execution_count": 9,
   "metadata": {},
   "outputs": [
    {
     "data": {
      "text/plain": [
       "Base.CoreLogging.SimpleLogger(VSCodeServer.IJuliaCore.IJuliaStdio{Base.PipeEndpoint, typeof(VSCodeServer.io_send_callback)}(IOContext(Base.PipeEndpoint(RawFD(21) open, 0 bytes waiting)), VSCodeServer.io_send_callback), Info, Dict{Any, Int64}())"
      ]
     },
     "metadata": {},
     "output_type": "display_data"
    }
   ],
   "source": [
    "# MiniLogger(minlevel = MiniLoggers.Info) |> global_logger\n",
    "InfoLogger = MiniLogger(minlevel = MiniLoggers.Info)\n",
    "ProgressLogger = MiniLogger(minlevel = LogLevel(-1))\n",
    "DebugLogger = MiniLogger(minlevel = MiniLoggers.Debug)\n",
    "\n",
    "global_logger(ProgressLogger)"
   ]
  },
  {
   "cell_type": "code",
   "execution_count": 34,
   "metadata": {},
   "outputs": [],
   "source": [
    "mode3 = SC.Circuits.Transmon_Resonators.load(\"ModelSaves/Mode3/Mode3.json\");"
   ]
  },
  {
   "cell_type": "code",
   "execution_count": 35,
   "metadata": {},
   "outputs": [
    {
     "data": {
      "text/plain": [
       "Dict{String, Any} with 6 entries:\n",
       "  \"pulse_time\"    => 177.8\n",
       "  \"Envelope Args\" => Dict{String, Any}(\"pulse_time\"=>177.8, \"ramp_time\"=>10)\n",
       "  \"epsilon\"       => 0.88\n",
       "  \"Envelope\"      => \"Sine_Squared_Ramp\"\n",
       "  \"shift\"         => 0.0530359\n",
       "  \"freq_d\"        => -2.87015"
      ]
     },
     "metadata": {},
     "output_type": "display_data"
    }
   ],
   "source": [
    "mode3.Stuff[\"op_drive_params\"][\"sb_f_0_Main\"]"
   ]
  },
  {
   "cell_type": "markdown",
   "metadata": {},
   "source": [
    "# Chirping"
   ]
  },
  {
   "cell_type": "code",
   "execution_count": 36,
   "metadata": {},
   "outputs": [
    {
     "name": "stdout",
     "output_type": "stream",
     "text": [
      "[\u001b[36m2024-10-07 14:53:25\u001b[39m] \u001b[36mInfo\u001b[39m: Doing Step 1/21\n"
     ]
    },
    {
     "ename": "MethodError",
     "evalue": "MethodError: no method matching Get_Drive_Coef(::Float64, ::Float64)",
     "output_type": "error",
     "traceback": [
      "MethodError: no method matching Get_Drive_Coef(::Float64, ::Float64)\n",
      "\n",
      "Stacktrace:\n",
      " [1] Floquet_0_Sweep(hilbertspace::SuperconductingCavities.Hilbertspaces.Hilbertspace, drive_op::QuantumToolbox.QuantumObject{Matrix{ComplexF64}, QuantumToolbox.OperatorQuantumObject, 2}, list_of_params::Vector{Any}; use_logging::Bool)\n",
      "   @ SuperconductingCavities.Dynamics /local/gr400/Git Repositories/SuperconductingCavities/src/Dynamics/Floquet.jl:26\n",
      " [2] Floquet_0_Sweep\n",
      "   @ /local/gr400/Git Repositories/SuperconductingCavities/src/Dynamics/Floquet.jl:15 [inlined]\n",
      " [3] FindStarkShift(hilbertspace::SuperconductingCavities.Hilbertspaces.Hilbertspace, drive_op::QuantumToolbox.QuantumObject{Matrix{ComplexF64}, QuantumToolbox.OperatorQuantumObject, 2}, ψ1::QuantumToolbox.QuantumObject{Vector{ComplexF64}, QuantumToolbox.KetQuantumObject, 2}, ψ2::QuantumToolbox.QuantumObject{Vector{ComplexF64}, QuantumToolbox.KetQuantumObject, 2}, ν::Float64, ε::Float64, starkshift_list::Vector{Float64}; make_plot::Bool, state_names::Vector{String}, sub_logging::Bool)\n",
      "   @ SuperconductingCavities.Dynamics /local/gr400/Git Repositories/SuperconductingCavities/src/Dynamics/PulseFinder.jl:30\n",
      " [4] FindStarkShift\n",
      "   @ /local/gr400/Git Repositories/SuperconductingCavities/src/Dynamics/PulseFinder.jl:7 [inlined]\n",
      " [5] FitStarkShifts(hilbertspace::SuperconductingCavities.Hilbertspaces.Hilbertspace, Ô_D::QuantumToolbox.QuantumObject{Matrix{ComplexF64}, QuantumToolbox.OperatorQuantumObject, 2}, ψ1::QuantumToolbox.QuantumObject{Vector{ComplexF64}, QuantumToolbox.KetQuantumObject, 2}, ψ2::QuantumToolbox.QuantumObject{Vector{ComplexF64}, QuantumToolbox.KetQuantumObject, 2}, ν::Float64, εs::Vector{Float64}, starkshift_list::Vector{Float64}; fit_order::Int64, make_plot::Bool, p0::Vector{Any}, sub_logging::Bool)\n",
      "   @ SuperconductingCavities.Dynamics /local/gr400/Git Repositories/SuperconductingCavities/src/Dynamics/PulseFinder.jl:188\n",
      " [6] top-level scope\n",
      "   @ /local/gr400/Git Repositories/SuperconductingCavities/Dev/jl_notebook_cell_df34fa98e69747e1a8f8a730347b8e2f_X16sZmlsZQ==.jl:8"
     ]
    }
   ],
   "source": [
    "ψ1 = mode3.dressed_states[(2,0)]\n",
    "ψ2 = mode3.dressed_states[(0,1)]\n",
    "ν = mode3.dressed_energies[(0,1)]-mode3.dressed_energies[(2,0)]\n",
    "\n",
    "εs = collect(LinRange(0.001, 0.8, 21))\n",
    "stark_shifts = collect(LinRange(0, 0.07, 11))\n",
    "\n",
    "fit_res = SC.Dynamics.FitStarkShifts(mode3.hilbertspace, mode3.n̂ₜ, ψ1, ψ2, ν, εs, stark_shifts, sub_logging = false)"
   ]
  },
  {
   "cell_type": "code",
   "execution_count": 27,
   "metadata": {},
   "outputs": [
    {
     "data": {
      "text/plain": [
       "8-element Vector{Float64}:\n",
       "  8.431358998702284e-8\n",
       " -1.6806378761553386e-5\n",
       "  0.07306252600868386\n",
       " -0.0018712565476485315\n",
       "  0.0003500279713709183\n",
       " -0.009941767392960842\n",
       "  0.00861912167476666\n",
       " -0.0029772483654271504"
      ]
     },
     "metadata": {},
     "output_type": "display_data"
    }
   ],
   "source": [
    "mode3.Stuff[\"Chirp Params\"][\"fn_gn+1\"][fit_res.param]"
   ]
  },
  {
   "cell_type": "markdown",
   "metadata": {},
   "source": [
    "# SNAIL"
   ]
  },
  {
   "cell_type": "code",
   "execution_count": null,
   "metadata": {},
   "outputs": [],
   "source": []
  }
 ],
 "metadata": {
  "kernelspec": {
   "display_name": "Julia 1.10.5",
   "language": "julia",
   "name": "julia-1.10"
  },
  "language_info": {
   "file_extension": ".jl",
   "mimetype": "application/julia",
   "name": "julia",
   "version": "1.10.5"
  }
 },
 "nbformat": 4,
 "nbformat_minor": 2
}
