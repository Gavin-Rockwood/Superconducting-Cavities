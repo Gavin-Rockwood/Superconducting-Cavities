{
 "cells": [
  {
   "cell_type": "markdown",
   "metadata": {},
   "source": [
    "# Setup"
   ]
  },
  {
   "cell_type": "markdown",
   "metadata": {},
   "source": [
    "## Imports"
   ]
  },
  {
   "cell_type": "code",
   "execution_count": 62,
   "metadata": {},
   "outputs": [],
   "source": [
    "import QuantumToolbox as qt\n",
    "using Logging\n",
    "import CairoMakie as cm\n",
    "using MiniLoggers\n",
    "using Revise\n",
    "using Dates\n",
    "\n",
    "using Symbolics\n",
    "\n",
    "import NonlinearSolve as NLS"
   ]
  },
  {
   "cell_type": "code",
   "execution_count": 151,
   "metadata": {},
   "outputs": [],
   "source": [
    "import SuperconductingCavities as SC"
   ]
  },
  {
   "cell_type": "markdown",
   "metadata": {},
   "source": [
    "## Some Extra Stuff"
   ]
  },
  {
   "cell_type": "code",
   "execution_count": 3,
   "metadata": {},
   "outputs": [
    {
     "data": {
      "text/plain": [
       "Base.CoreLogging.SimpleLogger(VSCodeServer.IJuliaCore.IJuliaStdio{Base.PipeEndpoint, typeof(VSCodeServer.io_send_callback)}(IOContext(Base.PipeEndpoint(RawFD(21) open, 0 bytes waiting)), VSCodeServer.io_send_callback), Info, Dict{Any, Int64}())"
      ]
     },
     "metadata": {},
     "output_type": "display_data"
    }
   ],
   "source": [
    "# MiniLogger(minlevel = MiniLoggers.Info) |> global_logger\n",
    "InfoLogger = MiniLogger(minlevel = MiniLoggers.Info)\n",
    "ProgressLogger = MiniLogger(minlevel = LogLevel(-1))\n",
    "DebugLogger = MiniLogger(minlevel = MiniLoggers.Debug)\n",
    "\n",
    "global_logger(DebugLogger)"
   ]
  },
  {
   "cell_type": "markdown",
   "metadata": {},
   "source": [
    "# Testing SNAIL!"
   ]
  },
  {
   "cell_type": "code",
   "execution_count": 45,
   "metadata": {},
   "outputs": [
    {
     "data": {
      "text/plain": [
       "c (generic function with 1 method)"
      ]
     },
     "metadata": {},
     "output_type": "display_data"
    }
   ],
   "source": [
    "function c(n)\n",
    "    @variables ϕ α N Φₑ\n",
    "\n",
    "    U = -α*cos(ϕ) - N * cos((ϕ - Φₑ)/N)\n",
    "\n",
    "    D = Differential(ϕ)^n\n",
    "\n",
    "    return expand_derivatives(D(U))\n",
    "end"
   ]
  },
  {
   "cell_type": "code",
   "execution_count": 124,
   "metadata": {},
   "outputs": [
    {
     "data": {
      "text/plain": [
       "get_c_coeff_bare (generic function with 1 method)"
      ]
     },
     "metadata": {},
     "output_type": "display_data"
    }
   ],
   "source": [
    "function get_c_coeff_bare(N_val, α_val, Φₑ_val)\n",
    "    @variables ϕ N α Φₑ\n",
    "\n",
    "    c_syms = []\n",
    "    for n in 1:6\n",
    "        c_sym = c(n)\n",
    "        push!(c_syms, c_sym)\n",
    "    end\n",
    "\n",
    "    f_to_min(ϕ_val, p) = [Symbolics.value(substitute(c_syms[1], Dict(ϕ=>ϕ_val[1], N=>N_val, α => α_val, Φₑ => Φₑ_val)))]\n",
    "\n",
    "    prob = NLS.NonlinearProblem(f_to_min, [0.0], [])\n",
    "    ϕ_min = NLS.solve(prob)[1]\n",
    "    @debug \"ϕ_min: $ϕ_min\"\n",
    "\n",
    "\n",
    "    cs = []\n",
    "    for n in 2:6\n",
    "        push!(cs, Symbolics.value(substitute(c_syms[n], Dict(ϕ=>ϕ_min, N=>N_val, α=>α_val, Φₑ=>Φₑ_val))))\n",
    "    end\n",
    "\n",
    "    return cs\n",
    "end"
   ]
  },
  {
   "cell_type": "code",
   "execution_count": 126,
   "metadata": {},
   "outputs": [
    {
     "name": "stdout",
     "output_type": "stream",
     "text": [
      "[\u001b[34m2024-10-01 17:16:07\u001b[39m] \u001b[34mDebug\u001b[39m: ϕ_min: 0.2436066018139098\n"
     ]
    },
    {
     "data": {
      "text/plain": [
       "5-element Vector{Any}:\n",
       "  0.4757834649215299\n",
       " -0.03151736215001946\n",
       " -0.1796734792230421\n",
       "  0.0350192912777994\n",
       "  0.1467723697009879"
      ]
     },
     "metadata": {},
     "output_type": "display_data"
    }
   ],
   "source": [
    "cs = get_c_coeff_bare(3.0, 0.147, 0.35)"
   ]
  },
  {
   "cell_type": "code",
   "execution_count": 121,
   "metadata": {},
   "outputs": [
    {
     "data": {
      "text/plain": [
       "1-element Vector{Float64}:\n",
       " -0.11640218623064896"
      ]
     },
     "metadata": {},
     "output_type": "display_data"
    }
   ],
   "source": [
    "f_to_min([0.0],[0.0])"
   ]
  },
  {
   "cell_type": "code",
   "execution_count": 123,
   "metadata": {},
   "outputs": [
    {
     "name": "stdout",
     "output_type": "stream",
     "text": [
      "[-0.11640218623064896]\n"
     ]
    },
    {
     "data": {
      "text/plain": [
       "retcode: Success\n",
       "u: 1-element Vector{Float64}:\n",
       " 0.2436066018139098"
      ]
     },
     "metadata": {},
     "output_type": "display_data"
    }
   ],
   "source": [
    "println(f_to_min([0],[]))\n",
    "\n",
    "prob = NLS.NonlinearProblem(f_to_min, [0.0], [])\n",
    "\n",
    "sol = NLS.solve(prob)#, NLS.Klement())"
   ]
  },
  {
   "cell_type": "code",
   "execution_count": 97,
   "metadata": {},
   "outputs": [
    {
     "data": {
      "text/plain": [
       "retcode: Success\n",
       "u: 2-element Vector{Float64}:\n",
       " 1.4142135623730951\n",
       " 1.4142135623730951"
      ]
     },
     "metadata": {},
     "output_type": "display_data"
    }
   ],
   "source": [
    "fu(u, p) = u .* u .- p\n",
    "u0 = [1.0, 1.0]\n",
    "p = [2.0]\n",
    "prob = NLS.NonlinearProblem(fu, u0, p)\n",
    "sol = NLS.solve(prob)"
   ]
  },
  {
   "cell_type": "code",
   "execution_count": 101,
   "metadata": {},
   "outputs": [
    {
     "data": {
      "text/plain": [
       "1-element Vector{Int64}:\n",
       " 140006393846224"
      ]
     },
     "metadata": {},
     "output_type": "display_data"
    }
   ],
   "source": [
    "similar([1])"
   ]
  },
  {
   "cell_type": "code",
   "execution_count": 150,
   "metadata": {},
   "outputs": [
    {
     "data": {
      "text/plain": [
       "Quantum Object:   type=Operator   dims=[3]   size=(3, 3)   ishermitian=false\n",
       "3×3 SparseArrays.SparseMatrixCSC{ComplexF64, Int64} with 2 stored entries:\n",
       "     ⋅              ⋅          ⋅    \n",
       " 2.0+0.0im          ⋅          ⋅    \n",
       "     ⋅      2.82843+0.0im      ⋅    "
      ]
     },
     "metadata": {},
     "output_type": "display_data"
    }
   ],
   "source": [
    "a = qt.create(3)\n",
    "a+= qt.create(3)"
   ]
  },
  {
   "cell_type": "code",
   "execution_count": 149,
   "metadata": {},
   "outputs": [
    {
     "name": "stdout",
     "output_type": "stream",
     "text": [
      "6\n",
      "24\n",
      "120\n",
      "720\n"
     ]
    }
   ],
   "source": [
    "num = 2\n",
    "for i in 3:6\n",
    "    num *= i\n",
    "    println(num)\n",
    "end"
   ]
  },
  {
   "cell_type": "code",
   "execution_count": 198,
   "metadata": {},
   "outputs": [
    {
     "name": "stderr",
     "output_type": "stream",
     "text": [
      "WARNING: replacing module A.\n"
     ]
    },
    {
     "data": {
      "text/plain": [
       "Main.A"
      ]
     },
     "metadata": {},
     "output_type": "display_data"
    }
   ],
   "source": [
    "module A\n",
    "    a = 2\n",
    "    module B\n",
    "        using ..A: a\n",
    "        b = 1*a\n",
    "    end\n",
    "    B.b = 3\n",
    "end\n"
   ]
  },
  {
   "cell_type": "code",
   "execution_count": 199,
   "metadata": {},
   "outputs": [
    {
     "data": {
      "text/plain": [
       "3"
      ]
     },
     "metadata": {},
     "output_type": "display_data"
    }
   ],
   "source": [
    "A.B.b"
   ]
  },
  {
   "cell_type": "code",
   "execution_count": null,
   "metadata": {},
   "outputs": [],
   "source": []
  }
 ],
 "metadata": {
  "kernelspec": {
   "display_name": "Julia 1.10.5",
   "language": "julia",
   "name": "julia-1.10"
  },
  "language_info": {
   "file_extension": ".jl",
   "mimetype": "application/julia",
   "name": "julia",
   "version": "1.10.5"
  }
 },
 "nbformat": 4,
 "nbformat_minor": 2
}
