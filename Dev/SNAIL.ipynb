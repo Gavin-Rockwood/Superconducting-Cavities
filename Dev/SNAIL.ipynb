{
 "cells": [
  {
   "cell_type": "markdown",
   "metadata": {},
   "source": [
    "# Setup"
   ]
  },
  {
   "cell_type": "markdown",
   "metadata": {},
   "source": [
    "## Imports"
   ]
  },
  {
   "cell_type": "code",
   "execution_count": 1,
   "metadata": {},
   "outputs": [],
   "source": [
    "import QuantumToolbox as qt\n",
    "using Logging\n",
    "import CairoMakie as cm\n",
    "using MiniLoggers\n",
    "using Revise\n",
    "using Dates\n",
    "\n",
    "using LinearAlgebra\n",
    "\n",
    "using Symbolics\n",
    "\n",
    "import NonlinearSolve as NLS"
   ]
  },
  {
   "cell_type": "code",
   "execution_count": 2,
   "metadata": {},
   "outputs": [
    {
     "name": "stderr",
     "output_type": "stream",
     "text": [
      "WARNING: Method definition interp_summary(Type{cacheType}, Bool) where {cacheType} in module OrdinaryDiffEqCore at C:\\Users\\Gavin Rockwood\\.julia\\packages\\OrdinaryDiffEqCore\\55UVY\\src\\interp_func.jl:33 overwritten in module OrdinaryDiffEq at C:\\Users\\Gavin Rockwood\\.julia\\packages\\OrdinaryDiffEq\\s27pa\\src\\interp_func.jl:112.\n",
      "ERROR: Method overwriting is not permitted during Module precompilation. Use `__precompile__(false)` to opt-out of precompilation.\n"
     ]
    }
   ],
   "source": [
    "import SuperconductingCavities as SC"
   ]
  },
  {
   "cell_type": "markdown",
   "metadata": {},
   "source": [
    "## Some Extra Stuff"
   ]
  },
  {
   "cell_type": "code",
   "execution_count": 3,
   "metadata": {},
   "outputs": [
    {
     "data": {
      "text/plain": [
       "Base.CoreLogging.SimpleLogger(VSCodeServer.IJuliaCore.IJuliaStdio{Base.PipeEndpoint, typeof(VSCodeServer.io_send_callback)}(IOContext(Base.PipeEndpoint(Base.Libc.WindowsRawSocket(0x0000000000000318) open, 0 bytes waiting)), VSCodeServer.io_send_callback), Info, Dict{Any, Int64}())"
      ]
     },
     "metadata": {},
     "output_type": "display_data"
    }
   ],
   "source": [
    "# MiniLogger(minlevel = MiniLoggers.Info) |> global_logger\n",
    "InfoLogger = MiniLogger(minlevel = MiniLoggers.Info)\n",
    "ProgressLogger = MiniLogger(minlevel = LogLevel(-1))\n",
    "DebugLogger = MiniLogger(minlevel = MiniLoggers.Debug)\n",
    "\n",
    "global_logger(DebugLogger)"
   ]
  },
  {
   "cell_type": "markdown",
   "metadata": {},
   "source": [
    "# Testing SNAIL!"
   ]
  },
  {
   "cell_type": "code",
   "execution_count": 20,
   "metadata": {},
   "outputs": [
    {
     "name": "stdout",
     "output_type": "stream",
     "text": [
      "[\u001b[34m2024-10-06 20:15:57\u001b[39m] \u001b[34mDebug\u001b[39m: φ_min: 0.1419779228372086\n",
      "[\u001b[34m2024-10-06 20:15:57\u001b[39m] \u001b[34mDebug\u001b[39m: cs: [0.0, 0.033252051945581715, -0.020592700377925068, -0.17959730366013388, 3.536273351958241, 23.693855632131573]\n"
     ]
    }
   ],
   "source": [
    "Eʲ = 26\n",
    "Eᶜ = 0.1\n",
    "Eˡ = 1\n",
    "α = 0.147\n",
    "Φᵉ = 0.35\n",
    "snail = SC.Hilbertspaces.Elements.SNAILs.init(Eᶜ, Eʲ, Eˡ, α, Φᵉ, 120, 10, name = \"SNAIL\");"
   ]
  },
  {
   "cell_type": "code",
   "execution_count": null,
   "metadata": {},
   "outputs": [],
   "source": []
  }
 ],
 "metadata": {
  "kernelspec": {
   "display_name": "Julia 1.10.5",
   "language": "julia",
   "name": "julia-1.10"
  },
  "language_info": {
   "file_extension": ".jl",
   "mimetype": "application/julia",
   "name": "julia",
   "version": "1.10.5"
  }
 },
 "nbformat": 4,
 "nbformat_minor": 2
}
