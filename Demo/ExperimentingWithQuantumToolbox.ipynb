{
 "cells": [
  {
   "cell_type": "code",
   "execution_count": 25,
   "metadata": {},
   "outputs": [
    {
     "name": "stderr",
     "output_type": "stream",
     "text": [
      "WARNING: replacing module SC_qt.\n"
     ]
    },
    {
     "data": {
      "text/plain": [
       "Main.SC_qt"
      ]
     },
     "execution_count": 25,
     "metadata": {},
     "output_type": "execute_result"
    }
   ],
   "source": [
    "import QuantumToolbox as qt\n",
    "using Revise\n",
    "using LinearAlgebra\n",
    "include(\"/local/gr400/Git Repositories/SuperconductingCavities/src_qt/SuperconductingCavities.jl\")"
   ]
  },
  {
   "cell_type": "code",
   "execution_count": 15,
   "metadata": {},
   "outputs": [],
   "source": [
    "Eᶜ = 0.10283303447280807;\n",
    "Eʲ = 26.96976142643705;\n",
    "Eᵒˢᶜ = [6.2280871213];\n",
    "g = [0.026184375000000013];\n",
    "ng  =  0;\n",
    "N=10;\n",
    "N_cut = 60;"
   ]
  },
  {
   "cell_type": "code",
   "execution_count": 17,
   "metadata": {},
   "outputs": [],
   "source": [
    "test = SC_qt.Transmon_Resonators_Constructor(Eᶜ, Eʲ, Eᵒˢᶜ, g, N, [N]);"
   ]
  },
  {
   "cell_type": "code",
   "execution_count": 64,
   "metadata": {},
   "outputs": [
    {
     "data": {
      "text/plain": [
       "ht (generic function with 2 methods)"
      ]
     },
     "execution_count": 64,
     "metadata": {},
     "output_type": "execute_result"
    }
   ],
   "source": [
    "ψi = test.dressed_states[(0,0)]\n",
    "ν = test.dressed_energies[(1,0)] - test.dressed_energies[(0,0)]\n",
    "ε = 0.005\n",
    "#Ĥₜ = SC_qt.Get_Drive_Hamiltonian(test, test.n̂ₜ, ν, 0.003)\n",
    "\n",
    "function cf(t, params)\n",
    "    return 2*pi*(ε*sin(2π*ν*t))\n",
    "end\n",
    "Ĥₜ = qt.TimeDependentOperatorSum([cf], [test.n̂ₜ])\n",
    "\n",
    "function ht(t)\n",
    "    return 2*pi*(ε*sin(2π*ν*t)*test.n̂ₜ)\n",
    "end"
   ]
  },
  {
   "cell_type": "code",
   "execution_count": 65,
   "metadata": {},
   "outputs": [
    {
     "data": {
      "text/plain": [
       "Quantum Object:   type=Operator   dims=[10, 10]   size=(100, 100)   ishermitian=true\n",
       "100×100 Matrix{ComplexF64}:\n",
       "     -50.6347+0.0im  -1.74952e-14+0.0im  …           0.0+0.0im\n",
       " -1.74952e-14+0.0im      -44.0778+0.0im              0.0+0.0im\n",
       "  3.42737e-15+0.0im   1.21046e-14+0.0im              0.0+0.0im\n",
       "  1.72365e-15+0.0im   3.30959e-15+0.0im              0.0+0.0im\n",
       "  -3.5334e-15+0.0im  -5.49288e-15+0.0im              0.0+0.0im\n",
       " -3.27495e-15+0.0im   -1.3284e-14+0.0im  …           0.0+0.0im\n",
       " -1.89297e-16+0.0im   1.12897e-14+0.0im              0.0+0.0im\n",
       "  6.33563e-15+0.0im   1.36526e-14+0.0im              0.0+0.0im\n",
       "  5.13228e-15+0.0im  -7.03766e-15+0.0im              0.0+0.0im\n",
       " -5.38924e-15+0.0im  -8.22248e-15+0.0im              0.0+0.0im\n",
       "  1.43457e-17+0.0im    -0.0522707+0.0im  …           0.0+0.0im\n",
       "   -0.0522707+0.0im  -3.34564e-17+0.0im              0.0+0.0im\n",
       "  2.07246e-17+0.0im    -0.0733161+0.0im              0.0+0.0im\n",
       "             ⋮                           ⋱  \n",
       "          0.0+0.0im           0.0+0.0im        -0.434517+0.0im\n",
       "          0.0+0.0im           0.0+0.0im      2.72557e-15+0.0im\n",
       "          0.0+0.0im           0.0+0.0im  …  -5.38924e-15+0.0im\n",
       "          0.0+0.0im           0.0+0.0im     -8.22248e-15+0.0im\n",
       "          0.0+0.0im           0.0+0.0im      3.18825e-15+0.0im\n",
       "          0.0+0.0im           0.0+0.0im     -1.40057e-14+0.0im\n",
       "          0.0+0.0im           0.0+0.0im      1.46209e-14+0.0im\n",
       "          0.0+0.0im           0.0+0.0im  …  -1.41675e-14+0.0im\n",
       "          0.0+0.0im           0.0+0.0im     -4.97661e-15+0.0im\n",
       "          0.0+0.0im           0.0+0.0im      2.61336e-14+0.0im\n",
       "          0.0+0.0im           0.0+0.0im      2.43895e-14+0.0im\n",
       "          0.0+0.0im           0.0+0.0im          60.3144+0.0im"
      ]
     },
     "execution_count": 65,
     "metadata": {},
     "output_type": "execute_result"
    }
   ],
   "source": [
    "test.Ĥ"
   ]
  },
  {
   "cell_type": "code",
   "execution_count": 70,
   "metadata": {},
   "outputs": [
    {
     "ename": "LoadError",
     "evalue": "DimensionMismatch: second dimension of A, 100, does not match length of x, 10000",
     "output_type": "error",
     "traceback": [
      "DimensionMismatch: second dimension of A, 100, does not match length of x, 10000",
      "",
      "Stacktrace:",
      "  [1] gemv!(y::Vector{ComplexF64}, tA::Char, A::Matrix{ComplexF64}, x::Vector{ComplexF64}, α::Int64, β::Int64)",
      "    @ LinearAlgebra /local/gr400/Julia/julia-1.9.2/share/julia/stdlib/v1.9/LinearAlgebra/src/matmul.jl:493",
      "  [2] mul!",
      "    @ /local/gr400/Julia/julia-1.9.2/share/julia/stdlib/v1.9/LinearAlgebra/src/matmul.jl:65 [inlined]",
      "  [3] mul!(y::Vector{ComplexF64}, A::QuantumToolbox.QuantumObject{Matrix{ComplexF64}, QuantumToolbox.OperatorQuantumObject}, x::Vector{ComplexF64}, α::Int64, β::Int64)",
      "    @ QuantumToolbox ~/.julia/packages/QuantumToolbox/C2QgF/src/qobj/arithmetic_and_attributes.jl:354",
      "  [4] mesolve_td_dudt!(du::Vector{ComplexF64}, u::Vector{ComplexF64}, p::NamedTuple{(:L, :progr, :Hdims, :e_ops, :expvals, :H_t, :is_empty_e_ops), Tuple{SparseArrays.SparseMatrixCSC{ComplexF64, Int64}, QuantumToolbox.ProgressBar{Base.Threads.Atomic{Int64}, Int64, Float64, Base.Threads.Atomic{Float64}, Float64, ReentrantLock}, Vector{Int64}, Vector{Vector{ComplexF64}}, Matrix{ComplexF64}, typeof(ht), Bool}}, t::Float64)",
      "    @ QuantumToolbox ~/.julia/packages/QuantumToolbox/C2QgF/src/time_evolution/mesolve.jl:26",
      "  [5] ODEFunction",
      "    @ ~/.julia/packages/SciMLBase/2HZ5m/src/scimlfunctions.jl:2355 [inlined]",
      "  [6] initialize!(integrator::OrdinaryDiffEq.ODEIntegrator{OrdinaryDiffEq.Tsit5{typeof(OrdinaryDiffEq.trivial_limiter!), typeof(OrdinaryDiffEq.trivial_limiter!), Static.False}, true, Vector{ComplexF64}, Nothing, Float64, NamedTuple{(:L, :progr, :Hdims, :e_ops, :expvals, :H_t, :is_empty_e_ops), Tuple{SparseArrays.SparseMatrixCSC{ComplexF64, Int64}, QuantumToolbox.ProgressBar{Base.Threads.Atomic{Int64}, Int64, Float64, Base.Threads.Atomic{Float64}, Float64, ReentrantLock}, Vector{Int64}, Vector{Vector{ComplexF64}}, Matrix{ComplexF64}, typeof(ht), Bool}}, Float64, Float64, Float64, Float64, Vector{Vector{ComplexF64}}, SciMLBase.ODESolution{ComplexF64, 2, Vector{Vector{ComplexF64}}, Nothing, Nothing, Vector{Float64}, Vector{Vector{Vector{ComplexF64}}}, SciMLBase.ODEProblem{Vector{ComplexF64}, Tuple{Float64, Float64}, true, NamedTuple{(:L, :progr, :Hdims, :e_ops, :expvals, :H_t, :is_empty_e_ops), Tuple{SparseArrays.SparseMatrixCSC{ComplexF64, Int64}, QuantumToolbox.ProgressBar{Base.Threads.Atomic{Int64}, Int64, Float64, Base.Threads.Atomic{Float64}, Float64, ReentrantLock}, Vector{Int64}, Vector{Vector{ComplexF64}}, Matrix{ComplexF64}, typeof(ht), Bool}}, SciMLBase.ODEFunction{true, SciMLBase.FullSpecialize, typeof(QuantumToolbox.mesolve_td_dudt!), UniformScaling{Bool}, Nothing, Nothing, Nothing, Nothing, Nothing, Nothing, Nothing, Nothing, Nothing, Nothing, Nothing, typeof(SciMLBase.DEFAULT_OBSERVED), Nothing, SymbolicIndexingInterface.SymbolCache{Nothing, Nothing, Nothing}}, Base.Pairs{Symbol, Any, NTuple{6, Symbol}, NamedTuple{(:abstol, :reltol, :save_everystep, :save_end, :saveat, :callback), Tuple{Float64, Float64, Bool, Bool, Vector{Float64}, SciMLBase.DiscreteCallback{DiffEqCallbacks.var\"#110#113\"{Vector{Float64}}, DiffEqCallbacks.var\"#111#114\"{typeof(QuantumToolbox._save_func_mesolve)}, DiffEqCallbacks.var\"#112#115\"{typeof(SciMLBase.INITIALIZE_DEFAULT), Bool, Vector{Float64}, typeof(QuantumToolbox._save_func_mesolve)}, typeof(SciMLBase.FINALIZE_DEFAULT)}}}}, SciMLBase.StandardODEProblem}, OrdinaryDiffEq.Tsit5{typeof(OrdinaryDiffEq.trivial_limiter!), typeof(OrdinaryDiffEq.trivial_limiter!), Static.False}, OrdinaryDiffEq.InterpolationData{SciMLBase.ODEFunction{true, SciMLBase.FullSpecialize, typeof(QuantumToolbox.mesolve_td_dudt!), UniformScaling{Bool}, Nothing, Nothing, Nothing, Nothing, Nothing, Nothing, Nothing, Nothing, Nothing, Nothing, Nothing, typeof(SciMLBase.DEFAULT_OBSERVED), Nothing, SymbolicIndexingInterface.SymbolCache{Nothing, Nothing, Nothing}}, Vector{Vector{ComplexF64}}, Vector{Float64}, Vector{Vector{Vector{ComplexF64}}}, OrdinaryDiffEq.Tsit5Cache{Vector{ComplexF64}, Vector{ComplexF64}, Vector{ComplexF64}, typeof(OrdinaryDiffEq.trivial_limiter!), typeof(OrdinaryDiffEq.trivial_limiter!), Static.False}, Nothing}, SciMLBase.DEStats, Nothing}, SciMLBase.ODEFunction{true, SciMLBase.FullSpecialize, typeof(QuantumToolbox.mesolve_td_dudt!), UniformScaling{Bool}, Nothing, Nothing, Nothing, Nothing, Nothing, Nothing, Nothing, Nothing, Nothing, Nothing, Nothing, typeof(SciMLBase.DEFAULT_OBSERVED), Nothing, SymbolicIndexingInterface.SymbolCache{Nothing, Nothing, Nothing}}, OrdinaryDiffEq.Tsit5Cache{Vector{ComplexF64}, Vector{ComplexF64}, Vector{ComplexF64}, typeof(OrdinaryDiffEq.trivial_limiter!), typeof(OrdinaryDiffEq.trivial_limiter!), Static.False}, OrdinaryDiffEq.DEOptions{Float64, Float64, Float64, Float64, OrdinaryDiffEq.PIController{Rational{Int64}}, typeof(DiffEqBase.ODE_DEFAULT_NORM), typeof(opnorm), Bool, SciMLBase.CallbackSet{Tuple{}, Tuple{SciMLBase.DiscreteCallback{DiffEqCallbacks.var\"#110#113\"{Vector{Float64}}, DiffEqCallbacks.var\"#111#114\"{typeof(QuantumToolbox._save_func_mesolve)}, DiffEqCallbacks.var\"#112#115\"{typeof(SciMLBase.INITIALIZE_DEFAULT), Bool, Vector{Float64}, typeof(QuantumToolbox._save_func_mesolve)}, typeof(SciMLBase.FINALIZE_DEFAULT)}}}, typeof(DiffEqBase.ODE_DEFAULT_ISOUTOFDOMAIN), typeof(DiffEqBase.ODE_DEFAULT_PROG_MESSAGE), typeof(DiffEqBase.ODE_DEFAULT_UNSTABLE_CHECK), DataStructures.BinaryHeap{Float64, DataStructures.FasterForward}, DataStructures.BinaryHeap{Float64, DataStructures.FasterForward}, Nothing, Nothing, Int64, Tuple{}, Vector{Float64}, Tuple{}}, Vector{ComplexF64}, ComplexF64, Nothing, OrdinaryDiffEq.DefaultInit, Nothing}, cache::OrdinaryDiffEq.Tsit5Cache{Vector{ComplexF64}, Vector{ComplexF64}, Vector{ComplexF64}, typeof(OrdinaryDiffEq.trivial_limiter!), typeof(OrdinaryDiffEq.trivial_limiter!), Static.False})",
      "    @ OrdinaryDiffEq ~/.julia/packages/OrdinaryDiffEq/NBaQM/src/perform_step/low_order_rk_perform_step.jl:792",
      "  [7] __init(prob::SciMLBase.ODEProblem{Vector{ComplexF64}, Tuple{Float64, Float64}, true, NamedTuple{(:L, :progr, :Hdims, :e_ops, :expvals, :H_t, :is_empty_e_ops), Tuple{SparseArrays.SparseMatrixCSC{ComplexF64, Int64}, QuantumToolbox.ProgressBar{Base.Threads.Atomic{Int64}, Int64, Float64, Base.Threads.Atomic{Float64}, Float64, ReentrantLock}, Vector{Int64}, Vector{Vector{ComplexF64}}, Matrix{ComplexF64}, typeof(ht), Bool}}, SciMLBase.ODEFunction{true, SciMLBase.FullSpecialize, typeof(QuantumToolbox.mesolve_td_dudt!), UniformScaling{Bool}, Nothing, Nothing, Nothing, Nothing, Nothing, Nothing, Nothing, Nothing, Nothing, Nothing, Nothing, typeof(SciMLBase.DEFAULT_OBSERVED), Nothing, SymbolicIndexingInterface.SymbolCache{Nothing, Nothing, Nothing}}, Base.Pairs{Symbol, Any, NTuple{6, Symbol}, NamedTuple{(:abstol, :reltol, :save_everystep, :save_end, :saveat, :callback), Tuple{Float64, Float64, Bool, Bool, Vector{Float64}, SciMLBase.DiscreteCallback{DiffEqCallbacks.var\"#110#113\"{Vector{Float64}}, DiffEqCallbacks.var\"#111#114\"{typeof(QuantumToolbox._save_func_mesolve)}, DiffEqCallbacks.var\"#112#115\"{typeof(SciMLBase.INITIALIZE_DEFAULT), Bool, Vector{Float64}, typeof(QuantumToolbox._save_func_mesolve)}, typeof(SciMLBase.FINALIZE_DEFAULT)}}}}, SciMLBase.StandardODEProblem}, alg::OrdinaryDiffEq.Tsit5{typeof(OrdinaryDiffEq.trivial_limiter!), typeof(OrdinaryDiffEq.trivial_limiter!), Static.False}, timeseries_init::Tuple{}, ts_init::Tuple{}, ks_init::Tuple{}, recompile::Type{Val{true}}; saveat::Vector{Float64}, tstops::Tuple{}, d_discontinuities::Tuple{}, save_idxs::Nothing, save_everystep::Bool, save_on::Bool, save_start::Bool, save_end::Bool, callback::SciMLBase.DiscreteCallback{DiffEqCallbacks.var\"#110#113\"{Vector{Float64}}, DiffEqCallbacks.var\"#111#114\"{typeof(QuantumToolbox._save_func_mesolve)}, DiffEqCallbacks.var\"#112#115\"{typeof(SciMLBase.INITIALIZE_DEFAULT), Bool, Vector{Float64}, typeof(QuantumToolbox._save_func_mesolve)}, typeof(SciMLBase.FINALIZE_DEFAULT)}, dense::Bool, calck::Bool, dt::Float64, dtmin::Float64, dtmax::Float64, force_dtmin::Bool, adaptive::Bool, gamma::Rational{Int64}, abstol::Float64, reltol::Float64, qmin::Rational{Int64}, qmax::Int64, qsteady_min::Int64, qsteady_max::Int64, beta1::Nothing, beta2::Nothing, qoldinit::Rational{Int64}, controller::Nothing, fullnormalize::Bool, failfactor::Int64, maxiters::Int64, internalnorm::typeof(DiffEqBase.ODE_DEFAULT_NORM), internalopnorm::typeof(opnorm), isoutofdomain::typeof(DiffEqBase.ODE_DEFAULT_ISOUTOFDOMAIN), unstable_check::typeof(DiffEqBase.ODE_DEFAULT_UNSTABLE_CHECK), verbose::Bool, timeseries_errors::Bool, dense_errors::Bool, advance_to_tstop::Bool, stop_at_next_tstop::Bool, initialize_save::Bool, progress::Bool, progress_steps::Int64, progress_name::String, progress_message::typeof(DiffEqBase.ODE_DEFAULT_PROG_MESSAGE), progress_id::Symbol, userdata::Nothing, allow_extrapolation::Bool, initialize_integrator::Bool, alias_u0::Bool, alias_du0::Bool, initializealg::OrdinaryDiffEq.DefaultInit, kwargs::Base.Pairs{Symbol, Union{}, Tuple{}, NamedTuple{(), Tuple{}}})",
      "    @ OrdinaryDiffEq ~/.julia/packages/OrdinaryDiffEq/NBaQM/src/solve.jl:518",
      "  [8] __init (repeats 4 times)",
      "    @ ~/.julia/packages/OrdinaryDiffEq/NBaQM/src/solve.jl:10 [inlined]",
      "  [9] #__solve#746",
      "    @ ~/.julia/packages/OrdinaryDiffEq/NBaQM/src/solve.jl:5 [inlined]",
      " [10] __solve",
      "    @ ~/.julia/packages/OrdinaryDiffEq/NBaQM/src/solve.jl:1 [inlined]",
      " [11] solve_call(_prob::SciMLBase.ODEProblem{Vector{ComplexF64}, Tuple{Float64, Float64}, true, NamedTuple{(:L, :progr, :Hdims, :e_ops, :expvals, :H_t, :is_empty_e_ops), Tuple{SparseArrays.SparseMatrixCSC{ComplexF64, Int64}, QuantumToolbox.ProgressBar{Base.Threads.Atomic{Int64}, Int64, Float64, Base.Threads.Atomic{Float64}, Float64, ReentrantLock}, Vector{Int64}, Vector{Vector{ComplexF64}}, Matrix{ComplexF64}, typeof(ht), Bool}}, SciMLBase.ODEFunction{true, SciMLBase.FullSpecialize, typeof(QuantumToolbox.mesolve_td_dudt!), UniformScaling{Bool}, Nothing, Nothing, Nothing, Nothing, Nothing, Nothing, Nothing, Nothing, Nothing, Nothing, Nothing, typeof(SciMLBase.DEFAULT_OBSERVED), Nothing, SymbolicIndexingInterface.SymbolCache{Nothing, Nothing, Nothing}}, Base.Pairs{Symbol, Any, NTuple{6, Symbol}, NamedTuple{(:abstol, :reltol, :save_everystep, :save_end, :saveat, :callback), Tuple{Float64, Float64, Bool, Bool, Vector{Float64}, SciMLBase.DiscreteCallback{DiffEqCallbacks.var\"#110#113\"{Vector{Float64}}, DiffEqCallbacks.var\"#111#114\"{typeof(QuantumToolbox._save_func_mesolve)}, DiffEqCallbacks.var\"#112#115\"{typeof(SciMLBase.INITIALIZE_DEFAULT), Bool, Vector{Float64}, typeof(QuantumToolbox._save_func_mesolve)}, typeof(SciMLBase.FINALIZE_DEFAULT)}}}}, SciMLBase.StandardODEProblem}, args::OrdinaryDiffEq.Tsit5{typeof(OrdinaryDiffEq.trivial_limiter!), typeof(OrdinaryDiffEq.trivial_limiter!), Static.False}; merge_callbacks::Bool, kwargshandle::Nothing, kwargs::Base.Pairs{Symbol, Union{}, Tuple{}, NamedTuple{(), Tuple{}}})",
      "    @ DiffEqBase ~/.julia/packages/DiffEqBase/eTCPy/src/solve.jl:608",
      " [12] solve_call(_prob::SciMLBase.ODEProblem{Vector{ComplexF64}, Tuple{Float64, Float64}, true, NamedTuple{(:L, :progr, :Hdims, :e_ops, :expvals, :H_t, :is_empty_e_ops), Tuple{SparseArrays.SparseMatrixCSC{ComplexF64, Int64}, QuantumToolbox.ProgressBar{Base.Threads.Atomic{Int64}, Int64, Float64, Base.Threads.Atomic{Float64}, Float64, ReentrantLock}, Vector{Int64}, Vector{Vector{ComplexF64}}, Matrix{ComplexF64}, typeof(ht), Bool}}, SciMLBase.ODEFunction{true, SciMLBase.FullSpecialize, typeof(QuantumToolbox.mesolve_td_dudt!), UniformScaling{Bool}, Nothing, Nothing, Nothing, Nothing, Nothing, Nothing, Nothing, Nothing, Nothing, Nothing, Nothing, typeof(SciMLBase.DEFAULT_OBSERVED), Nothing, SymbolicIndexingInterface.SymbolCache{Nothing, Nothing, Nothing}}, Base.Pairs{Symbol, Any, NTuple{6, Symbol}, NamedTuple{(:abstol, :reltol, :save_everystep, :save_end, :saveat, :callback), Tuple{Float64, Float64, Bool, Bool, Vector{Float64}, SciMLBase.DiscreteCallback{DiffEqCallbacks.var\"#110#113\"{Vector{Float64}}, DiffEqCallbacks.var\"#111#114\"{typeof(QuantumToolbox._save_func_mesolve)}, DiffEqCallbacks.var\"#112#115\"{typeof(SciMLBase.INITIALIZE_DEFAULT), Bool, Vector{Float64}, typeof(QuantumToolbox._save_func_mesolve)}, typeof(SciMLBase.FINALIZE_DEFAULT)}}}}, SciMLBase.StandardODEProblem}, args::OrdinaryDiffEq.Tsit5{typeof(OrdinaryDiffEq.trivial_limiter!), typeof(OrdinaryDiffEq.trivial_limiter!), Static.False})",
      "    @ DiffEqBase ~/.julia/packages/DiffEqBase/eTCPy/src/solve.jl:566",
      " [13] solve_up(prob::SciMLBase.ODEProblem{Vector{ComplexF64}, Tuple{Float64, Float64}, true, NamedTuple{(:L, :progr, :Hdims, :e_ops, :expvals, :H_t, :is_empty_e_ops), Tuple{SparseArrays.SparseMatrixCSC{ComplexF64, Int64}, QuantumToolbox.ProgressBar{Base.Threads.Atomic{Int64}, Int64, Float64, Base.Threads.Atomic{Float64}, Float64, ReentrantLock}, Vector{Int64}, Vector{Vector{ComplexF64}}, Matrix{ComplexF64}, typeof(ht), Bool}}, SciMLBase.ODEFunction{true, SciMLBase.FullSpecialize, typeof(QuantumToolbox.mesolve_td_dudt!), UniformScaling{Bool}, Nothing, Nothing, Nothing, Nothing, Nothing, Nothing, Nothing, Nothing, Nothing, Nothing, Nothing, typeof(SciMLBase.DEFAULT_OBSERVED), Nothing, SymbolicIndexingInterface.SymbolCache{Nothing, Nothing, Nothing}}, Base.Pairs{Symbol, Any, NTuple{6, Symbol}, NamedTuple{(:abstol, :reltol, :save_everystep, :save_end, :saveat, :callback), Tuple{Float64, Float64, Bool, Bool, Vector{Float64}, SciMLBase.DiscreteCallback{DiffEqCallbacks.var\"#110#113\"{Vector{Float64}}, DiffEqCallbacks.var\"#111#114\"{typeof(QuantumToolbox._save_func_mesolve)}, DiffEqCallbacks.var\"#112#115\"{typeof(SciMLBase.INITIALIZE_DEFAULT), Bool, Vector{Float64}, typeof(QuantumToolbox._save_func_mesolve)}, typeof(SciMLBase.FINALIZE_DEFAULT)}}}}, SciMLBase.StandardODEProblem}, sensealg::Nothing, u0::Vector{ComplexF64}, p::NamedTuple{(:L, :progr, :Hdims, :e_ops, :expvals, :H_t, :is_empty_e_ops), Tuple{SparseArrays.SparseMatrixCSC{ComplexF64, Int64}, QuantumToolbox.ProgressBar{Base.Threads.Atomic{Int64}, Int64, Float64, Base.Threads.Atomic{Float64}, Float64, ReentrantLock}, Vector{Int64}, Vector{Vector{ComplexF64}}, Matrix{ComplexF64}, typeof(ht), Bool}}, args::OrdinaryDiffEq.Tsit5{typeof(OrdinaryDiffEq.trivial_limiter!), typeof(OrdinaryDiffEq.trivial_limiter!), Static.False}; kwargs::Base.Pairs{Symbol, Union{}, Tuple{}, NamedTuple{(), Tuple{}}})",
      "    @ DiffEqBase ~/.julia/packages/DiffEqBase/eTCPy/src/solve.jl:1057",
      " [14] solve_up",
      "    @ ~/.julia/packages/DiffEqBase/eTCPy/src/solve.jl:1043 [inlined]",
      " [15] solve(prob::SciMLBase.ODEProblem{Vector{ComplexF64}, Tuple{Float64, Float64}, true, NamedTuple{(:L, :progr, :Hdims, :e_ops, :expvals, :H_t, :is_empty_e_ops), Tuple{SparseArrays.SparseMatrixCSC{ComplexF64, Int64}, QuantumToolbox.ProgressBar{Base.Threads.Atomic{Int64}, Int64, Float64, Base.Threads.Atomic{Float64}, Float64, ReentrantLock}, Vector{Int64}, Vector{Vector{ComplexF64}}, Matrix{ComplexF64}, typeof(ht), Bool}}, SciMLBase.ODEFunction{true, SciMLBase.FullSpecialize, typeof(QuantumToolbox.mesolve_td_dudt!), UniformScaling{Bool}, Nothing, Nothing, Nothing, Nothing, Nothing, Nothing, Nothing, Nothing, Nothing, Nothing, Nothing, typeof(SciMLBase.DEFAULT_OBSERVED), Nothing, SymbolicIndexingInterface.SymbolCache{Nothing, Nothing, Nothing}}, Base.Pairs{Symbol, Any, NTuple{6, Symbol}, NamedTuple{(:abstol, :reltol, :save_everystep, :save_end, :saveat, :callback), Tuple{Float64, Float64, Bool, Bool, Vector{Float64}, SciMLBase.DiscreteCallback{DiffEqCallbacks.var\"#110#113\"{Vector{Float64}}, DiffEqCallbacks.var\"#111#114\"{typeof(QuantumToolbox._save_func_mesolve)}, DiffEqCallbacks.var\"#112#115\"{typeof(SciMLBase.INITIALIZE_DEFAULT), Bool, Vector{Float64}, typeof(QuantumToolbox._save_func_mesolve)}, typeof(SciMLBase.FINALIZE_DEFAULT)}}}}, SciMLBase.StandardODEProblem}, args::OrdinaryDiffEq.Tsit5{typeof(OrdinaryDiffEq.trivial_limiter!), typeof(OrdinaryDiffEq.trivial_limiter!), Static.False}; sensealg::Nothing, u0::Nothing, p::Nothing, wrap::Val{true}, kwargs::Base.Pairs{Symbol, Union{}, Tuple{}, NamedTuple{(), Tuple{}}})",
      "    @ DiffEqBase ~/.julia/packages/DiffEqBase/eTCPy/src/solve.jl:980",
      " [16] solve",
      "    @ ~/.julia/packages/DiffEqBase/eTCPy/src/solve.jl:970 [inlined]",
      " [17] mesolve(prob::SciMLBase.ODEProblem{Vector{ComplexF64}, Tuple{Float64, Float64}, true, NamedTuple{(:L, :progr, :Hdims, :e_ops, :expvals, :H_t, :is_empty_e_ops), Tuple{SparseArrays.SparseMatrixCSC{ComplexF64, Int64}, QuantumToolbox.ProgressBar{Base.Threads.Atomic{Int64}, Int64, Float64, Base.Threads.Atomic{Float64}, Float64, ReentrantLock}, Vector{Int64}, Vector{Vector{ComplexF64}}, Matrix{ComplexF64}, typeof(ht), Bool}}, SciMLBase.ODEFunction{true, SciMLBase.FullSpecialize, typeof(QuantumToolbox.mesolve_td_dudt!), UniformScaling{Bool}, Nothing, Nothing, Nothing, Nothing, Nothing, Nothing, Nothing, Nothing, Nothing, Nothing, Nothing, typeof(SciMLBase.DEFAULT_OBSERVED), Nothing, SymbolicIndexingInterface.SymbolCache{Nothing, Nothing, Nothing}}, Base.Pairs{Symbol, Any, NTuple{6, Symbol}, NamedTuple{(:abstol, :reltol, :save_everystep, :save_end, :saveat, :callback), Tuple{Float64, Float64, Bool, Bool, Vector{Float64}, SciMLBase.DiscreteCallback{DiffEqCallbacks.var\"#110#113\"{Vector{Float64}}, DiffEqCallbacks.var\"#111#114\"{typeof(QuantumToolbox._save_func_mesolve)}, DiffEqCallbacks.var\"#112#115\"{typeof(SciMLBase.INITIALIZE_DEFAULT), Bool, Vector{Float64}, typeof(QuantumToolbox._save_func_mesolve)}, typeof(SciMLBase.FINALIZE_DEFAULT)}}}}, SciMLBase.StandardODEProblem}, alg::OrdinaryDiffEq.Tsit5{typeof(OrdinaryDiffEq.trivial_limiter!), typeof(OrdinaryDiffEq.trivial_limiter!), Static.False})",
      "    @ QuantumToolbox ~/.julia/packages/QuantumToolbox/C2QgF/src/time_evolution/mesolve.jl:249",
      " [18] #mesolve#66",
      "    @ ~/.julia/packages/QuantumToolbox/C2QgF/src/time_evolution/mesolve.jl:245 [inlined]",
      " [19] mesolve",
      "    @ ~/.julia/packages/QuantumToolbox/C2QgF/src/time_evolution/mesolve.jl:213 [inlined]",
      " [20] top-level scope",
      "    @ In[70]:3"
     ]
    }
   ],
   "source": [
    "tlist = collect(LinRange(0:1.0:100));\n",
    "\n",
    "res = qt.mesolve(test.Ĥ, ψi, tlist, H_t = ht)"
   ]
  },
  {
   "cell_type": "code",
   "execution_count": 28,
   "metadata": {},
   "outputs": [
    {
     "data": {
      "text/plain": [
       "Solution of time evolution\n",
       "(return code: Success)\n",
       "--------------------------\n",
       "num_states = 201\n",
       "num_expect = 0\n",
       "ODE alg.: Tsit5(; stage_limiter! = trivial_limiter!, step_limiter! = trivial_limiter!, thread = static(false),)\n",
       "abstol = 1.0e-8\n",
       "reltol = 1.0e-6\n"
      ]
     },
     "execution_count": 28,
     "metadata": {},
     "output_type": "execute_result"
    }
   ],
   "source": [
    "res"
   ]
  },
  {
   "cell_type": "code",
   "execution_count": null,
   "metadata": {},
   "outputs": [],
   "source": []
  }
 ],
 "metadata": {
  "kernelspec": {
   "display_name": "Julia 1.9.2",
   "language": "julia",
   "name": "julia-1.9"
  },
  "language_info": {
   "file_extension": ".jl",
   "mimetype": "application/julia",
   "name": "julia",
   "version": "1.9.2"
  }
 },
 "nbformat": 4,
 "nbformat_minor": 2
}
