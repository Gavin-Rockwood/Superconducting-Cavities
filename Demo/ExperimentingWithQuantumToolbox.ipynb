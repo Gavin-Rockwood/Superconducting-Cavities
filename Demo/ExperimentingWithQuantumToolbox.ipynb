{
 "cells": [
  {
   "cell_type": "code",
   "execution_count": 1,
   "metadata": {},
   "outputs": [],
   "source": [
    "import QuantumToolbox as qt\n",
    "using Revise\n",
    "using LinearAlgebra\n",
    "import SciMLBase: solve\n",
    "import OrdinaryDiffEq as ode\n",
    "include(\"/Users/gavinrockwood/Documents/Git Repositories/SuperconductingCavities/src_qt/SuperconductingCavities.jl\")\n",
    "\n",
    "using Logging\n",
    "using MiniLoggers"
   ]
  },
  {
   "cell_type": "code",
   "execution_count": 2,
   "metadata": {},
   "outputs": [
    {
     "data": {
      "text/plain": [
       "Base.CoreLogging.SimpleLogger(VSCodeServer.IJuliaCore.IJuliaStdio{Base.PipeEndpoint, typeof(VSCodeServer.io_send_callback)}(IOContext(Base.PipeEndpoint(RawFD(21) open, 0 bytes waiting)), VSCodeServer.io_send_callback), Info, Dict{Any, Int64}())"
      ]
     },
     "metadata": {},
     "output_type": "display_data"
    }
   ],
   "source": [
    "# MiniLogger(minlevel = MiniLoggers.Info) |> global_logger\n",
    "InfoLogger = MiniLogger(minlevel = MiniLoggers.Info)\n",
    "ProgressLogger = MiniLogger(minlevel = LogLevel(-1))\n",
    "DebugLogger = MiniLogger(minlevel = MiniLoggers.Debug)\n",
    "\n",
    "global_logger(DebugLogger)"
   ]
  },
  {
   "cell_type": "code",
   "execution_count": 7,
   "metadata": {},
   "outputs": [],
   "source": [
    "Eᶜ = 0.10283303447280807;\n",
    "Eʲ = 26.96976142643705;\n",
    "Eᵒˢᶜ = [6.2280871213];\n",
    "g = [0.026184375000000013];\n",
    "ng  =  0;\n",
    "N=8;\n",
    "N_cut = 60;"
   ]
  },
  {
   "cell_type": "code",
   "execution_count": 8,
   "metadata": {},
   "outputs": [],
   "source": [
    "test = SC_qt.Transmon_Resonators_Constructor(Eᶜ, Eʲ, Eᵒˢᶜ, g, N, [N]);"
   ]
  },
  {
   "cell_type": "code",
   "execution_count": 47,
   "metadata": {},
   "outputs": [],
   "source": [
    "ψi = test.dressed_states[(0,0)]\n",
    "ν = test.dressed_energies[(1,0)] - test.dressed_energies[(0,0)]\n",
    "ε = 0.005\n",
    "#Ĥₜ = SC_qt.Get_Drive_Hamiltonian(test, test.n̂ₜ, ν, 0.003)\n",
    "\n",
    "op = qt.dense_to_sparse(test.n̂ₜ)\n",
    "function cf(t)\n",
    "    return 2*pi*(ε*sin(2π*ν*t))\n",
    "end\n",
    "Lₜ = qt.TimeDependentOperatorSum([cf], [qt.liouvillian(op)]);\n",
    "\n",
    "\n",
    "Ĥₜ= qt.TimeDependentOperatorSum([cf], [op]);"
   ]
  },
  {
   "cell_type": "code",
   "execution_count": 90,
   "metadata": {},
   "outputs": [
    {
     "data": {
      "text/plain": [
       "Quantum Object:   type=Operator   dims=[8, 8]   size=(64, 64)   ishermitian=true\n",
       "64×64 Diagonal{ComplexF64, Vector{ComplexF64}}:\n",
       " 0.015625-0.0im           ⋅      …           ⋅               ⋅    \n",
       "          ⋅      0.015625-0.0im              ⋅               ⋅    \n",
       "          ⋅               ⋅                  ⋅               ⋅    \n",
       "          ⋅               ⋅                  ⋅               ⋅    \n",
       "          ⋅               ⋅                  ⋅               ⋅    \n",
       "          ⋅               ⋅      …           ⋅               ⋅    \n",
       "          ⋅               ⋅                  ⋅               ⋅    \n",
       "          ⋅               ⋅                  ⋅               ⋅    \n",
       "          ⋅               ⋅                  ⋅               ⋅    \n",
       "          ⋅               ⋅                  ⋅               ⋅    \n",
       "         ⋮                       ⋱                  \n",
       "          ⋅               ⋅      …           ⋅               ⋅    \n",
       "          ⋅               ⋅                  ⋅               ⋅    \n",
       "          ⋅               ⋅                  ⋅               ⋅    \n",
       "          ⋅               ⋅                  ⋅               ⋅    \n",
       "          ⋅               ⋅                  ⋅               ⋅    \n",
       "          ⋅               ⋅      …           ⋅               ⋅    \n",
       "          ⋅               ⋅                  ⋅               ⋅    \n",
       "          ⋅               ⋅         0.015625-0.0im           ⋅    \n",
       "          ⋅               ⋅                  ⋅      0.015625-0.0im"
      ]
     },
     "metadata": {},
     "output_type": "display_data"
    }
   ],
   "source": [
    "mdm = qt.maximally_mixed_dm(test.Ĥ.dims)"
   ]
  },
  {
   "cell_type": "code",
   "execution_count": 93,
   "metadata": {},
   "outputs": [
    {
     "name": "stdout",
     "output_type": "stream",
     "text": [
      "Progress: [==============================] 100.0% --- Elapsed Time: 0h 00m 00s (ETA: 0h 00m 00s)\n"
     ]
    },
    {
     "data": {
      "text/plain": [
       "Solution of time evolution\n",
       "(return code: Success)\n",
       "--------------------------\n",
       "num_states = 100\n",
       "num_expect = 0\n",
       "ODE alg.: OrdinaryDiffEqTsit5.Tsit5{typeof(OrdinaryDiffEqCore.trivial_limiter!), typeof(OrdinaryDiffEqCore.trivial_limiter!), Static.False}(OrdinaryDiffEqCore.trivial_limiter!, OrdinaryDiffEqCore.trivial_limiter!, static(false))\n",
       "abstol = 1.0e-8\n",
       "reltol = 1.0e-6\n"
      ]
     },
     "metadata": {},
     "output_type": "display_data"
    }
   ],
   "source": [
    "tlist = collect(LinRange(0.0, Real(1/ν), 100));\n",
    "I = qt.eye(64, dims = test.Ĥ.dims)\n",
    "L = qt.liouvillian(test.Ĥ)\n",
    "meres = qt.mesolve(L, mdm, tlist, H_t = Lₜ)"
   ]
  },
  {
   "cell_type": "code",
   "execution_count": 95,
   "metadata": {},
   "outputs": [
    {
     "data": {
      "text/plain": [
       "Quantum Object:   type=Operator   dims=[8, 8]   size=(64, 64)   ishermitian=true\n",
       "64×64 Matrix{ComplexF64}:\n",
       " 0.015625+0.0im       0.0+0.0im  …       0.0+0.0im       0.0+0.0im\n",
       "      0.0+0.0im  0.015625+0.0im          0.0+0.0im       0.0+0.0im\n",
       "      0.0+0.0im       0.0+0.0im          0.0+0.0im       0.0+0.0im\n",
       "      0.0+0.0im       0.0+0.0im          0.0+0.0im       0.0+0.0im\n",
       "      0.0+0.0im       0.0+0.0im          0.0+0.0im       0.0+0.0im\n",
       "      0.0+0.0im       0.0+0.0im  …       0.0+0.0im       0.0+0.0im\n",
       "      0.0+0.0im       0.0+0.0im          0.0+0.0im       0.0+0.0im\n",
       "      0.0+0.0im       0.0+0.0im          0.0+0.0im       0.0+0.0im\n",
       "      0.0+0.0im       0.0+0.0im          0.0+0.0im       0.0+0.0im\n",
       "      0.0+0.0im       0.0+0.0im          0.0+0.0im       0.0+0.0im\n",
       "         ⋮                       ⋱                  \n",
       "      0.0+0.0im       0.0+0.0im  …       0.0+0.0im       0.0+0.0im\n",
       "      0.0+0.0im       0.0+0.0im          0.0+0.0im       0.0+0.0im\n",
       "      0.0+0.0im       0.0+0.0im          0.0+0.0im       0.0+0.0im\n",
       "      0.0+0.0im       0.0+0.0im          0.0+0.0im       0.0+0.0im\n",
       "      0.0+0.0im       0.0+0.0im          0.0+0.0im       0.0+0.0im\n",
       "      0.0+0.0im       0.0+0.0im  …       0.0+0.0im       0.0+0.0im\n",
       "      0.0+0.0im       0.0+0.0im          0.0+0.0im       0.0+0.0im\n",
       "      0.0+0.0im       0.0+0.0im     0.015625+0.0im       0.0+0.0im\n",
       "      0.0+0.0im       0.0+0.0im          0.0+0.0im  0.015625+0.0im"
      ]
     },
     "metadata": {},
     "output_type": "display_data"
    }
   ],
   "source": [
    "meres.states[end]"
   ]
  },
  {
   "cell_type": "code",
   "execution_count": 75,
   "metadata": {},
   "outputs": [
    {
     "name": "stdout",
     "output_type": "stream",
     "text": [
      "Progress: [==============================] 100.0% --- Elapsed Time: 0h 00m 00s (ETA: 0h 00m 00s)\n"
     ]
    },
    {
     "data": {
      "text/plain": [
       "Solution of time evolution\n",
       "(return code: Success)\n",
       "--------------------------\n",
       "num_states = 101\n",
       "num_expect = 0\n",
       "ODE alg.: OrdinaryDiffEqTsit5.Tsit5{typeof(OrdinaryDiffEqCore.trivial_limiter!), typeof(OrdinaryDiffEqCore.trivial_limiter!), Static.False}(OrdinaryDiffEqCore.trivial_limiter!, OrdinaryDiffEqCore.trivial_limiter!, static(false))\n",
       "abstol = 1.0e-8\n",
       "reltol = 1.0e-6\n"
      ]
     },
     "metadata": {},
     "output_type": "display_data"
    }
   ],
   "source": [
    "seres = qt.sesolve(test.Ĥ, ψi, tlist)"
   ]
  },
  {
   "cell_type": "code",
   "execution_count": 57,
   "metadata": {},
   "outputs": [
    {
     "data": {
      "text/plain": [
       "0.9992740896791503 + 1.6653345369377348e-16im"
      ]
     },
     "metadata": {},
     "output_type": "display_data"
    }
   ],
   "source": [
    "a = meres.states[end]\n",
    "b = seres.states[end]\n",
    "\n",
    "b'*a*b"
   ]
  },
  {
   "cell_type": "code",
   "execution_count": 23,
   "metadata": {},
   "outputs": [
    {
     "data": {
      "text/plain": [
       "Union{Nothing, Function}"
      ]
     },
     "metadata": {},
     "output_type": "display_data"
    }
   ],
   "source": []
  },
  {
   "cell_type": "code",
   "execution_count": 30,
   "metadata": {},
   "outputs": [
    {
     "data": {
      "text/plain": [
       "#11 (generic function with 1 method)"
      ]
     },
     "metadata": {},
     "output_type": "display_data"
    }
   ],
   "source": [
    "drive_coef = nothing\n",
    "\n",
    "drive_coef = (drive_coef isa Nothing) ? t->1 : drive_coef\n"
   ]
  },
  {
   "cell_type": "code",
   "execution_count": 53,
   "metadata": {},
   "outputs": [
    {
     "data": {
      "text/plain": [
       "testf (generic function with 4 methods)"
      ]
     },
     "metadata": {},
     "output_type": "display_data"
    }
   ],
   "source": [
    "function testf(t= nothing)\n",
    "    print(\"hi\")\n",
    "end"
   ]
  },
  {
   "cell_type": "code",
   "execution_count": 54,
   "metadata": {},
   "outputs": [
    {
     "name": "stdout",
     "output_type": "stream",
     "text": [
      "hi"
     ]
    }
   ],
   "source": [
    "testf(1)"
   ]
  },
  {
   "cell_type": "code",
   "execution_count": null,
   "metadata": {},
   "outputs": [],
   "source": []
  }
 ],
 "metadata": {
  "kernelspec": {
   "display_name": "Julia 1.10.4",
   "language": "julia",
   "name": "julia-1.10"
  },
  "language_info": {
   "file_extension": ".jl",
   "mimetype": "application/julia",
   "name": "julia",
   "version": "1.10.4"
  }
 },
 "nbformat": 4,
 "nbformat_minor": 2
}
