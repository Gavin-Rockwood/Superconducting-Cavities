{
 "cells": [
  {
   "cell_type": "markdown",
   "metadata": {},
   "source": [
    "# Setup"
   ]
  },
  {
   "cell_type": "markdown",
   "metadata": {},
   "source": [
    "## Imports"
   ]
  },
  {
   "cell_type": "code",
   "execution_count": 4,
   "metadata": {},
   "outputs": [],
   "source": [
    "import QuantumOptics as qo\n",
    "using Logging\n",
    "\n",
    "using LinearAlgebra\n",
    "using SparseArrays\n",
    "import CairoMakie as cm\n",
    "\n",
    "using ProtoStructs\n",
    "\n",
    "import QuantumOptics.⊗\n",
    "import QuantumOptics.*\n",
    "\n",
    "import CSV\n",
    "using JSON\n",
    "import Tables\n",
    "\n",
    "using YAXArrays\n",
    "\n",
    "using MiniLoggers\n",
    "using Dates\n",
    "using Revise"
   ]
  },
  {
   "cell_type": "code",
   "execution_count": 5,
   "metadata": {},
   "outputs": [],
   "source": [
    "import SuperconductingCavities as SC"
   ]
  },
  {
   "cell_type": "markdown",
   "metadata": {},
   "source": [
    "## Some Extra Stuff"
   ]
  },
  {
   "cell_type": "code",
   "execution_count": 6,
   "metadata": {},
   "outputs": [],
   "source": [
    "# MiniLogger(minlevel = MiniLoggers.Info) |> global_logger\n",
    "InfoLogger = MiniLogger(minlevel = MiniLoggers.Info)\n",
    "ProgressLogger = MiniLogger(minlevel = LogLevel(-1))\n",
    "DebugLogger = MiniLogger(minlevel = MiniLoggers.Debug)\n",
    "\n",
    "global_logger(ProgressLogger)"
   ]
  },
  {
   "cell_type": "code",
   "execution_count": null,
   "metadata": {},
   "outputs": [],
   "source": [
    "function tostr(obj)\n",
    "    io = IOBuffer()\n",
    "    show(io, \"text/plain\", obj)\n",
    "    String(take!(io))\n",
    "end"
   ]
  },
  {
   "cell_type": "markdown",
   "metadata": {},
   "source": [
    "# Example"
   ]
  },
  {
   "cell_type": "markdown",
   "metadata": {},
   "source": [
    "## Initializing Models"
   ]
  },
  {
   "cell_type": "markdown",
   "metadata": {},
   "source": [
    "### Creating Model From Scratch"
   ]
  },
  {
   "cell_type": "markdown",
   "metadata": {},
   "source": [
    "#### One Mode"
   ]
  },
  {
   "cell_type": "code",
   "execution_count": 11,
   "metadata": {},
   "outputs": [],
   "source": [
    "Eᶜ = 0.10283303447280807;\n",
    "Eʲ = 26.96976142643705;\n",
    "Eᵒˢᶜ = 6.2280871213;\n",
    "g = 0.026184375000000013;\n",
    "name = \"transmon\";\n",
    "ng  =  0;\n",
    "N=10;\n",
    "N_cut = 60;\n",
    "\n",
    "OneMode = SC.Transmon_Resonators_Constructor(Eᶜ, Eʲ, [Eᵒˢᶜ], [g], N, [N], Cavity_Names = [\"Mode 3\"]);"
   ]
  },
  {
   "cell_type": "markdown",
   "metadata": {},
   "source": [
    "#### Two Mode"
   ]
  },
  {
   "cell_type": "code",
   "execution_count": 12,
   "metadata": {},
   "outputs": [],
   "source": [
    "Eᶜ = 0.10283303447280807;\n",
    "Eʲ = 26.96976142643705;\n",
    "Eᵒˢᶜs = [6.2280871213, 6.72062927579];\n",
    "gs = [0.026184375000000013, 0.03020625000000001];\n",
    "name = \"transmon\";\n",
    "ng  =  0;\n",
    "Nₜ =10;\n",
    "Nᵣs = [6, 6]\n",
    "N_cut = 60;\n",
    "\n",
    "\n",
    "TwoModes = SC.Transmon_Resonators_Constructor(Eᶜ, Eʲ, Eᵒˢᶜs, gs, Nₜ, Nᵣs, Cavity_Names = [\"Mode 3\", \"Mode 5\"]);"
   ]
  },
  {
   "cell_type": "markdown",
   "metadata": {},
   "source": [
    "### Importing Model"
   ]
  },
  {
   "cell_type": "code",
   "execution_count": null,
   "metadata": {},
   "outputs": [],
   "source": [
    "Mode3 = SC.Transmon_Resonators_Loader(\"ModelSaves/Mode_3/Mode_3.json\");"
   ]
  },
  {
   "cell_type": "code",
   "execution_count": null,
   "metadata": {},
   "outputs": [],
   "source": [
    "Mode3.Stuff[\"op_drive_params\"][\"sb_f_0_Main\"]"
   ]
  },
  {
   "cell_type": "markdown",
   "metadata": {},
   "source": [
    "## Time Evolving Wavefunctions"
   ]
  },
  {
   "cell_type": "markdown",
   "metadata": {},
   "source": [
    "### Running A Single Pulse"
   ]
  },
  {
   "cell_type": "code",
   "execution_count": 21,
   "metadata": {},
   "outputs": [
    {
     "name": "stdout",
     "output_type": "stream",
     "text": [
      "[\u001b[36m2024-09-01 18:02:32\u001b[39m] \u001b[36mInfo\u001b[39m: Running Time Evolution\n",
      "[\u001b[34m2024-09-01 18:02:32\u001b[39m] \u001b[34mLogLevel(-1)\u001b[39m: ODE progress = 0\n",
      "[\u001b[34m2024-09-01 18:02:32\u001b[39m] \u001b[34mLogLevel(-1)\u001b[39m: ODE message = dt=0.0010432581424918218\tt=1.0419916278610004\tmax u=-0.4512538658823686 - 0.8923725857046029im, progress = 0.010399118042524955\n",
      "[\u001b[34m2024-09-01 18:02:33\u001b[39m] \u001b[34mLogLevel(-1)\u001b[39m: ODE message = dt=0.0010432591097843593\tt=2.0852500959849563\tmax u=-0.7382805949277542 + 0.674420209921304im, progress = 0.02081087920144667\n",
      "[\u001b[34m2024-09-01 18:02:34\u001b[39m] \u001b[34mLogLevel(-1)\u001b[39m: ODE message = dt=0.001043258764323398\tt=3.128509125898927\tmax u=0.8479033027523399 + 0.5299575367499055im, progress = 0.03122264596705516\n",
      "[\u001b[34m2024-09-01 18:02:35\u001b[39m] \u001b[34mLogLevel(-1)\u001b[39m: ODE message = dt=0.0010432606298179875\tt=4.171768857930078\tmax u=0.2827994955471448 - 0.9589923961793032im, progress = 0.04163441973982114\n",
      "[\u001b[34m2024-09-01 18:02:35\u001b[39m] \u001b[34mLogLevel(-1)\u001b[39m: ODE message = dt=0.001043261182558991\tt=5.215029448988226\tmax u=-0.9995964417054138 - 0.015046979091596932im, progress = 0.052046202085710834\n",
      "[\u001b[34m2024-09-01 18:02:36\u001b[39m] \u001b[34mLogLevel(-1)\u001b[39m: ODE message = dt=0.0010432616662086535\tt=6.258291359645463\tmax u=0.253548879687828 + 0.9668654223003177im, progress = 0.06245799760125212\n",
      "[\u001b[34m2024-09-01 18:02:37\u001b[39m] \u001b[34mLogLevel(-1)\u001b[39m: ODE message = dt=0.0010432668481619646\tt=7.301554967841293\tmax u=0.8634158242438086 - 0.5032365178934967im, progress = 0.07286981005829633\n",
      "[\u001b[34m2024-09-01 18:02:38\u001b[39m] \u001b[34mLogLevel(-1)\u001b[39m: ODE message = dt=0.0010432652590336017\tt=8.34482112770505\tmax u=-0.7157131272457146 - 0.697116206017228im, progress = 0.08328164798108832\n",
      "[\u001b[34m2024-09-01 18:02:38\u001b[39m] \u001b[34mLogLevel(-1)\u001b[39m: ODE message = dt=0.0010432736192960872\tt=9.388090957170718\tmax u=-0.4805517382305862 + 0.8755946673604835im, progress = 0.09369352252665387\n",
      "[\u001b[34m2024-09-01 18:02:39\u001b[39m] \u001b[34mLogLevel(-1)\u001b[39m: ODE message = dt=0.0010432785940377534\tt=10.431365635332853\tmax u=0.9715594561714771 + 0.22996755258844562im, progress = 0.10410544546240372\n",
      "[\u001b[34m2024-09-01 18:02:40\u001b[39m] \u001b[34mLogLevel(-1)\u001b[39m: ODE message = dt=0.0010432823942124387\tt=11.474647512720646\tmax u=-0.03592595421029226 - 0.9972695514293859im, progress = 0.11451744024671302\n",
      "[\u001b[34m2024-09-01 18:02:41\u001b[39m] \u001b[34mLogLevel(-1)\u001b[39m: ODE message = dt=0.001043302777127638\tt=12.517938661325\tmax u=-0.9519226273226186 + 0.2975833425902835im, progress = 0.12492952755813372\n",
      "[\u001b[34m2024-09-01 18:02:41\u001b[39m] \u001b[34mLogLevel(-1)\u001b[39m: ODE message = dt=0.0010433056791671685\tt=13.561242462341314\tmax u=0.5361404130987201 + 0.8401414960751318im, progress = 0.13534174114113087\n",
      "[\u001b[34m2024-09-01 18:02:42\u001b[39m] \u001b[34mLogLevel(-1)\u001b[39m: ODE message = dt=0.0010433330413572872\tt=14.604563232798396\tmax u=0.6717441113748311 - 0.7351299517977485im, progress = 0.1457541240798243\n",
      "[\u001b[34m2024-09-01 18:02:43\u001b[39m] \u001b[34mLogLevel(-1)\u001b[39m: ODE message = dt=0.001043358469512356\tt=15.647905314880887\tmax u=-0.8818217450666102 - 0.4605523341297068im, progress = 0.15616671970939008\n",
      "[\u001b[34m2024-09-01 18:02:44\u001b[39m] \u001b[34mLogLevel(-1)\u001b[39m: ODE message = dt=0.0010433775410749037\tt=16.691275944388423\tmax u=-0.22325180363704006 + 0.9682668781646279im, progress = 0.16657960024339744\n",
      "[\u001b[34m2024-09-01 18:02:45\u001b[39m] \u001b[34mLogLevel(-1)\u001b[39m: ODE message = dt=0.0010434391803621481\tt=17.734681986993852\tmax u=0.9921203283407153 - 0.022408228567388434im, progress = 0.17699283420153544\n",
      "[\u001b[34m2024-09-01 18:02:46\u001b[39m] \u001b[34mLogLevel(-1)\u001b[39m: ODE message = dt=0.0010434672372176769\tt=18.778132863529436\tmax u=-0.2593083970832889 - 0.9562485293174302im, progress = 0.1874065156040862\n",
      "[\u001b[34m2024-09-01 18:02:47\u001b[39m] \u001b[34mLogLevel(-1)\u001b[39m: ODE message = dt=0.0010435408380174349\tt=19.821640488760288\tmax u=-0.8687328860578042 + 0.47269852963143555im, progress = 0.1978207633608811\n",
      "[\u001b[34m2024-09-01 18:02:47\u001b[39m] \u001b[34mLogLevel(-1)\u001b[39m: ODE message = dt=0.0010436261247092457\tt=20.865216515929493\tmax u=0.6516437230269712 + 0.7412820199518634im, progress = 0.2082356937717514\n",
      "[\u001b[34m2024-09-01 18:02:48\u001b[39m] \u001b[34mLogLevel(-1)\u001b[39m: ODE message = dt=0.0010436906128330043\tt=21.9088783517663\tmax u=0.5880225537223124 - 0.7897021554177601im, progress = 0.2186514805565499\n",
      "[\u001b[34m2024-09-01 18:02:49\u001b[39m] \u001b[34mLogLevel(-1)\u001b[39m: ODE message = dt=0.0010438437963834122\tt=22.95264321663299\tmax u=-0.8857754136864744 - 0.42394704187883686im, progress = 0.22906829557517952\n",
      "[\u001b[34m2024-09-01 18:02:50\u001b[39m] \u001b[34mLogLevel(-1)\u001b[39m: ODE message = dt=0.0010439483282422986\tt=23.996532019183693\tmax u=-0.2630282560421938 + 0.9429438051381229im, progress = 0.23948634749684325\n",
      "[\u001b[34m2024-09-01 18:02:50\u001b[39m] \u001b[34mLogLevel(-1)\u001b[39m: ODE message = dt=0.0010441153103916121\tt=25.04057120460746\tmax u=0.9684477946678228 + 0.11753061829856508im, progress = 0.24990590024558343\n",
      "[\u001b[34m2024-09-01 18:02:51\u001b[39m] \u001b[34mLogLevel(-1)\u001b[39m: ODE message = dt=0.00104433889386228\tt=26.084786039120743\tmax u=-0.003014766230093471 - 0.9718354190390766im, progress = 0.2603272059792489\n",
      "[\u001b[34m2024-09-01 18:02:52\u001b[39m] \u001b[34mLogLevel(-1)\u001b[39m: ODE message = dt=0.0010445085673787948\tt=27.129210903110092\tmax u=-0.9631562390831915 + 0.0913356891974225im, progress = 0.27075060781546995\n",
      "[\u001b[34m2024-09-01 18:02:53\u001b[39m] \u001b[34mLogLevel(-1)\u001b[39m: ODE message = dt=0.0010448285521261812\tt=28.17388149644211\tmax u=0.1420074774386137 + 0.9523501563293701im, progress = 0.2811764620403404\n",
      "[\u001b[34m2024-09-01 18:02:53\u001b[39m] \u001b[34mLogLevel(-1)\u001b[39m: ODE message = dt=0.0010451163802511108\tt=29.218836593744978\tmax u=0.9458302737019939 - 0.14991275298139597im, progress = 0.2916051556261974\n",
      "[\u001b[34m2024-09-01 18:02:54\u001b[39m] \u001b[34mLogLevel(-1)\u001b[39m: ODE message = dt=0.001045439182590182\tt=30.264125604083407\tmax u=-0.10917888426019999 - 0.9454959271121284im, progress = 0.3020371816774791\n",
      "[\u001b[34m2024-09-01 18:02:55\u001b[39m] \u001b[34mLogLevel(-1)\u001b[39m: ODE message = dt=0.0010459241613693122\tt=31.309795754486352\tmax u=-0.9455463524639179 + 0.012802945951501946im, progress = 0.3124730115218199\n",
      "[\u001b[34m2024-09-01 18:02:56\u001b[39m] \u001b[34mLogLevel(-1)\u001b[39m: ODE message = dt=0.0010463195551539313\tt=32.355904384274055\tmax u=-0.14571109992707812 + 0.9271536693191882im, progress = 0.32291321740792467\n",
      "[\u001b[34m2024-09-01 18:02:57\u001b[39m] \u001b[34mLogLevel(-1)\u001b[39m: ODE message = dt=0.0010468725390725862\tt=33.40251607917252\tmax u=0.8564556275444429 + 0.36496969785199257im, progress = 0.3333584439039174\n",
      "[\u001b[34m2024-09-01 18:02:57\u001b[39m] \u001b[34mLogLevel(-1)\u001b[39m: ODE message = dt=0.0010475356313137353\tt=34.44969413849492\tmax u=0.6208807141446128 - 0.6828470762640908im, progress = 0.34380932273947024\n",
      "[\u001b[34m2024-09-01 18:02:58\u001b[39m] \u001b[34mLogLevel(-1)\u001b[39m: ODE message = dt=0.0010481188979151004\tt=35.49751682011991\tmax u=-0.3542597555675678 - 0.8422649363898402im, progress = 0.3542666349313364\n",
      "[\u001b[34m2024-09-01 18:02:59\u001b[39m] \u001b[34mLogLevel(-1)\u001b[39m: ODE message = dt=0.0010489469922511918\tt=36.54606553840427\tmax u=-0.8942362188399092 - 0.13398437150502604im, progress = 0.3647311929980466\n",
      "[\u001b[34m2024-09-01 18:03:00\u001b[39m] \u001b[34mLogLevel(-1)\u001b[39m: ODE message = dt=0.001049845545601656\tt=37.595423732961216\tmax u=-0.6545420602144435 + 0.6089211217435805im, progress = 0.3752038296702716\n",
      "[\u001b[34m2024-09-01 18:03:01\u001b[39m] \u001b[34mLogLevel(-1)\u001b[39m: ODE message = dt=0.001050691774537625\tt=38.64569151319602\tmax u=-0.056471168865099126 + 0.8807344628922694im, progress = 0.38568554404387245\n",
      "[\u001b[34m2024-09-01 18:03:02\u001b[39m] \u001b[34mLogLevel(-1)\u001b[39m: ODE message = dt=0.00105182369448212\tt=39.69697096981861\tmax u=0.4455339269883298 + 0.7481763832784909im, progress = 0.39617735498820966\n",
      "[\u001b[34m2024-09-01 18:03:02\u001b[39m] \u001b[34mLogLevel(-1)\u001b[39m: ODE message = dt=0.0010530633244872428\tt=40.74936780477287\tmax u=0.7053662034153484 + 0.4890431671848554im, progress = 0.40668031741290284\n",
      "[\u001b[34m2024-09-01 18:03:03\u001b[39m] \u001b[34mLogLevel(-1)\u001b[39m: ODE message = dt=0.001054244857656416\tt=41.803004701791544\tmax u=0.7871697414939967 + 0.3058855968421529im, progress = 0.4171956557065024\n",
      "[\u001b[34m2024-09-01 18:03:04\u001b[39m] \u001b[34mLogLevel(-1)\u001b[39m: ODE message = dt=0.0010556843449562074\tt=42.858009370320445\tmax u=0.7809394002477317 + 0.28177021185871015im, progress = 0.4277246444143757\n",
      "[\u001b[34m2024-09-01 18:03:05\u001b[39m] \u001b[34mLogLevel(-1)\u001b[39m: ODE message = dt=0.0010573741554399819\tt=43.914511805625516\tmax u=0.6934100533649427 + 0.429261847857857im, progress = 0.4382685808944662\n",
      "[\u001b[34m2024-09-01 18:03:05\u001b[39m] \u001b[34mLogLevel(-1)\u001b[39m: ODE message = dt=0.0010590520123716458\tt=44.97265663522598\tmax u=0.42046691862820124 + 0.6801525898216787im, progress = 0.4488289085351894\n",
      "[\u001b[34m2024-09-01 18:03:06\u001b[39m] \u001b[34mLogLevel(-1)\u001b[39m: ODE message = dt=0.00106081416526539\tt=46.03260046728877\tmax u=-0.1456362204396257 + 0.7689952063351463im, progress = 0.4594071902923031\n",
      "[\u001b[34m2024-09-01 18:03:07\u001b[39m] \u001b[34mLogLevel(-1)\u001b[39m: ODE message = dt=0.0010628812598824414\tt=47.09450404947052\tmax u=-0.7216043172636208 + 0.25498821135701094im, progress = 0.4700050304338375\n",
      "[\u001b[34m2024-09-01 18:03:08\u001b[39m] \u001b[34mLogLevel(-1)\u001b[39m: ODE message = dt=0.0010652112561225784\tt=48.158535866531814\tmax u=-0.3821482406892618 - 0.6425322675565377im, progress = 0.48062411044442926\n",
      "[\u001b[34m2024-09-01 18:03:08\u001b[39m] \u001b[34mLogLevel(-1)\u001b[39m: ODE message = dt=0.0010676559528658327\tt=49.22487744651775\tmax u=0.678236732899706 - 0.2671970483569518im, progress = 0.4912662419812151\n",
      "[\u001b[34m2024-09-01 18:03:09\u001b[39m] \u001b[34mLogLevel(-1)\u001b[39m: ODE message = dt=0.0010701989632874893\tt=50.29372227548222\tmax u=-0.12255175617334982 + 0.6987105954059256im, progress = 0.5019333560427367\n",
      "[\u001b[34m2024-09-01 18:03:10\u001b[39m] \u001b[34mLogLevel(-1)\u001b[39m: ODE message = dt=0.0010729258726577626\tt=51.36527316295917\tmax u=-0.20725493860076896 - 0.6927109707532297im, progress = 0.5126274766762392\n",
      "[\u001b[34m2024-09-01 18:03:11\u001b[39m] \u001b[34mLogLevel(-1)\u001b[39m: ODE message = dt=0.001075904248525833\tt=52.439742236202264\tmax u=0.08060047815329463 + 0.7379035139719957im, progress = 0.5233507209201823\n",
      "[\u001b[34m2024-09-01 18:03:11\u001b[39m] \u001b[34mLogLevel(-1)\u001b[39m: ODE message = dt=0.0010791487949244898\tt=53.51735227604577\tmax u=0.3436109197979309 - 0.6788334009582944im, progress = 0.5341053121361853\n",
      "[\u001b[34m2024-09-01 18:03:12\u001b[39m] \u001b[34mLogLevel(-1)\u001b[39m: ODE message = dt=0.0010826495353098774\tt=54.59833750603902\tmax u=-0.7748435010643372 + 0.0775990206873706im, progress = 0.544893587884621\n",
      "[\u001b[34m2024-09-01 18:03:13\u001b[39m] \u001b[34mLogLevel(-1)\u001b[39m: ODE message = dt=0.001086399184027227\tt=55.68294368805354\tmax u=0.1676605829448156 + 0.7780718585127747im, progress = 0.5557180008787779\n",
      "[\u001b[34m2024-09-01 18:03:14\u001b[39m] \u001b[34mLogLevel(-1)\u001b[39m: ODE message = dt=0.0010904028458925742\tt=56.77142795045255\tmax u=0.8015975700867054 + 0.13238674179311202im, progress = 0.5665811172699855\n",
      "[\u001b[34m2024-09-01 18:03:15\u001b[39m] \u001b[34mLogLevel(-1)\u001b[39m: ODE message = dt=0.001094682080004332\tt=57.864058678928856\tmax u=0.7232102745751595 - 0.40366517889543696im, progress = 0.5774856155581722\n",
      "[\u001b[34m2024-09-01 18:03:15\u001b[39m] \u001b[34mLogLevel(-1)\u001b[39m: ODE message = dt=0.0010992796154831194\tt=58.96111556071883\tmax u=0.6840276747529921 - 0.49303651137798044im, progress = 0.5884342870331221\n",
      "[\u001b[34m2024-09-01 18:03:16\u001b[39m] \u001b[34mLogLevel(-1)\u001b[39m: ODE message = dt=0.001104238441861378\tt=60.06288978161788\tmax u=0.8481503078731106 - 0.1248480930938179im, progress = 0.5994300377406975\n",
      "[\u001b[34m2024-09-01 18:03:17\u001b[39m] \u001b[34mLogLevel(-1)\u001b[39m: ODE message = dt=0.001109511830613552\tt=61.169683302716905\tmax u=0.4965356865324138 + 0.71520928663808im, progress = 0.6104758812646397\n",
      "[\u001b[34m2024-09-01 18:03:17\u001b[39m] \u001b[34mLogLevel(-1)\u001b[39m: ODE message = dt=0.0011149263240830248\tt=62.28180500314744\tmax u=-0.8149435821976839 + 0.3414773910729748im, progress = 0.6215749002310124\n",
      "[\u001b[34m2024-09-01 18:03:18\u001b[39m] \u001b[34mLogLevel(-1)\u001b[39m: ODE message = dt=0.0011205760573194375\tt=63.39956819137994\tmax u=0.44818559922025014 - 0.7755275099159756im, progress = 0.6327302214708577\n",
      "[\u001b[34m2024-09-01 18:03:19\u001b[39m] \u001b[34mLogLevel(-1)\u001b[39m: ODE message = dt=0.001126883308324205\tt=64.52330096883927\tmax u=-0.5308764343139643 + 0.734861255286744im, progress = 0.6439451194494936\n",
      "[\u001b[34m2024-09-01 18:03:20\u001b[39m] \u001b[34mLogLevel(-1)\u001b[39m: ODE message = dt=0.001133296384953759\tt=65.65333667614415\tmax u=0.9159076427641242 - 0.04629866905722779im, progress = 0.6552229209196023\n",
      "[\u001b[34m2024-09-01 18:03:21\u001b[39m] \u001b[34mLogLevel(-1)\u001b[39m: ODE message = dt=0.001140047476498567\tt=66.78999316443354\tmax u=0.09950496069848429 - 0.9212580958359076im, progress = 0.6665667980482389\n",
      "[\u001b[34m2024-09-01 18:03:22\u001b[39m] \u001b[34mLogLevel(-1)\u001b[39m: ODE message = dt=0.001147205086281028\tt=67.93361067894922\tmax u=-0.3893471563471353 - 0.8505962534048905im, progress = 0.6779801464964992\n",
      "[\u001b[34m2024-09-01 18:03:22\u001b[39m] \u001b[34mLogLevel(-1)\u001b[39m: ODE message = dt=0.0011546790769219484\tt=69.08449479743801\tmax u=-0.04782171234855442 - 0.9422140331095349im, progress = 0.6894660159424951\n",
      "[\u001b[34m2024-09-01 18:03:23\u001b[39m] \u001b[34mLogLevel(-1)\u001b[39m: ODE message = dt=0.001162238013117696\tt=70.2429616407555\tmax u=0.9116469967575633 - 0.2706599181624576im, progress = 0.701027561284985\n",
      "[\u001b[34m2024-09-01 18:03:24\u001b[39m] \u001b[34mLogLevel(-1)\u001b[39m: ODE message = dt=0.0011703480444910696\tt=71.4092908165241\tmax u=-0.4280368022813319 + 0.8565757933791083im, progress = 0.7126675730192026\n",
      "[\u001b[34m2024-09-01 18:03:24\u001b[39m] \u001b[34mLogLevel(-1)\u001b[39m: ODE message = dt=0.001178668826354411\tt=72.58373300349224\tmax u=0.5954720956232834 - 0.7574311316725224im, progress = 0.7243885529290642\n",
      "[\u001b[34m2024-09-01 18:03:25\u001b[39m] \u001b[34mLogLevel(-1)\u001b[39m: ODE message = dt=0.0011870846148829418\tt=73.76650384320433\tmax u=-0.9111310763989702 - 0.32937706249769155im, progress = 0.7361926531257917\n",
      "[\u001b[34m2024-09-01 18:03:26\u001b[39m] \u001b[34mLogLevel(-1)\u001b[39m: ODE message = dt=0.0011956216199534666\tt=74.95776455691902\tmax u=-0.8660939398783662 + 0.44477595541369674im, progress = 0.7480814826039822\n",
      "[\u001b[34m2024-09-01 18:03:27\u001b[39m] \u001b[34mLogLevel(-1)\u001b[39m: ODE message = dt=0.0012042333373632815\tt=76.15760994086062\tmax u=-0.9553481907095186 + 0.20855117909957327im, progress = 0.7600559874337387\n",
      "[\u001b[34m2024-09-01 18:03:27\u001b[39m] \u001b[34mLogLevel(-1)\u001b[39m: ODE message = dt=0.0012127921372133389\tt=77.36605558334956\tmax u=-0.4211524894070717 - 0.8866237554753852im, progress = 0.7721163231871214\n",
      "[\u001b[34m2024-09-01 18:03:28\u001b[39m] \u001b[34mLogLevel(-1)\u001b[39m: ODE message = dt=0.0012211468749827926\tt=78.58302332580317\tmax u=0.9067037884540172 + 0.384410119508293im, progress = 0.784261709838355\n",
      "[\u001b[34m2024-09-01 18:03:29\u001b[39m] \u001b[34mLogLevel(-1)\u001b[39m: ODE message = dt=0.0012293258068970339\tt=79.80833012998386\tmax u=-0.7394460439027026 - 0.6546092455732858im, progress = 0.7964903206585215\n",
      "[\u001b[34m2024-09-01 18:03:30\u001b[39m] \u001b[34mLogLevel(-1)\u001b[39m: ODE message = dt=0.0012373059573631653\tt=81.04168423339534\tmax u=-0.46633297951296987 + 0.8731262023242479im, progress = 0.8087992438462609\n",
      "[\u001b[34m2024-09-01 18:03:30\u001b[39m] \u001b[34mLogLevel(-1)\u001b[39m: ODE message = dt=0.0012445885936731948\tt=82.2826705162734\tmax u=0.34331602000340455 + 0.9305804738127704im, progress = 0.8211843364897544\n",
      "[\u001b[34m2024-09-01 18:03:31\u001b[39m] \u001b[34mLogLevel(-1)\u001b[39m: ODE message = dt=0.001251467612319459\tt=83.53075713354737\tmax u=0.2968340387831118 + 0.948097187339066im, progress = 0.8336402907539657\n",
      "[\u001b[34m2024-09-01 18:03:32\u001b[39m] \u001b[34mLogLevel(-1)\u001b[39m: ODE message = dt=0.0012575092199470592\tt=84.78531147232609\tmax u=-0.5291641940650125 + 0.8424596612263153im, progress = 0.8461607931369869\n",
      "[\u001b[34m2024-09-01 18:03:33\u001b[39m] \u001b[34mLogLevel(-1)\u001b[39m: ODE message = dt=0.0012629382167470336\tt=86.0456065134316\tmax u=-0.8346269198073507 - 0.5433540740046187im, progress = 0.8587385879583991\n",
      "[\u001b[34m2024-09-01 18:03:33\u001b[39m] \u001b[34mLogLevel(-1)\u001b[39m: ODE message = dt=0.0012674422816672257\tt=87.31085378772973\tmax u=0.934974561079317 - 0.34549891586047915im, progress = 0.8713658062647677\n",
      "[\u001b[34m2024-09-01 18:03:34\u001b[39m] \u001b[34mLogLevel(-1)\u001b[39m: ODE message = dt=0.0012711447113638178\tt=88.58023223459281\tmax u=-0.7195854640216698 + 0.6907051863940025im, progress = 0.8840342538382516\n",
      "[\u001b[34m2024-09-01 18:03:35\u001b[39m] \u001b[34mLogLevel(-1)\u001b[39m: ODE message = dt=0.0012740767892933545\tt=89.85291578118243\tmax u=0.7234890270679026 - 0.6872986174981444im, progress = 0.8967356864389464\n",
      "[\u001b[34m2024-09-01 18:03:36\u001b[39m] \u001b[34mLogLevel(-1)\u001b[39m: ODE message = dt=0.001276209813936985\tt=91.12810974673468\tmax u=-0.9037932612423824 + 0.4238457083212527im, progress = 0.9094621731211046\n",
      "[\u001b[34m2024-09-01 18:03:36\u001b[39m] \u001b[34mLogLevel(-1)\u001b[39m: ODE message = dt=0.0012776242803148826\tt=92.40507730041963\tmax u=0.9928693179899984 + 0.10565950119063555im, progress = 0.922206360283629\n",
      "[\u001b[34m2024-09-01 18:03:37\u001b[39m] \u001b[34mLogLevel(-1)\u001b[39m: ODE message = dt=0.001278434459937943\tt=93.68316037148537\tmax u=-0.7021626986696816 - 0.7100649019780522im, progress = 0.9349616803541454\n",
      "[\u001b[34m2024-09-01 18:03:38\u001b[39m] \u001b[34mLogLevel(-1)\u001b[39m: ODE message = dt=0.0012787437873917932\tt=94.96179529296444\tmax u=0.025311640025163888 + 0.9983404176852065im, progress = 0.9477225079138167\n",
      "[\u001b[34m2024-09-01 18:03:39\u001b[39m] \u001b[34mLogLevel(-1)\u001b[39m: ODE message = dt=0.0012786471622849235\tt=96.24052047176333\tmax u=0.6737227941656029 - 0.737152202541311im, progress = 0.960484236245143\n",
      "[\u001b[34m2024-09-01 18:03:39\u001b[39m] \u001b[34mLogLevel(-1)\u001b[39m: ODE message = dt=0.0012782323752681686\tt=97.51897577059069\tmax u=-0.9937518366742789 + 0.09818465228152579im, progress = 0.9732432711635797\n",
      "[\u001b[34m2024-09-01 18:03:40\u001b[39m] \u001b[34mLogLevel(-1)\u001b[39m: ODE message = dt=0.0012775829904865428\tt=98.79689475013329\tmax u=0.8428775508380912 + 0.5353216086676811im, progress = 0.9859969535941446\n",
      "[\u001b[34m2024-09-01 18:03:41\u001b[39m] \u001b[34mLogLevel(-1)\u001b[39m: ODE message = dt=0.0012767840900078924\tt=100.07409189953607\tmax u=-0.417581101927595 - 0.9068709075496698im, progress = 0.9987434321310985\n",
      "[\u001b[34m2024-09-01 18:03:41\u001b[39m] \u001b[34mLogLevel(-1)\u001b[39m: ODE message = dt=0.0007866830370772959\tt=100.2\tmax u=0.2836638874416353 + 0.9572332318035214im, progress = done\n",
      "[\u001b[36m2024-09-01 18:03:41\u001b[39m] \u001b[36mInfo\u001b[39m: Time Evolution Complete\n",
      "[\u001b[36m2024-09-01 18:03:41\u001b[39m] \u001b[36mInfo\u001b[39m: Getting Overlaps\n",
      "[\u001b[36m2024-09-01 18:03:57\u001b[39m] \u001b[36mInfo\u001b[39m: Done with q_g_0\n"
     ]
    }
   ],
   "source": [
    "ψ = Mode3.dressed_states[(0,0)]\n",
    "SC.RunSingleOperator(Mode3, ψ, Mode3.Stuff[\"op_drive_params\"][\"q_g_0\"], save_step = true, to_return = \"Nothing\", step_name = \"q_g_0\", run_name = \"Single_Op_Demo_\"*string(now()));"
   ]
  },
  {
   "cell_type": "markdown",
   "metadata": {},
   "source": [
    "### Running a Series of Operators"
   ]
  },
  {
   "cell_type": "code",
   "execution_count": 12,
   "metadata": {},
   "outputs": [
    {
     "ename": "UndefVarError",
     "evalue": "UndefVarError: `model` not defined",
     "output_type": "error",
     "traceback": [
      "UndefVarError: `model` not defined\n",
      "\n",
      "Stacktrace:\n",
      " [1] top-level scope\n",
      "   @ ~/Documents/Git Repositories/SuperconductingCavities/Demo/jl_notebook_cell_df34fa98e69747e1a8f8a730347b8e2f_X45sZmlsZQ==.jl:1"
     ]
    }
   ],
   "source": [
    "ψ = Mode3.dressed_states[(0,0)]\n",
    "SC.RunPulseSequence(Mode3, ψ, [\"q_g_0\", \"q_e_0\"])"
   ]
  },
  {
   "cell_type": "markdown",
   "metadata": {},
   "source": [
    "## With Density Matrices"
   ]
  },
  {
   "cell_type": "code",
   "execution_count": 63,
   "metadata": {},
   "outputs": [
    {
     "data": {
      "text/plain": [
       "Dict{Any, Any} with 3 entries:\n",
       "  \"Mode 3 Collapse\"    => Operator(dim=100x100)…\n",
       "  \"Transmon Collapse\"  => Operator(dim=100x100)…\n",
       "  \"Transmon Dephasing\" => Operator(dim=100x100)…"
      ]
     },
     "metadata": {},
     "output_type": "display_data"
    }
   ],
   "source": [
    "Mode3.CandD_Ops"
   ]
  },
  {
   "cell_type": "code",
   "execution_count": 64,
   "metadata": {},
   "outputs": [
    {
     "name": "stdout",
     "output_type": "stream",
     "text": [
      "[\u001b[36m2024-09-01 20:32:54\u001b[39m] \u001b[36mInfo\u001b[39m: Running operator q_g_0\n",
      "[\u001b[36m2024-09-01 20:32:54\u001b[39m] \u001b[36mInfo\u001b[39m: Running Time Evolution\n",
      "[\u001b[34m2024-09-01 20:32:54\u001b[39m] \u001b[34mLogLevel(-1)\u001b[39m: ODE progress = 0\n",
      "[\u001b[34m2024-09-01 20:33:24\u001b[39m] \u001b[34mLogLevel(-1)\u001b[39m: ODE message = dt=0.002230153921423261\tt=2.5717702130572\tmax u=0.9998799958948087 + 9.043977369536986e-15im, progress = 0.025666369391788426\n",
      "[\u001b[34m2024-09-01 20:33:52\u001b[39m] \u001b[34mLogLevel(-1)\u001b[39m: ODE message = dt=0.0020840758645687164\tt=4.71829307410324\tmax u=0.9995778846577051 + 1.3497386220177304e-14im, progress = 0.047088753234563276\n",
      "[\u001b[34m2024-09-01 20:34:20\u001b[39m] \u001b[34mLogLevel(-1)\u001b[39m: ODE message = dt=0.00201073384014774\tt=6.762436886864862\tmax u=0.9990106511042884 + 1.2611209794102074e-14im, progress = 0.06748939008847167\n",
      "[\u001b[34m2024-09-01 20:35:19\u001b[39m] \u001b[34mLogLevel(-1)\u001b[39m: ODE message = dt=0.0019642733022675377\tt=8.748407711717487\tmax u=0.9980731959355491 + 1.2656372087897826e-14im, progress = 0.08730945820077332\n",
      "[\u001b[34m2024-09-01 20:36:06\u001b[39m] \u001b[34mLogLevel(-1)\u001b[39m: ODE message = dt=0.0019315465604094616\tt=10.695442233532683\tmax u=0.9966841858216658 + 1.210160895548201e-14im, progress = 0.106740940454418\n",
      "[\u001b[34m2024-09-01 20:36:44\u001b[39m] \u001b[34mLogLevel(-1)\u001b[39m: ODE message = dt=0.0019070487468400281\tt=12.614180225412236\tmax u=0.9947062714822517 + 1.1413102916586695e-14im, progress = 0.12589002220970294\n",
      "[\u001b[34m2024-09-01 20:37:21\u001b[39m] \u001b[34mLogLevel(-1)\u001b[39m: ODE message = dt=0.0018879746028475546\tt=14.511305388444868\tmax u=0.9919249050039238 + 1.1220051256550163e-14im, progress = 0.14482340707030805\n",
      "[\u001b[34m2024-09-01 20:38:02\u001b[39m] \u001b[34mLogLevel(-1)\u001b[39m: ODE message = dt=0.0018727172851663266\tt=16.391369385304454\tmax u=0.9882444079291076 + 1.1232912024892196e-14im, progress = 0.1635865208114217\n",
      "[\u001b[34m2024-09-01 20:38:42\u001b[39m] \u001b[34mLogLevel(-1)\u001b[39m: ODE message = dt=0.0018602784168469143\tt=18.257651269869882\tmax u=0.9834720291657553 + 1.0201098477533915e-14im, progress = 0.1822120885216555\n",
      "[\u001b[34m2024-09-01 20:39:24\u001b[39m] \u001b[34mLogLevel(-1)\u001b[39m: ODE message = dt=0.0018499935484006262\tt=20.112615387392808\tmax u=0.9773109106716062 + 1.0142884571255932e-14im, progress = 0.20072470446499807\n",
      "[\u001b[34m2024-09-01 20:40:04\u001b[39m] \u001b[34mLogLevel(-1)\u001b[39m: ODE message = dt=0.0018414095619519412\tt=21.958176031696592\tmax u=0.9695201395145868 + 9.10437558173779e-15im, progress = 0.21914347337022547\n",
      "[\u001b[34m2024-09-01 20:40:47\u001b[39m] \u001b[34mLogLevel(-1)\u001b[39m: ODE message = dt=0.001834197729439382\tt=23.795859513914724\tmax u=0.9598233310712982 + 7.98636705151898e-15im, progress = 0.23748362788338048\n",
      "[\u001b[34m2024-09-01 20:41:47\u001b[39m] \u001b[34mLogLevel(-1)\u001b[39m: ODE message = dt=0.0018281109541967327\tt=25.626911356005948\tmax u=0.9479032239410919 + 6.794206777120961e-15im, progress = 0.2557575983633328\n",
      "[\u001b[34m2024-09-01 20:42:25\u001b[39m] \u001b[34mLogLevel(-1)\u001b[39m: ODE message = dt=0.0018229692980617261\tt=27.452365533863528\tmax u=0.9335394314637409 + 6.056037181770375e-15im, progress = 0.27397570393077375\n",
      "[\u001b[34m2024-09-01 20:43:07\u001b[39m] \u001b[34mLogLevel(-1)\u001b[39m: ODE message = dt=0.0018186366139675528\tt=29.273094556941395\tmax u=0.9167221684054837 + 5.200167536871965e-15im, progress = 0.2921466522648842\n",
      "[\u001b[34m2024-09-01 20:43:51\u001b[39m] \u001b[34mLogLevel(-1)\u001b[39m: ODE message = dt=0.0018150061033394152\tt=31.08984345289266\tmax u=0.8971212925683968 + 4.606913995098954e-15im, progress = 0.3102778787713838\n",
      "[\u001b[34m2024-09-01 20:44:36\u001b[39m] \u001b[34mLogLevel(-1)\u001b[39m: ODE message = dt=0.0018119443537870043\tt=32.90325379728311\tmax u=0.8739286493937873 + 4.78499910066901e-15im, progress = 0.328375786400031\n",
      "[\u001b[34m2024-09-01 20:45:14\u001b[39m] \u001b[34mLogLevel(-1)\u001b[39m: ODE message = dt=0.0018093900309318063\tt=34.713883262369485\tmax u=0.8476331132129099 + 2.3127342108937033e-15im, progress = 0.3464459407422104\n",
      "[\u001b[34m2024-09-01 20:46:02\u001b[39m] \u001b[34mLogLevel(-1)\u001b[39m: ODE message = dt=0.0018073332219477362\tt=36.52221422457919\tmax u=0.8186397661485706 - 1.0813262995590374e-16im, progress = 0.364493155933924\n",
      "[\u001b[34m2024-09-01 20:46:50\u001b[39m] \u001b[34mLogLevel(-1)\u001b[39m: ODE message = dt=0.001805618569095349\tt=38.32866583067714\tmax u=0.7854337856674048 - 9.277087103576846e-16im, progress = 0.38252161507661814\n",
      "[\u001b[34m2024-09-01 20:47:30\u001b[39m] \u001b[34mLogLevel(-1)\u001b[39m: ODE message = dt=0.0018042357823982922\tt=40.13359924879618\tmax u=0.7496112478046394 - 1.6749444801258507e-15im, progress = 0.4005349226426764\n",
      "[\u001b[34m2024-09-01 20:48:12\u001b[39m] \u001b[34mLogLevel(-1)\u001b[39m: ODE message = dt=0.0018031953272022213\tt=41.937319234012364\tmax u=0.7110954487740113 - 1.8943900163380272e-15im, progress = 0.4185361200999238\n"
     ]
    },
    {
     "ename": "InterruptException",
     "evalue": "InterruptException:",
     "output_type": "error",
     "traceback": [
      "InterruptException:\n",
      "\n",
      "Stacktrace:\n",
      "  [1] mul!(result::QuantumOpticsBase.Operator{QuantumInterface.CompositeBasis{Vector{Int64}, Tuple{QuantumInterface.NLevelBasis{Int64}, QuantumInterface.FockBasis{Int64}}}, QuantumInterface.CompositeBasis{Vector{Int64}, Tuple{QuantumInterface.NLevelBasis{Int64}, QuantumInterface.FockBasis{Int64}}}, Matrix{ComplexF64}}, a::QuantumOpticsBase.Operator{QuantumInterface.CompositeBasis{Vector{Int64}, Tuple{QuantumInterface.NLevelBasis{Int64}, QuantumInterface.FockBasis{Int64}}}, QuantumInterface.CompositeBasis{Vector{Int64}, Tuple{QuantumInterface.NLevelBasis{Int64}, QuantumInterface.FockBasis{Int64}}}, Matrix{ComplexF64}}, b::QuantumOpticsBase.Operator{QuantumInterface.CompositeBasis{Vector{Int64}, Tuple{QuantumInterface.NLevelBasis{Int64}, QuantumInterface.FockBasis{Int64}}}, QuantumInterface.CompositeBasis{Vector{Int64}, Tuple{QuantumInterface.NLevelBasis{Int64}, QuantumInterface.FockBasis{Int64}}}, Matrix{ComplexF64}}, alpha::ComplexF64, beta::ComplexF64)\n",
      "    @ QuantumOpticsBase ~/.julia/packages/QuantumOpticsBase/bXZS2/src/operators_dense.jl:385\n",
      "  [2] dmaster_h!(drho::QuantumOpticsBase.Operator{QuantumInterface.CompositeBasis{Vector{Int64}, Tuple{QuantumInterface.NLevelBasis{Int64}, QuantumInterface.FockBasis{Int64}}}, QuantumInterface.CompositeBasis{Vector{Int64}, Tuple{QuantumInterface.NLevelBasis{Int64}, QuantumInterface.FockBasis{Int64}}}, Matrix{ComplexF64}}, H::QuantumOpticsBase.Operator{QuantumInterface.CompositeBasis{Vector{Int64}, Tuple{QuantumInterface.NLevelBasis{Int64}, QuantumInterface.FockBasis{Int64}}}, QuantumInterface.CompositeBasis{Vector{Int64}, Tuple{QuantumInterface.NLevelBasis{Int64}, QuantumInterface.FockBasis{Int64}}}, SparseMatrixCSC{ComplexF64, Int64}}, J::Vector{Any}, Jdagger::Vector{QuantumOpticsBase.Operator{QuantumInterface.CompositeBasis{Vector{Int64}, Tuple{QuantumInterface.NLevelBasis{Int64}, QuantumInterface.FockBasis{Int64}}}, QuantumInterface.CompositeBasis{Vector{Int64}, Tuple{QuantumInterface.NLevelBasis{Int64}, QuantumInterface.FockBasis{Int64}}}, Adjoint{ComplexF64, Matrix{ComplexF64}}}}, rates::Nothing, rho::QuantumOpticsBase.Operator{QuantumInterface.CompositeBasis{Vector{Int64}, Tuple{QuantumInterface.NLevelBasis{Int64}, QuantumInterface.FockBasis{Int64}}}, QuantumInterface.CompositeBasis{Vector{Int64}, Tuple{QuantumInterface.NLevelBasis{Int64}, QuantumInterface.FockBasis{Int64}}}, Matrix{ComplexF64}}, drho_cache::QuantumOpticsBase.Operator{QuantumInterface.CompositeBasis{Vector{Int64}, Tuple{QuantumInterface.NLevelBasis{Int64}, QuantumInterface.FockBasis{Int64}}}, QuantumInterface.CompositeBasis{Vector{Int64}, Tuple{QuantumInterface.NLevelBasis{Int64}, QuantumInterface.FockBasis{Int64}}}, Matrix{ComplexF64}})\n",
      "    @ QuantumOptics.timeevolution ~/.julia/packages/QuantumOptics/aaJBj/src/master.jl:300\n",
      "  [3] dmaster_h_dynamic!(drho::QuantumOpticsBase.Operator{QuantumInterface.CompositeBasis{Vector{Int64}, Tuple{QuantumInterface.NLevelBasis{Int64}, QuantumInterface.FockBasis{Int64}}}, QuantumInterface.CompositeBasis{Vector{Int64}, Tuple{QuantumInterface.NLevelBasis{Int64}, QuantumInterface.FockBasis{Int64}}}, Matrix{ComplexF64}}, f::SuperconductingCavities.var\"#20#21\"{Vector{Any}, QuantumOpticsBase.Operator{QuantumInterface.CompositeBasis{Vector{Int64}, Tuple{QuantumInterface.NLevelBasis{Int64}, QuantumInterface.FockBasis{Int64}}}, QuantumInterface.CompositeBasis{Vector{Int64}, Tuple{QuantumInterface.NLevelBasis{Int64}, QuantumInterface.FockBasis{Int64}}}, SparseMatrixCSC{ComplexF64, Int64}}, Float64, Float64, QuantumOpticsBase.Operator{QuantumInterface.CompositeBasis{Vector{Int64}, Tuple{QuantumInterface.NLevelBasis{Int64}, QuantumInterface.FockBasis{Int64}}}, QuantumInterface.CompositeBasis{Vector{Int64}, Tuple{QuantumInterface.NLevelBasis{Int64}, QuantumInterface.FockBasis{Int64}}}, SparseMatrixCSC{ComplexF64, Int64}}, SuperconductingCavities.var\"#envelope#15\"{String, Dict{Symbol, Any}}}, rates::Nothing, rho::QuantumOpticsBase.Operator{QuantumInterface.CompositeBasis{Vector{Int64}, Tuple{QuantumInterface.NLevelBasis{Int64}, QuantumInterface.FockBasis{Int64}}}, QuantumInterface.CompositeBasis{Vector{Int64}, Tuple{QuantumInterface.NLevelBasis{Int64}, QuantumInterface.FockBasis{Int64}}}, Matrix{ComplexF64}}, drho_cache::QuantumOpticsBase.Operator{QuantumInterface.CompositeBasis{Vector{Int64}, Tuple{QuantumInterface.NLevelBasis{Int64}, QuantumInterface.FockBasis{Int64}}}, QuantumInterface.CompositeBasis{Vector{Int64}, Tuple{QuantumInterface.NLevelBasis{Int64}, QuantumInterface.FockBasis{Int64}}}, Matrix{ComplexF64}}, t::Float64)\n",
      "    @ QuantumOptics.timeevolution ~/.julia/packages/QuantumOptics/aaJBj/src/master.jl:410\n",
      "  [4] dmaster_\n",
      "    @ ~/.julia/packages/QuantumOptics/aaJBj/src/master.jl:219 [inlined]\n",
      "  [5] df_\n",
      "    @ ~/.julia/packages/QuantumOptics/aaJBj/src/timeevolution_base.jl:23 [inlined]\n",
      "  [6] Void\n",
      "    @ ~/.julia/packages/SciMLBase/oM6MS/src/utils.jl:482 [inlined]\n",
      "  [7] (::FunctionWrappers.CallWrapper{Nothing})(f::SciMLBase.Void{QuantumOptics.timeevolution.var\"#df_#3\"{QuantumOptics.timeevolution.var\"#dmaster_#35\"{Nothing, SuperconductingCavities.var\"#20#21\"{Vector{Any}, QuantumOpticsBase.Operator{QuantumInterface.CompositeBasis{Vector{Int64}, Tuple{QuantumInterface.NLevelBasis{Int64}, QuantumInterface.FockBasis{Int64}}}, QuantumInterface.CompositeBasis{Vector{Int64}, Tuple{QuantumInterface.NLevelBasis{Int64}, QuantumInterface.FockBasis{Int64}}}, SparseMatrixCSC{ComplexF64, Int64}}, Float64, Float64, QuantumOpticsBase.Operator{QuantumInterface.CompositeBasis{Vector{Int64}, Tuple{QuantumInterface.NLevelBasis{Int64}, QuantumInterface.FockBasis{Int64}}}, QuantumInterface.CompositeBasis{Vector{Int64}, Tuple{QuantumInterface.NLevelBasis{Int64}, QuantumInterface.FockBasis{Int64}}}, SparseMatrixCSC{ComplexF64, Int64}}, SuperconductingCavities.var\"#envelope#15\"{String, Dict{Symbol, Any}}}, QuantumOpticsBase.Operator{QuantumInterface.CompositeBasis{Vector{Int64}, Tuple{QuantumInterface.NLevelBasis{Int64}, QuantumInterface.FockBasis{Int64}}}, QuantumInterface.CompositeBasis{Vector{Int64}, Tuple{QuantumInterface.NLevelBasis{Int64}, QuantumInterface.FockBasis{Int64}}}, Matrix{ComplexF64}}}, QuantumOpticsBase.Operator{QuantumInterface.CompositeBasis{Vector{Int64}, Tuple{QuantumInterface.NLevelBasis{Int64}, QuantumInterface.FockBasis{Int64}}}, QuantumInterface.CompositeBasis{Vector{Int64}, Tuple{QuantumInterface.NLevelBasis{Int64}, QuantumInterface.FockBasis{Int64}}}, Matrix{ComplexF64}}, QuantumOpticsBase.Operator{QuantumInterface.CompositeBasis{Vector{Int64}, Tuple{QuantumInterface.NLevelBasis{Int64}, QuantumInterface.FockBasis{Int64}}}, QuantumInterface.CompositeBasis{Vector{Int64}, Tuple{QuantumInterface.NLevelBasis{Int64}, QuantumInterface.FockBasis{Int64}}}, Matrix{ComplexF64}}}}, arg1::Matrix{ComplexF64}, arg2::Matrix{ComplexF64}, arg3::SciMLBase.NullParameters, arg4::Float64)\n",
      "    @ FunctionWrappers ~/.julia/packages/FunctionWrappers/Q5cBx/src/FunctionWrappers.jl:65\n",
      "  [8] macro expansion\n",
      "    @ ~/.julia/packages/FunctionWrappers/Q5cBx/src/FunctionWrappers.jl:137 [inlined]\n",
      "  [9] do_ccall\n",
      "    @ ~/.julia/packages/FunctionWrappers/Q5cBx/src/FunctionWrappers.jl:125 [inlined]\n",
      " [10] FunctionWrapper\n",
      "    @ ~/.julia/packages/FunctionWrappers/Q5cBx/src/FunctionWrappers.jl:144 [inlined]\n",
      " [11] _call\n",
      "    @ ~/.julia/packages/FunctionWrappersWrappers/9XR0m/src/FunctionWrappersWrappers.jl:12 [inlined]\n",
      " [12] FunctionWrappersWrapper\n",
      "    @ ~/.julia/packages/FunctionWrappersWrappers/9XR0m/src/FunctionWrappersWrappers.jl:10 [inlined]\n",
      " [13] ODEFunction\n",
      "    @ ~/.julia/packages/SciMLBase/oM6MS/src/scimlfunctions.jl:2335 [inlined]\n",
      " [14] perform_step!(integrator::OrdinaryDiffEq.ODEIntegrator{OrdinaryDiffEq.DP5{typeof(OrdinaryDiffEq.trivial_limiter!), typeof(OrdinaryDiffEq.trivial_limiter!), Static.False}, true, Matrix{ComplexF64}, Nothing, Float64, SciMLBase.NullParameters, Float64, Float64, Float64, Float64, Vector{Matrix{ComplexF64}}, SciMLBase.ODESolution{ComplexF64, 3, Vector{Matrix{ComplexF64}}, Nothing, Nothing, Vector{Float64}, Vector{Vector{Matrix{ComplexF64}}}, Nothing, SciMLBase.ODEProblem{Matrix{ComplexF64}, Tuple{Float64, Float64}, true, SciMLBase.NullParameters, SciMLBase.ODEFunction{true, SciMLBase.AutoSpecialize, FunctionWrappersWrappers.FunctionWrappersWrapper{Tuple{FunctionWrappers.FunctionWrapper{Nothing, Tuple{Matrix{ComplexF64}, Matrix{ComplexF64}, SciMLBase.NullParameters, Float64}}, FunctionWrappers.FunctionWrapper{Nothing, Tuple{Matrix{Complex{ForwardDiff.Dual{ForwardDiff.Tag{DiffEqBase.OrdinaryDiffEqTag, ComplexF64}, ComplexF64, 1}}}, Matrix{Complex{ForwardDiff.Dual{ForwardDiff.Tag{DiffEqBase.OrdinaryDiffEqTag, ComplexF64}, ComplexF64, 1}}}, SciMLBase.NullParameters, Float64}}, FunctionWrappers.FunctionWrapper{Nothing, Tuple{Matrix{Complex{ForwardDiff.Dual{ForwardDiff.Tag{DiffEqBase.OrdinaryDiffEqTag, ComplexF64}, ComplexF64, 1}}}, Matrix{ComplexF64}, SciMLBase.NullParameters, ForwardDiff.Dual{ForwardDiff.Tag{DiffEqBase.OrdinaryDiffEqTag, ComplexF64}, ComplexF64, 1}}}, FunctionWrappers.FunctionWrapper{Nothing, Tuple{Matrix{Complex{ForwardDiff.Dual{ForwardDiff.Tag{DiffEqBase.OrdinaryDiffEqTag, ComplexF64}, ComplexF64, 1}}}, Matrix{Complex{ForwardDiff.Dual{ForwardDiff.Tag{DiffEqBase.OrdinaryDiffEqTag, ComplexF64}, ComplexF64, 1}}}, SciMLBase.NullParameters, ForwardDiff.Dual{ForwardDiff.Tag{DiffEqBase.OrdinaryDiffEqTag, ComplexF64}, ComplexF64, 1}}}}, false}, UniformScaling{Bool}, Nothing, Nothing, Nothing, Nothing, Nothing, Nothing, Nothing, Nothing, Nothing, Nothing, Nothing, typeof(SciMLBase.DEFAULT_OBSERVED), Nothing, Nothing, Nothing, Nothing}, @Kwargs{}, SciMLBase.StandardODEProblem}, OrdinaryDiffEq.DP5{typeof(OrdinaryDiffEq.trivial_limiter!), typeof(OrdinaryDiffEq.trivial_limiter!), Static.False}, OrdinaryDiffEq.InterpolationData{SciMLBase.ODEFunction{true, SciMLBase.AutoSpecialize, FunctionWrappersWrappers.FunctionWrappersWrapper{Tuple{FunctionWrappers.FunctionWrapper{Nothing, Tuple{Matrix{ComplexF64}, Matrix{ComplexF64}, SciMLBase.NullParameters, Float64}}, FunctionWrappers.FunctionWrapper{Nothing, Tuple{Matrix{Complex{ForwardDiff.Dual{ForwardDiff.Tag{DiffEqBase.OrdinaryDiffEqTag, ComplexF64}, ComplexF64, 1}}}, Matrix{Complex{ForwardDiff.Dual{ForwardDiff.Tag{DiffEqBase.OrdinaryDiffEqTag, ComplexF64}, ComplexF64, 1}}}, SciMLBase.NullParameters, Float64}}, FunctionWrappers.FunctionWrapper{Nothing, Tuple{Matrix{Complex{ForwardDiff.Dual{ForwardDiff.Tag{DiffEqBase.OrdinaryDiffEqTag, ComplexF64}, ComplexF64, 1}}}, Matrix{ComplexF64}, SciMLBase.NullParameters, ForwardDiff.Dual{ForwardDiff.Tag{DiffEqBase.OrdinaryDiffEqTag, ComplexF64}, ComplexF64, 1}}}, FunctionWrappers.FunctionWrapper{Nothing, Tuple{Matrix{Complex{ForwardDiff.Dual{ForwardDiff.Tag{DiffEqBase.OrdinaryDiffEqTag, ComplexF64}, ComplexF64, 1}}}, Matrix{Complex{ForwardDiff.Dual{ForwardDiff.Tag{DiffEqBase.OrdinaryDiffEqTag, ComplexF64}, ComplexF64, 1}}}, SciMLBase.NullParameters, ForwardDiff.Dual{ForwardDiff.Tag{DiffEqBase.OrdinaryDiffEqTag, ComplexF64}, ComplexF64, 1}}}}, false}, UniformScaling{Bool}, Nothing, Nothing, Nothing, Nothing, Nothing, Nothing, Nothing, Nothing, Nothing, Nothing, Nothing, typeof(SciMLBase.DEFAULT_OBSERVED), Nothing, Nothing, Nothing, Nothing}, Vector{Matrix{ComplexF64}}, Vector{Float64}, Vector{Vector{Matrix{ComplexF64}}}, Nothing, OrdinaryDiffEq.DP5Cache{Matrix{ComplexF64}, Matrix{ComplexF64}, Matrix{ComplexF64}, typeof(OrdinaryDiffEq.trivial_limiter!), typeof(OrdinaryDiffEq.trivial_limiter!), Static.False}, Nothing}, SciMLBase.DEStats, Nothing, Nothing, Nothing}, SciMLBase.ODEFunction{true, SciMLBase.AutoSpecialize, FunctionWrappersWrappers.FunctionWrappersWrapper{Tuple{FunctionWrappers.FunctionWrapper{Nothing, Tuple{Matrix{ComplexF64}, Matrix{ComplexF64}, SciMLBase.NullParameters, Float64}}, FunctionWrappers.FunctionWrapper{Nothing, Tuple{Matrix{Complex{ForwardDiff.Dual{ForwardDiff.Tag{DiffEqBase.OrdinaryDiffEqTag, ComplexF64}, ComplexF64, 1}}}, Matrix{Complex{ForwardDiff.Dual{ForwardDiff.Tag{DiffEqBase.OrdinaryDiffEqTag, ComplexF64}, ComplexF64, 1}}}, SciMLBase.NullParameters, Float64}}, FunctionWrappers.FunctionWrapper{Nothing, Tuple{Matrix{Complex{ForwardDiff.Dual{ForwardDiff.Tag{DiffEqBase.OrdinaryDiffEqTag, ComplexF64}, ComplexF64, 1}}}, Matrix{ComplexF64}, SciMLBase.NullParameters, ForwardDiff.Dual{ForwardDiff.Tag{DiffEqBase.OrdinaryDiffEqTag, ComplexF64}, ComplexF64, 1}}}, FunctionWrappers.FunctionWrapper{Nothing, Tuple{Matrix{Complex{ForwardDiff.Dual{ForwardDiff.Tag{DiffEqBase.OrdinaryDiffEqTag, ComplexF64}, ComplexF64, 1}}}, Matrix{Complex{ForwardDiff.Dual{ForwardDiff.Tag{DiffEqBase.OrdinaryDiffEqTag, ComplexF64}, ComplexF64, 1}}}, SciMLBase.NullParameters, ForwardDiff.Dual{ForwardDiff.Tag{DiffEqBase.OrdinaryDiffEqTag, ComplexF64}, ComplexF64, 1}}}}, false}, UniformScaling{Bool}, Nothing, Nothing, Nothing, Nothing, Nothing, Nothing, Nothing, Nothing, Nothing, Nothing, Nothing, typeof(SciMLBase.DEFAULT_OBSERVED), Nothing, Nothing, Nothing, Nothing}, OrdinaryDiffEq.DP5Cache{Matrix{ComplexF64}, Matrix{ComplexF64}, Matrix{ComplexF64}, typeof(OrdinaryDiffEq.trivial_limiter!), typeof(OrdinaryDiffEq.trivial_limiter!), Static.False}, OrdinaryDiffEq.DEOptions{Float64, Float64, Float64, Float64, OrdinaryDiffEq.PIController{Rational{Int64}}, typeof(DiffEqBase.ODE_DEFAULT_NORM), typeof(opnorm), Bool, SciMLBase.CallbackSet{Tuple{}, Tuple{SciMLBase.DiscreteCallback{DiffEqCallbacks.var\"#41#42\", DiffEqCallbacks.SavingAffect{QuantumOptics.timeevolution.var\"#fout_#4\"{QuantumOptics.timeevolution.var\"#fout#7\", QuantumOpticsBase.Operator{QuantumInterface.CompositeBasis{Vector{Int64}, Tuple{QuantumInterface.NLevelBasis{Int64}, QuantumInterface.FockBasis{Int64}}}, QuantumInterface.CompositeBasis{Vector{Int64}, Tuple{QuantumInterface.NLevelBasis{Int64}, QuantumInterface.FockBasis{Int64}}}, Matrix{ComplexF64}}}, Float64, QuantumOpticsBase.Operator{QuantumInterface.CompositeBasis{Vector{Int64}, Tuple{QuantumInterface.NLevelBasis{Int64}, QuantumInterface.FockBasis{Int64}}}, QuantumInterface.CompositeBasis{Vector{Int64}, Tuple{QuantumInterface.NLevelBasis{Int64}, QuantumInterface.FockBasis{Int64}}}, Matrix{ComplexF64}}, DataStructures.BinaryMinHeap{Float64}, Vector{Float64}}, typeof(DiffEqCallbacks.saving_initialize), typeof(SciMLBase.FINALIZE_DEFAULT)}}}, typeof(DiffEqBase.ODE_DEFAULT_ISOUTOFDOMAIN), typeof(DiffEqBase.ODE_DEFAULT_PROG_MESSAGE), typeof(DiffEqBase.ODE_DEFAULT_UNSTABLE_CHECK), DataStructures.BinaryHeap{Float64, DataStructures.FasterForward}, DataStructures.BinaryHeap{Float64, DataStructures.FasterForward}, Nothing, Nothing, Int64, Tuple{}, Tuple{}, Tuple{}}, Matrix{ComplexF64}, ComplexF64, Nothing, OrdinaryDiffEq.DefaultInit, Nothing}, cache::OrdinaryDiffEq.DP5Cache{Matrix{ComplexF64}, Matrix{ComplexF64}, Matrix{ComplexF64}, typeof(OrdinaryDiffEq.trivial_limiter!), typeof(OrdinaryDiffEq.trivial_limiter!), Static.False}, repeat_step::Bool)\n",
      "    @ OrdinaryDiffEq ~/.julia/packages/OrdinaryDiffEq/s27pa/src/perform_step/low_order_rk_perform_step.jl:952\n",
      " [15] perform_step!\n",
      "    @ ~/.julia/packages/OrdinaryDiffEq/s27pa/src/perform_step/low_order_rk_perform_step.jl:923 [inlined]\n",
      " [16] solve!(integrator::OrdinaryDiffEq.ODEIntegrator{OrdinaryDiffEq.DP5{typeof(OrdinaryDiffEq.trivial_limiter!), typeof(OrdinaryDiffEq.trivial_limiter!), Static.False}, true, Matrix{ComplexF64}, Nothing, Float64, SciMLBase.NullParameters, Float64, Float64, Float64, Float64, Vector{Matrix{ComplexF64}}, SciMLBase.ODESolution{ComplexF64, 3, Vector{Matrix{ComplexF64}}, Nothing, Nothing, Vector{Float64}, Vector{Vector{Matrix{ComplexF64}}}, Nothing, SciMLBase.ODEProblem{Matrix{ComplexF64}, Tuple{Float64, Float64}, true, SciMLBase.NullParameters, SciMLBase.ODEFunction{true, SciMLBase.AutoSpecialize, FunctionWrappersWrappers.FunctionWrappersWrapper{Tuple{FunctionWrappers.FunctionWrapper{Nothing, Tuple{Matrix{ComplexF64}, Matrix{ComplexF64}, SciMLBase.NullParameters, Float64}}, FunctionWrappers.FunctionWrapper{Nothing, Tuple{Matrix{Complex{ForwardDiff.Dual{ForwardDiff.Tag{DiffEqBase.OrdinaryDiffEqTag, ComplexF64}, ComplexF64, 1}}}, Matrix{Complex{ForwardDiff.Dual{ForwardDiff.Tag{DiffEqBase.OrdinaryDiffEqTag, ComplexF64}, ComplexF64, 1}}}, SciMLBase.NullParameters, Float64}}, FunctionWrappers.FunctionWrapper{Nothing, Tuple{Matrix{Complex{ForwardDiff.Dual{ForwardDiff.Tag{DiffEqBase.OrdinaryDiffEqTag, ComplexF64}, ComplexF64, 1}}}, Matrix{ComplexF64}, SciMLBase.NullParameters, ForwardDiff.Dual{ForwardDiff.Tag{DiffEqBase.OrdinaryDiffEqTag, ComplexF64}, ComplexF64, 1}}}, FunctionWrappers.FunctionWrapper{Nothing, Tuple{Matrix{Complex{ForwardDiff.Dual{ForwardDiff.Tag{DiffEqBase.OrdinaryDiffEqTag, ComplexF64}, ComplexF64, 1}}}, Matrix{Complex{ForwardDiff.Dual{ForwardDiff.Tag{DiffEqBase.OrdinaryDiffEqTag, ComplexF64}, ComplexF64, 1}}}, SciMLBase.NullParameters, ForwardDiff.Dual{ForwardDiff.Tag{DiffEqBase.OrdinaryDiffEqTag, ComplexF64}, ComplexF64, 1}}}}, false}, UniformScaling{Bool}, Nothing, Nothing, Nothing, Nothing, Nothing, Nothing, Nothing, Nothing, Nothing, Nothing, Nothing, typeof(SciMLBase.DEFAULT_OBSERVED), Nothing, Nothing, Nothing, Nothing}, @Kwargs{}, SciMLBase.StandardODEProblem}, OrdinaryDiffEq.DP5{typeof(OrdinaryDiffEq.trivial_limiter!), typeof(OrdinaryDiffEq.trivial_limiter!), Static.False}, OrdinaryDiffEq.InterpolationData{SciMLBase.ODEFunction{true, SciMLBase.AutoSpecialize, FunctionWrappersWrappers.FunctionWrappersWrapper{Tuple{FunctionWrappers.FunctionWrapper{Nothing, Tuple{Matrix{ComplexF64}, Matrix{ComplexF64}, SciMLBase.NullParameters, Float64}}, FunctionWrappers.FunctionWrapper{Nothing, Tuple{Matrix{Complex{ForwardDiff.Dual{ForwardDiff.Tag{DiffEqBase.OrdinaryDiffEqTag, ComplexF64}, ComplexF64, 1}}}, Matrix{Complex{ForwardDiff.Dual{ForwardDiff.Tag{DiffEqBase.OrdinaryDiffEqTag, ComplexF64}, ComplexF64, 1}}}, SciMLBase.NullParameters, Float64}}, FunctionWrappers.FunctionWrapper{Nothing, Tuple{Matrix{Complex{ForwardDiff.Dual{ForwardDiff.Tag{DiffEqBase.OrdinaryDiffEqTag, ComplexF64}, ComplexF64, 1}}}, Matrix{ComplexF64}, SciMLBase.NullParameters, ForwardDiff.Dual{ForwardDiff.Tag{DiffEqBase.OrdinaryDiffEqTag, ComplexF64}, ComplexF64, 1}}}, FunctionWrappers.FunctionWrapper{Nothing, Tuple{Matrix{Complex{ForwardDiff.Dual{ForwardDiff.Tag{DiffEqBase.OrdinaryDiffEqTag, ComplexF64}, ComplexF64, 1}}}, Matrix{Complex{ForwardDiff.Dual{ForwardDiff.Tag{DiffEqBase.OrdinaryDiffEqTag, ComplexF64}, ComplexF64, 1}}}, SciMLBase.NullParameters, ForwardDiff.Dual{ForwardDiff.Tag{DiffEqBase.OrdinaryDiffEqTag, ComplexF64}, ComplexF64, 1}}}}, false}, UniformScaling{Bool}, Nothing, Nothing, Nothing, Nothing, Nothing, Nothing, Nothing, Nothing, Nothing, Nothing, Nothing, typeof(SciMLBase.DEFAULT_OBSERVED), Nothing, Nothing, Nothing, Nothing}, Vector{Matrix{ComplexF64}}, Vector{Float64}, Vector{Vector{Matrix{ComplexF64}}}, Nothing, OrdinaryDiffEq.DP5Cache{Matrix{ComplexF64}, Matrix{ComplexF64}, Matrix{ComplexF64}, typeof(OrdinaryDiffEq.trivial_limiter!), typeof(OrdinaryDiffEq.trivial_limiter!), Static.False}, Nothing}, SciMLBase.DEStats, Nothing, Nothing, Nothing}, SciMLBase.ODEFunction{true, SciMLBase.AutoSpecialize, FunctionWrappersWrappers.FunctionWrappersWrapper{Tuple{FunctionWrappers.FunctionWrapper{Nothing, Tuple{Matrix{ComplexF64}, Matrix{ComplexF64}, SciMLBase.NullParameters, Float64}}, FunctionWrappers.FunctionWrapper{Nothing, Tuple{Matrix{Complex{ForwardDiff.Dual{ForwardDiff.Tag{DiffEqBase.OrdinaryDiffEqTag, ComplexF64}, ComplexF64, 1}}}, Matrix{Complex{ForwardDiff.Dual{ForwardDiff.Tag{DiffEqBase.OrdinaryDiffEqTag, ComplexF64}, ComplexF64, 1}}}, SciMLBase.NullParameters, Float64}}, FunctionWrappers.FunctionWrapper{Nothing, Tuple{Matrix{Complex{ForwardDiff.Dual{ForwardDiff.Tag{DiffEqBase.OrdinaryDiffEqTag, ComplexF64}, ComplexF64, 1}}}, Matrix{ComplexF64}, SciMLBase.NullParameters, ForwardDiff.Dual{ForwardDiff.Tag{DiffEqBase.OrdinaryDiffEqTag, ComplexF64}, ComplexF64, 1}}}, FunctionWrappers.FunctionWrapper{Nothing, Tuple{Matrix{Complex{ForwardDiff.Dual{ForwardDiff.Tag{DiffEqBase.OrdinaryDiffEqTag, ComplexF64}, ComplexF64, 1}}}, Matrix{Complex{ForwardDiff.Dual{ForwardDiff.Tag{DiffEqBase.OrdinaryDiffEqTag, ComplexF64}, ComplexF64, 1}}}, SciMLBase.NullParameters, ForwardDiff.Dual{ForwardDiff.Tag{DiffEqBase.OrdinaryDiffEqTag, ComplexF64}, ComplexF64, 1}}}}, false}, UniformScaling{Bool}, Nothing, Nothing, Nothing, Nothing, Nothing, Nothing, Nothing, Nothing, Nothing, Nothing, Nothing, typeof(SciMLBase.DEFAULT_OBSERVED), Nothing, Nothing, Nothing, Nothing}, OrdinaryDiffEq.DP5Cache{Matrix{ComplexF64}, Matrix{ComplexF64}, Matrix{ComplexF64}, typeof(OrdinaryDiffEq.trivial_limiter!), typeof(OrdinaryDiffEq.trivial_limiter!), Static.False}, OrdinaryDiffEq.DEOptions{Float64, Float64, Float64, Float64, OrdinaryDiffEq.PIController{Rational{Int64}}, typeof(DiffEqBase.ODE_DEFAULT_NORM), typeof(opnorm), Bool, SciMLBase.CallbackSet{Tuple{}, Tuple{SciMLBase.DiscreteCallback{DiffEqCallbacks.var\"#41#42\", DiffEqCallbacks.SavingAffect{QuantumOptics.timeevolution.var\"#fout_#4\"{QuantumOptics.timeevolution.var\"#fout#7\", QuantumOpticsBase.Operator{QuantumInterface.CompositeBasis{Vector{Int64}, Tuple{QuantumInterface.NLevelBasis{Int64}, QuantumInterface.FockBasis{Int64}}}, QuantumInterface.CompositeBasis{Vector{Int64}, Tuple{QuantumInterface.NLevelBasis{Int64}, QuantumInterface.FockBasis{Int64}}}, Matrix{ComplexF64}}}, Float64, QuantumOpticsBase.Operator{QuantumInterface.CompositeBasis{Vector{Int64}, Tuple{QuantumInterface.NLevelBasis{Int64}, QuantumInterface.FockBasis{Int64}}}, QuantumInterface.CompositeBasis{Vector{Int64}, Tuple{QuantumInterface.NLevelBasis{Int64}, QuantumInterface.FockBasis{Int64}}}, Matrix{ComplexF64}}, DataStructures.BinaryMinHeap{Float64}, Vector{Float64}}, typeof(DiffEqCallbacks.saving_initialize), typeof(SciMLBase.FINALIZE_DEFAULT)}}}, typeof(DiffEqBase.ODE_DEFAULT_ISOUTOFDOMAIN), typeof(DiffEqBase.ODE_DEFAULT_PROG_MESSAGE), typeof(DiffEqBase.ODE_DEFAULT_UNSTABLE_CHECK), DataStructures.BinaryHeap{Float64, DataStructures.FasterForward}, DataStructures.BinaryHeap{Float64, DataStructures.FasterForward}, Nothing, Nothing, Int64, Tuple{}, Tuple{}, Tuple{}}, Matrix{ComplexF64}, ComplexF64, Nothing, OrdinaryDiffEq.DefaultInit, Nothing})\n",
      "    @ OrdinaryDiffEq ~/.julia/packages/OrdinaryDiffEq/s27pa/src/solve.jl:557\n",
      " [17] #__solve#433\n",
      "    @ ~/.julia/packages/OrdinaryDiffEq/s27pa/src/solve.jl:7 [inlined]\n",
      " [18] __solve\n",
      "    @ ~/.julia/packages/OrdinaryDiffEq/s27pa/src/solve.jl:1 [inlined]\n",
      " [19] solve_call(_prob::SciMLBase.ODEProblem{Matrix{ComplexF64}, Tuple{Float64, Float64}, true, SciMLBase.NullParameters, SciMLBase.ODEFunction{true, SciMLBase.AutoSpecialize, FunctionWrappersWrappers.FunctionWrappersWrapper{Tuple{FunctionWrappers.FunctionWrapper{Nothing, Tuple{Matrix{ComplexF64}, Matrix{ComplexF64}, SciMLBase.NullParameters, Float64}}, FunctionWrappers.FunctionWrapper{Nothing, Tuple{Matrix{Complex{ForwardDiff.Dual{ForwardDiff.Tag{DiffEqBase.OrdinaryDiffEqTag, ComplexF64}, ComplexF64, 1}}}, Matrix{Complex{ForwardDiff.Dual{ForwardDiff.Tag{DiffEqBase.OrdinaryDiffEqTag, ComplexF64}, ComplexF64, 1}}}, SciMLBase.NullParameters, Float64}}, FunctionWrappers.FunctionWrapper{Nothing, Tuple{Matrix{Complex{ForwardDiff.Dual{ForwardDiff.Tag{DiffEqBase.OrdinaryDiffEqTag, ComplexF64}, ComplexF64, 1}}}, Matrix{ComplexF64}, SciMLBase.NullParameters, ForwardDiff.Dual{ForwardDiff.Tag{DiffEqBase.OrdinaryDiffEqTag, ComplexF64}, ComplexF64, 1}}}, FunctionWrappers.FunctionWrapper{Nothing, Tuple{Matrix{Complex{ForwardDiff.Dual{ForwardDiff.Tag{DiffEqBase.OrdinaryDiffEqTag, ComplexF64}, ComplexF64, 1}}}, Matrix{Complex{ForwardDiff.Dual{ForwardDiff.Tag{DiffEqBase.OrdinaryDiffEqTag, ComplexF64}, ComplexF64, 1}}}, SciMLBase.NullParameters, ForwardDiff.Dual{ForwardDiff.Tag{DiffEqBase.OrdinaryDiffEqTag, ComplexF64}, ComplexF64, 1}}}}, false}, UniformScaling{Bool}, Nothing, Nothing, Nothing, Nothing, Nothing, Nothing, Nothing, Nothing, Nothing, Nothing, Nothing, typeof(SciMLBase.DEFAULT_OBSERVED), Nothing, Nothing, Nothing, Nothing}, @Kwargs{}, SciMLBase.StandardODEProblem}, args::OrdinaryDiffEq.DP5{typeof(OrdinaryDiffEq.trivial_limiter!), typeof(OrdinaryDiffEq.trivial_limiter!), Static.False}; merge_callbacks::Bool, kwargshandle::Nothing, kwargs::@Kwargs{reltol::Float64, abstol::Float64, save_everystep::Bool, save_start::Bool, save_end::Bool, callback::SciMLBase.CallbackSet{Tuple{}, Tuple{SciMLBase.DiscreteCallback{DiffEqCallbacks.var\"#41#42\", DiffEqCallbacks.SavingAffect{QuantumOptics.timeevolution.var\"#fout_#4\"{QuantumOptics.timeevolution.var\"#fout#7\", QuantumOpticsBase.Operator{QuantumInterface.CompositeBasis{Vector{Int64}, Tuple{QuantumInterface.NLevelBasis{Int64}, QuantumInterface.FockBasis{Int64}}}, QuantumInterface.CompositeBasis{Vector{Int64}, Tuple{QuantumInterface.NLevelBasis{Int64}, QuantumInterface.FockBasis{Int64}}}, Matrix{ComplexF64}}}, Float64, QuantumOpticsBase.Operator{QuantumInterface.CompositeBasis{Vector{Int64}, Tuple{QuantumInterface.NLevelBasis{Int64}, QuantumInterface.FockBasis{Int64}}}, QuantumInterface.CompositeBasis{Vector{Int64}, Tuple{QuantumInterface.NLevelBasis{Int64}, QuantumInterface.FockBasis{Int64}}}, Matrix{ComplexF64}}, DataStructures.BinaryMinHeap{Float64}, Vector{Float64}}, typeof(DiffEqCallbacks.saving_initialize), typeof(SciMLBase.FINALIZE_DEFAULT)}}}, adaptive::Bool, progress::Bool})\n",
      "    @ DiffEqBase ~/.julia/packages/DiffEqBase/sCsah/src/solve.jl:612\n",
      " [20] solve_call\n",
      "    @ ~/.julia/packages/DiffEqBase/sCsah/src/solve.jl:569 [inlined]\n",
      " [21] #solve_up#53\n",
      "    @ ~/.julia/packages/DiffEqBase/sCsah/src/solve.jl:1080 [inlined]\n",
      " [22] solve_up\n",
      "    @ ~/.julia/packages/DiffEqBase/sCsah/src/solve.jl:1066 [inlined]\n",
      " [23] #solve#51\n",
      "    @ ~/.julia/packages/DiffEqBase/sCsah/src/solve.jl:1003 [inlined]\n",
      " [24] integrate(tspan::Vector{Float64}, df::QuantumOptics.timeevolution.var\"#dmaster_#35\"{Nothing, SuperconductingCavities.var\"#20#21\"{Vector{Any}, QuantumOpticsBase.Operator{QuantumInterface.CompositeBasis{Vector{Int64}, Tuple{QuantumInterface.NLevelBasis{Int64}, QuantumInterface.FockBasis{Int64}}}, QuantumInterface.CompositeBasis{Vector{Int64}, Tuple{QuantumInterface.NLevelBasis{Int64}, QuantumInterface.FockBasis{Int64}}}, SparseMatrixCSC{ComplexF64, Int64}}, Float64, Float64, QuantumOpticsBase.Operator{QuantumInterface.CompositeBasis{Vector{Int64}, Tuple{QuantumInterface.NLevelBasis{Int64}, QuantumInterface.FockBasis{Int64}}}, QuantumInterface.CompositeBasis{Vector{Int64}, Tuple{QuantumInterface.NLevelBasis{Int64}, QuantumInterface.FockBasis{Int64}}}, SparseMatrixCSC{ComplexF64, Int64}}, SuperconductingCavities.var\"#envelope#15\"{String, Dict{Symbol, Any}}}, QuantumOpticsBase.Operator{QuantumInterface.CompositeBasis{Vector{Int64}, Tuple{QuantumInterface.NLevelBasis{Int64}, QuantumInterface.FockBasis{Int64}}}, QuantumInterface.CompositeBasis{Vector{Int64}, Tuple{QuantumInterface.NLevelBasis{Int64}, QuantumInterface.FockBasis{Int64}}}, Matrix{ComplexF64}}}, x0::Matrix{ComplexF64}, state::QuantumOpticsBase.Operator{QuantumInterface.CompositeBasis{Vector{Int64}, Tuple{QuantumInterface.NLevelBasis{Int64}, QuantumInterface.FockBasis{Int64}}}, QuantumInterface.CompositeBasis{Vector{Int64}, Tuple{QuantumInterface.NLevelBasis{Int64}, QuantumInterface.FockBasis{Int64}}}, Matrix{ComplexF64}}, dstate::QuantumOpticsBase.Operator{QuantumInterface.CompositeBasis{Vector{Int64}, Tuple{QuantumInterface.NLevelBasis{Int64}, QuantumInterface.FockBasis{Int64}}}, QuantumInterface.CompositeBasis{Vector{Int64}, Tuple{QuantumInterface.NLevelBasis{Int64}, QuantumInterface.FockBasis{Int64}}}, Matrix{ComplexF64}}, fout::QuantumOptics.timeevolution.var\"#fout#7\"; alg::OrdinaryDiffEq.DP5{typeof(OrdinaryDiffEq.trivial_limiter!), typeof(OrdinaryDiffEq.trivial_limiter!), Static.False}, steady_state::Bool, tol::Float64, save_everystep::Bool, saveat::Vector{Float64}, callback::Nothing, kwargs::@Kwargs{reltol::Float64, adaptive::Bool, abstol::Float64, progress::Bool})\n",
      "    @ QuantumOptics.timeevolution ~/.julia/packages/QuantumOptics/aaJBj/src/timeevolution_base.jl:63\n",
      " [25] integrate(tspan::Vector{Float64}, df::Function, x0::Matrix{ComplexF64}, state::QuantumOpticsBase.Operator{QuantumInterface.CompositeBasis{Vector{Int64}, Tuple{QuantumInterface.NLevelBasis{Int64}, QuantumInterface.FockBasis{Int64}}}, QuantumInterface.CompositeBasis{Vector{Int64}, Tuple{QuantumInterface.NLevelBasis{Int64}, QuantumInterface.FockBasis{Int64}}}, Matrix{ComplexF64}}, dstate::QuantumOpticsBase.Operator{QuantumInterface.CompositeBasis{Vector{Int64}, Tuple{QuantumInterface.NLevelBasis{Int64}, QuantumInterface.FockBasis{Int64}}}, QuantumInterface.CompositeBasis{Vector{Int64}, Tuple{QuantumInterface.NLevelBasis{Int64}, QuantumInterface.FockBasis{Int64}}}, Matrix{ComplexF64}}, ::Nothing; kwargs::@Kwargs{tol::Float64, reltol::Float64, adaptive::Bool, abstol::Float64, progress::Bool})\n",
      "    @ QuantumOptics.timeevolution ~/.julia/packages/QuantumOptics/aaJBj/src/timeevolution_base.jl:79\n",
      " [26] integrate\n",
      "    @ ~/.julia/packages/QuantumOptics/aaJBj/src/timeevolution_base.jl:74 [inlined]\n",
      " [27] integrate_master(tspan::Vector{Float64}, df::Function, rho0::QuantumOpticsBase.Operator{QuantumInterface.CompositeBasis{Vector{Int64}, Tuple{QuantumInterface.NLevelBasis{Int64}, QuantumInterface.FockBasis{Int64}}}, QuantumInterface.CompositeBasis{Vector{Int64}, Tuple{QuantumInterface.NLevelBasis{Int64}, QuantumInterface.FockBasis{Int64}}}, Matrix{ComplexF64}}, fout::Nothing; kwargs::@Kwargs{tol::Float64, reltol::Float64, adaptive::Bool, abstol::Float64, progress::Bool})\n",
      "    @ QuantumOptics.timeevolution ~/.julia/packages/QuantumOptics/aaJBj/src/master.jl:268\n",
      " [28] integrate_master\n",
      "    @ ~/.julia/packages/QuantumOptics/aaJBj/src/master.jl:264 [inlined]\n",
      " [29] #master_dynamic#34\n",
      "    @ ~/.julia/packages/QuantumOptics/aaJBj/src/master.jl:221 [inlined]\n",
      " [30] RunSingleOperator(model::SuperconductingCavities.Transmon_Resonators, ρ::QuantumOpticsBase.Operator{QuantumInterface.CompositeBasis{Vector{Int64}, Tuple{QuantumInterface.NLevelBasis{Int64}, QuantumInterface.FockBasis{Int64}}}, QuantumInterface.CompositeBasis{Vector{Int64}, Tuple{QuantumInterface.NLevelBasis{Int64}, QuantumInterface.FockBasis{Int64}}}, Matrix{ComplexF64}}, op_params::Dict{String, Any}; c_ops::Vector{Any}, spps::Int64, solver_kwargs::Dict{Any, Any}, save_step::Bool, step_name::String, to_return::String, save_path::String, run_name::String, save_as_seperate_file::Bool)\n",
      "    @ SuperconductingCavities ~/Documents/Git Repositories/SuperconductingCavities/src/Utils/RunOperatorSequence.jl:141\n",
      " [31] RunPulseSequence(model::SuperconductingCavities.Transmon_Resonators, ρ::QuantumOpticsBase.Operator{QuantumInterface.CompositeBasis{Vector{Int64}, Tuple{QuantumInterface.NLevelBasis{Int64}, QuantumInterface.FockBasis{Int64}}}, QuantumInterface.CompositeBasis{Vector{Int64}, Tuple{QuantumInterface.NLevelBasis{Int64}, QuantumInterface.FockBasis{Int64}}}, Matrix{ComplexF64}}, op_sequence::Vector{String}; spps::Int64, solver_kwargs::Dict{Any, Any}, run_name::String, save_path::String, c_ops::Vector{Any})\n",
      "    @ SuperconductingCavities ~/Documents/Git Repositories/SuperconductingCavities/src/Utils/RunOperatorSequence.jl:212\n",
      " [32] eval\n",
      "    @ ./boot.jl:385 [inlined]\n",
      " [33] include_string(mapexpr::typeof(REPL.softscope), mod::Module, code::String, filename::String)\n",
      "    @ Base ./loading.jl:2076\n",
      " [34] #invokelatest#2\n",
      "    @ ./essentials.jl:892 [inlined]\n",
      " [35] invokelatest\n",
      "    @ ./essentials.jl:889 [inlined]\n",
      " [36] (::VSCodeServer.var\"#217#218\"{VSCodeServer.NotebookRunCellArguments, String})()\n",
      "    @ VSCodeServer ~/.vscode/extensions/julialang.language-julia-1.120.2/scripts/packages/VSCodeServer/src/serve_notebook.jl:24\n",
      " [37] withpath(f::VSCodeServer.var\"#217#218\"{VSCodeServer.NotebookRunCellArguments, String}, path::String)\n",
      "    @ VSCodeServer ~/.vscode/extensions/julialang.language-julia-1.120.2/scripts/packages/VSCodeServer/src/repl.jl:276\n",
      " [38] notebook_runcell_request(conn::VSCodeServer.JSONRPC.JSONRPCEndpoint{Base.PipeEndpoint, Base.PipeEndpoint}, params::VSCodeServer.NotebookRunCellArguments)\n",
      "    @ VSCodeServer ~/.vscode/extensions/julialang.language-julia-1.120.2/scripts/packages/VSCodeServer/src/serve_notebook.jl:13\n",
      " [39] dispatch_msg(x::VSCodeServer.JSONRPC.JSONRPCEndpoint{Base.PipeEndpoint, Base.PipeEndpoint}, dispatcher::VSCodeServer.JSONRPC.MsgDispatcher, msg::Dict{String, Any})\n",
      "    @ VSCodeServer.JSONRPC ~/.vscode/extensions/julialang.language-julia-1.120.2/scripts/packages/JSONRPC/src/typed.jl:67\n",
      " [40] serve_notebook(pipename::String, debugger_pipename::String, outputchannel_logger::Base.CoreLogging.SimpleLogger; error_handler::var\"#5#10\"{String})\n",
      "    @ VSCodeServer ~/.vscode/extensions/julialang.language-julia-1.120.2/scripts/packages/VSCodeServer/src/serve_notebook.jl:147\n",
      " [41] top-level scope\n",
      "    @ ~/.vscode/extensions/julialang.language-julia-1.120.2/scripts/notebook/notebook.jl:35"
     ]
    }
   ],
   "source": [
    "ψ = Mode3.dressed_states[(0,0)]\n",
    "ρ = ψ*ψ'\n",
    "SC.RunPulseSequence(Mode3, ρ, [\"q_g_0\", \"q_e_0\", \"sb_f_0_Main\"], c_ops = collect(values(Mode3.CandD_Ops)), run_name = \"Demo_Run_With_With_Loss_\"*string(now()))"
   ]
  },
  {
   "cell_type": "code",
   "execution_count": 50,
   "metadata": {},
   "outputs": [
    {
     "data": {
      "text/plain": [
       "YAXArray Dataset\n",
       "Shared Axes: \n",
       "(\u001b[38;5;209m↓ \u001b[39m\u001b[38;5;209mState\u001b[39m Categorical{String} \u001b[38;5;209m[(7, 1), (0, 3), …, (9, 0), (6, 7)]\u001b[39m \u001b[38;5;244mUnordered\u001b[39m)\n",
       "Variables: \n",
       "Step_1\n",
       "  (\u001b[38;5;209m↓ \u001b[39m\u001b[38;5;209mStep_1_Steps\u001b[39m Sampled{Int64} \u001b[38;5;209m0:1:501\u001b[39m \u001b[38;5;244mForwardOrdered\u001b[39m \u001b[38;5;244mRegular\u001b[39m \u001b[38;5;244mPoints\u001b[39m)\n",
       "Step_2\n",
       "  (\u001b[38;5;209m↓ \u001b[39m\u001b[38;5;209mStep_2_Steps\u001b[39m Sampled{Int64} \u001b[38;5;209m0:1:358\u001b[39m \u001b[38;5;244mForwardOrdered\u001b[39m \u001b[38;5;244mRegular\u001b[39m \u001b[38;5;244mPoints\u001b[39m)\n",
       "Step_3\n",
       "  (\u001b[38;5;209m↓ \u001b[39m\u001b[38;5;209mStep_3_Steps\u001b[39m Sampled{Int64} \u001b[38;5;209m0:1:889\u001b[39m \u001b[38;5;244mForwardOrdered\u001b[39m \u001b[38;5;244mRegular\u001b[39m \u001b[38;5;244mPoints\u001b[39m)\n"
      ]
     },
     "metadata": {},
     "output_type": "display_data"
    }
   ],
   "source": [
    "dat_nl = open_dataset(\"Data/Demo_Run_With_No_Loss_2024-09-01T19:29:42.289.nc\")\n",
    "dat_wl = open_dataset(\"Data/Demo_Run_With_Collapse_and_Dephasing_2024-09-01T18:59:23.478.nc\")"
   ]
  },
  {
   "cell_type": "code",
   "execution_count": 51,
   "metadata": {},
   "outputs": [
    {
     "name": "stdout",
     "output_type": "stream",
     "text": [
      "0.9952291721177998\n",
      "0.9952291721177998\n"
     ]
    }
   ],
   "source": [
    "println(dat_nl.Step_3[At.([string((0,1)), 889])...])\n",
    "println(dat_wl.Step_3[At.([string((0,1)), 889])...])"
   ]
  },
  {
   "cell_type": "code",
   "execution_count": 52,
   "metadata": {},
   "outputs": [
    {
     "name": "stdout",
     "output_type": "stream",
     "text": [
      "0.9959011012603762\n",
      "0.9959011012603762\n"
     ]
    }
   ],
   "source": [
    "println(dat_nl.Step_2[At.([string((2,0)), 358])...])\n",
    "println(dat_wl.Step_2[At.([string((2,0)), 358])...])"
   ]
  },
  {
   "cell_type": "code",
   "execution_count": 53,
   "metadata": {},
   "outputs": [
    {
     "name": "stdout",
     "output_type": "stream",
     "text": [
      "0.9982731436728601\n",
      "0.9982731436728601\n"
     ]
    }
   ],
   "source": [
    "println(dat_nl.Step_1[At.([string((1,0)), 501])...])\n",
    "println(dat_wl.Step_1[At.([string((1,0)), 501])...])"
   ]
  },
  {
   "cell_type": "code",
   "execution_count": null,
   "metadata": {},
   "outputs": [],
   "source": []
  }
 ],
 "metadata": {
  "kernelspec": {
   "display_name": "Julia 1.10.4",
   "language": "julia",
   "name": "julia-1.10"
  },
  "language_info": {
   "file_extension": ".jl",
   "mimetype": "application/julia",
   "name": "julia",
   "version": "1.10.4"
  }
 },
 "nbformat": 4,
 "nbformat_minor": 2
}
