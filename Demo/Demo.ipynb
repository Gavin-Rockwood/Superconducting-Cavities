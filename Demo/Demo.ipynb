{
 "cells": [
  {
   "cell_type": "markdown",
   "metadata": {},
   "source": [
    "# Setup"
   ]
  },
  {
   "cell_type": "markdown",
   "metadata": {},
   "source": [
    "## Imports"
   ]
  },
  {
   "cell_type": "code",
   "execution_count": 16,
   "metadata": {},
   "outputs": [],
   "source": [
    "import QuantumOptics as qo\n",
    "using Logging\n",
    "\n",
    "using LinearAlgebra\n",
    "using SparseArrays\n",
    "import CairoMakie as cm\n",
    "\n",
    "using ProtoStructs\n",
    "\n",
    "import QuantumOptics.⊗\n",
    "import QuantumOptics.*\n",
    "\n",
    "import CSV\n",
    "using JSON\n",
    "import Tables\n",
    "\n",
    "using YAXArrays\n",
    "\n",
    "using MiniLoggers\n",
    "using Dates\n",
    "using Revise"
   ]
  },
  {
   "cell_type": "code",
   "execution_count": 17,
   "metadata": {},
   "outputs": [],
   "source": [
    "import SuperconductingCavities as SC"
   ]
  },
  {
   "cell_type": "markdown",
   "metadata": {},
   "source": [
    "## Some Extra Stuff"
   ]
  },
  {
   "cell_type": "code",
   "execution_count": 18,
   "metadata": {},
   "outputs": [
    {
     "data": {
      "text/plain": [
       "MiniLogger{MiniLoggers.Squash, VSCodeServer.IJuliaCore.IJuliaStdio{Base.PipeEndpoint, typeof(VSCodeServer.io_send_callback)}, VSCodeServer.IJuliaCore.IJuliaStdio{Base.PipeEndpoint, typeof(VSCodeServer.io_send_callback)}, DateFormat{Symbol(\"yyyy-mm-dd HH:MM:SS\"), Tuple{Dates.DatePart{'y'}, Dates.Delim{Char, 1}, Dates.DatePart{'m'}, Dates.Delim{Char, 1}, Dates.DatePart{'d'}, Dates.Delim{Char, 1}, Dates.DatePart{'H'}, Dates.Delim{Char, 1}, Dates.DatePart{'M'}, Dates.Delim{Char, 1}, Dates.DatePart{'S'}}}, typeof(string)}(VSCodeServer.IJuliaCore.IJuliaStdio{Base.PipeEndpoint, typeof(VSCodeServer.io_send_callback)}(IOContext(Base.PipeEndpoint(RawFD(19) open, 0 bytes waiting)), VSCodeServer.io_send_callback), VSCodeServer.IJuliaCore.IJuliaStdio{Base.PipeEndpoint, typeof(VSCodeServer.io_send_callback)}(IOContext(Base.PipeEndpoint(RawFD(21) open, 0 bytes waiting)), VSCodeServer.io_send_callback), Error, LogLevel(-1), Dict{Any, Int64}(), true, MiniLoggers.Token[MiniLoggers.Token(\"[\", MiniLoggers.Color(-1, false)), MiniLoggers.Token(\"timestamp\", MiniLoggers.Color(:func, false)), MiniLoggers.Token(\"] \", MiniLoggers.Color(-1, false)), MiniLoggers.Token(\"level\", MiniLoggers.Color(:func, false)), MiniLoggers.Token(\": \", MiniLoggers.Color(-1, false)), MiniLoggers.Token(\"message\", MiniLoggers.Color(-1, false))], dateformat\"yyyy-mm-dd HH:MM:SS\", MiniLoggers.Squash(), \"\\t\", 0, Base.RefValue{Int64}(63860955620655), ReentrantLock(nothing, 0x00000000, 0x00, Base.GenericCondition{Base.Threads.SpinLock}(Base.IntrusiveLinkedList{Task}(nothing, nothing), Base.Threads.SpinLock(0)), (2, 140544363841488, 140544392107072)), string)"
      ]
     },
     "metadata": {},
     "output_type": "display_data"
    }
   ],
   "source": [
    "# MiniLogger(minlevel = MiniLoggers.Info) |> global_logger\n",
    "InfoLogger = MiniLogger(minlevel = MiniLoggers.Info)\n",
    "ProgressLogger = MiniLogger(minlevel = LogLevel(-1))\n",
    "DebugLogger = MiniLogger(minlevel = MiniLoggers.Debug)\n",
    "\n",
    "global_logger(ProgressLogger)"
   ]
  },
  {
   "cell_type": "code",
   "execution_count": 19,
   "metadata": {},
   "outputs": [
    {
     "data": {
      "text/plain": [
       "tostr (generic function with 1 method)"
      ]
     },
     "metadata": {},
     "output_type": "display_data"
    }
   ],
   "source": [
    "function tostr(obj)\n",
    "    io = IOBuffer()\n",
    "    show(io, \"text/plain\", obj)\n",
    "    String(take!(io))\n",
    "end"
   ]
  },
  {
   "cell_type": "markdown",
   "metadata": {},
   "source": [
    "# Example"
   ]
  },
  {
   "cell_type": "markdown",
   "metadata": {},
   "source": [
    "## Initializing Models"
   ]
  },
  {
   "cell_type": "markdown",
   "metadata": {},
   "source": [
    "### Creating Model From Scratch"
   ]
  },
  {
   "cell_type": "markdown",
   "metadata": {},
   "source": [
    "#### One Mode"
   ]
  },
  {
   "cell_type": "code",
   "execution_count": 11,
   "metadata": {},
   "outputs": [],
   "source": [
    "Eᶜ = 0.10283303447280807;\n",
    "Eʲ = 26.96976142643705;\n",
    "Eᵒˢᶜ = 6.2280871213;\n",
    "g = 0.026184375000000013;\n",
    "name = \"transmon\";\n",
    "ng  =  0;\n",
    "N=10;\n",
    "N_cut = 60;\n",
    "\n",
    "OneMode = SC.Transmon_Resonators_Constructor(Eᶜ, Eʲ, [Eᵒˢᶜ], [g], N, [N], Cavity_Names = [\"Mode 3\"]);"
   ]
  },
  {
   "cell_type": "markdown",
   "metadata": {},
   "source": [
    "#### Two Mode"
   ]
  },
  {
   "cell_type": "code",
   "execution_count": 12,
   "metadata": {},
   "outputs": [],
   "source": [
    "Eᶜ = 0.10283303447280807;\n",
    "Eʲ = 26.96976142643705;\n",
    "Eᵒˢᶜs = [6.2280871213, 6.72062927579];\n",
    "gs = [0.026184375000000013, 0.03020625000000001];\n",
    "name = \"transmon\";\n",
    "ng  =  0;\n",
    "Nₜ =10;\n",
    "Nᵣs = [6, 6]\n",
    "N_cut = 60;\n",
    "\n",
    "\n",
    "TwoModes = SC.Transmon_Resonators_Constructor(Eᶜ, Eʲ, Eᵒˢᶜs, gs, Nₜ, Nᵣs, Cavity_Names = [\"Mode 3\", \"Mode 5\"]);"
   ]
  },
  {
   "cell_type": "markdown",
   "metadata": {},
   "source": [
    "### Importing Model"
   ]
  },
  {
   "cell_type": "code",
   "execution_count": 3,
   "metadata": {},
   "outputs": [],
   "source": [
    "Mode3 = SC.Transmon_Resonators_Loader(\"ModelSaves/Mode_3/Mode_3.json\");"
   ]
  },
  {
   "cell_type": "code",
   "execution_count": 15,
   "metadata": {},
   "outputs": [
    {
     "data": {
      "text/plain": [
       "Dict{String, Any} with 3 entries:\n",
       "  \"pulse_time\"   => 1601.37\n",
       "  \"sigma_factor\" => 2\n",
       "  \"ramp_time\"    => 10"
      ]
     },
     "metadata": {},
     "output_type": "display_data"
    }
   ],
   "source": [
    "Mode3.Stuff[\"op_drive_params\"][\"sb_f_0_4pi_f_3\"][\"Envelope Args\"]"
   ]
  },
  {
   "cell_type": "code",
   "execution_count": 10,
   "metadata": {},
   "outputs": [
    {
     "data": {
      "text/plain": [
       "18-element Vector{Any}:\n",
       " \"q_e_0\"\n",
       " \"q_g_0\"\n",
       " \"sb_f_0_Main\"\n",
       " \"q_g_0\"\n",
       " \"q_e_1\"\n",
       " \"q_g_1\"\n",
       " \"half_sb_f_1\"\n",
       " \"q_g_1\"\n",
       " \"q_e_1\"\n",
       " \"sb_f_2_Main\"\n",
       " \"q_g_2\"\n",
       " \"sb_f_0_Main\"\n",
       " \"q_e_0\"\n",
       " \"sb_f_0_4pi_f_3\"\n",
       " \"q_g_1\"\n",
       " \"sb_f_3_Main\"\n",
       " \"q_e_0\"\n",
       " \"sb_f_1_2pi_f_3\""
      ]
     },
     "metadata": {},
     "output_type": "display_data"
    }
   ],
   "source": [
    "Mode3.Stuff[\"Drive Sequences\"][\"Binomial_Code\"]"
   ]
  },
  {
   "cell_type": "markdown",
   "metadata": {},
   "source": [
    "## Time Evolving Wavefunctions"
   ]
  },
  {
   "cell_type": "markdown",
   "metadata": {},
   "source": [
    "### Running A Single Pulse"
   ]
  },
  {
   "cell_type": "code",
   "execution_count": 21,
   "metadata": {},
   "outputs": [
    {
     "name": "stdout",
     "output_type": "stream",
     "text": [
      "[\u001b[36m2024-09-01 18:02:32\u001b[39m] \u001b[36mInfo\u001b[39m: Running Time Evolution\n",
      "[\u001b[34m2024-09-01 18:02:32\u001b[39m] \u001b[34mLogLevel(-1)\u001b[39m: ODE progress = 0\n",
      "[\u001b[34m2024-09-01 18:02:32\u001b[39m] \u001b[34mLogLevel(-1)\u001b[39m: ODE message = dt=0.0010432581424918218\tt=1.0419916278610004\tmax u=-0.4512538658823686 - 0.8923725857046029im, progress = 0.010399118042524955\n",
      "[\u001b[34m2024-09-01 18:02:33\u001b[39m] \u001b[34mLogLevel(-1)\u001b[39m: ODE message = dt=0.0010432591097843593\tt=2.0852500959849563\tmax u=-0.7382805949277542 + 0.674420209921304im, progress = 0.02081087920144667\n",
      "[\u001b[34m2024-09-01 18:02:34\u001b[39m] \u001b[34mLogLevel(-1)\u001b[39m: ODE message = dt=0.001043258764323398\tt=3.128509125898927\tmax u=0.8479033027523399 + 0.5299575367499055im, progress = 0.03122264596705516\n",
      "[\u001b[34m2024-09-01 18:02:35\u001b[39m] \u001b[34mLogLevel(-1)\u001b[39m: ODE message = dt=0.0010432606298179875\tt=4.171768857930078\tmax u=0.2827994955471448 - 0.9589923961793032im, progress = 0.04163441973982114\n",
      "[\u001b[34m2024-09-01 18:02:35\u001b[39m] \u001b[34mLogLevel(-1)\u001b[39m: ODE message = dt=0.001043261182558991\tt=5.215029448988226\tmax u=-0.9995964417054138 - 0.015046979091596932im, progress = 0.052046202085710834\n",
      "[\u001b[34m2024-09-01 18:02:36\u001b[39m] \u001b[34mLogLevel(-1)\u001b[39m: ODE message = dt=0.0010432616662086535\tt=6.258291359645463\tmax u=0.253548879687828 + 0.9668654223003177im, progress = 0.06245799760125212\n",
      "[\u001b[34m2024-09-01 18:02:37\u001b[39m] \u001b[34mLogLevel(-1)\u001b[39m: ODE message = dt=0.0010432668481619646\tt=7.301554967841293\tmax u=0.8634158242438086 - 0.5032365178934967im, progress = 0.07286981005829633\n",
      "[\u001b[34m2024-09-01 18:02:38\u001b[39m] \u001b[34mLogLevel(-1)\u001b[39m: ODE message = dt=0.0010432652590336017\tt=8.34482112770505\tmax u=-0.7157131272457146 - 0.697116206017228im, progress = 0.08328164798108832\n",
      "[\u001b[34m2024-09-01 18:02:38\u001b[39m] \u001b[34mLogLevel(-1)\u001b[39m: ODE message = dt=0.0010432736192960872\tt=9.388090957170718\tmax u=-0.4805517382305862 + 0.8755946673604835im, progress = 0.09369352252665387\n",
      "[\u001b[34m2024-09-01 18:02:39\u001b[39m] \u001b[34mLogLevel(-1)\u001b[39m: ODE message = dt=0.0010432785940377534\tt=10.431365635332853\tmax u=0.9715594561714771 + 0.22996755258844562im, progress = 0.10410544546240372\n",
      "[\u001b[34m2024-09-01 18:02:40\u001b[39m] \u001b[34mLogLevel(-1)\u001b[39m: ODE message = dt=0.0010432823942124387\tt=11.474647512720646\tmax u=-0.03592595421029226 - 0.9972695514293859im, progress = 0.11451744024671302\n",
      "[\u001b[34m2024-09-01 18:02:41\u001b[39m] \u001b[34mLogLevel(-1)\u001b[39m: ODE message = dt=0.001043302777127638\tt=12.517938661325\tmax u=-0.9519226273226186 + 0.2975833425902835im, progress = 0.12492952755813372\n",
      "[\u001b[34m2024-09-01 18:02:41\u001b[39m] \u001b[34mLogLevel(-1)\u001b[39m: ODE message = dt=0.0010433056791671685\tt=13.561242462341314\tmax u=0.5361404130987201 + 0.8401414960751318im, progress = 0.13534174114113087\n",
      "[\u001b[34m2024-09-01 18:02:42\u001b[39m] \u001b[34mLogLevel(-1)\u001b[39m: ODE message = dt=0.0010433330413572872\tt=14.604563232798396\tmax u=0.6717441113748311 - 0.7351299517977485im, progress = 0.1457541240798243\n",
      "[\u001b[34m2024-09-01 18:02:43\u001b[39m] \u001b[34mLogLevel(-1)\u001b[39m: ODE message = dt=0.001043358469512356\tt=15.647905314880887\tmax u=-0.8818217450666102 - 0.4605523341297068im, progress = 0.15616671970939008\n",
      "[\u001b[34m2024-09-01 18:02:44\u001b[39m] \u001b[34mLogLevel(-1)\u001b[39m: ODE message = dt=0.0010433775410749037\tt=16.691275944388423\tmax u=-0.22325180363704006 + 0.9682668781646279im, progress = 0.16657960024339744\n",
      "[\u001b[34m2024-09-01 18:02:45\u001b[39m] \u001b[34mLogLevel(-1)\u001b[39m: ODE message = dt=0.0010434391803621481\tt=17.734681986993852\tmax u=0.9921203283407153 - 0.022408228567388434im, progress = 0.17699283420153544\n",
      "[\u001b[34m2024-09-01 18:02:46\u001b[39m] \u001b[34mLogLevel(-1)\u001b[39m: ODE message = dt=0.0010434672372176769\tt=18.778132863529436\tmax u=-0.2593083970832889 - 0.9562485293174302im, progress = 0.1874065156040862\n",
      "[\u001b[34m2024-09-01 18:02:47\u001b[39m] \u001b[34mLogLevel(-1)\u001b[39m: ODE message = dt=0.0010435408380174349\tt=19.821640488760288\tmax u=-0.8687328860578042 + 0.47269852963143555im, progress = 0.1978207633608811\n",
      "[\u001b[34m2024-09-01 18:02:47\u001b[39m] \u001b[34mLogLevel(-1)\u001b[39m: ODE message = dt=0.0010436261247092457\tt=20.865216515929493\tmax u=0.6516437230269712 + 0.7412820199518634im, progress = 0.2082356937717514\n",
      "[\u001b[34m2024-09-01 18:02:48\u001b[39m] \u001b[34mLogLevel(-1)\u001b[39m: ODE message = dt=0.0010436906128330043\tt=21.9088783517663\tmax u=0.5880225537223124 - 0.7897021554177601im, progress = 0.2186514805565499\n",
      "[\u001b[34m2024-09-01 18:02:49\u001b[39m] \u001b[34mLogLevel(-1)\u001b[39m: ODE message = dt=0.0010438437963834122\tt=22.95264321663299\tmax u=-0.8857754136864744 - 0.42394704187883686im, progress = 0.22906829557517952\n",
      "[\u001b[34m2024-09-01 18:02:50\u001b[39m] \u001b[34mLogLevel(-1)\u001b[39m: ODE message = dt=0.0010439483282422986\tt=23.996532019183693\tmax u=-0.2630282560421938 + 0.9429438051381229im, progress = 0.23948634749684325\n",
      "[\u001b[34m2024-09-01 18:02:50\u001b[39m] \u001b[34mLogLevel(-1)\u001b[39m: ODE message = dt=0.0010441153103916121\tt=25.04057120460746\tmax u=0.9684477946678228 + 0.11753061829856508im, progress = 0.24990590024558343\n",
      "[\u001b[34m2024-09-01 18:02:51\u001b[39m] \u001b[34mLogLevel(-1)\u001b[39m: ODE message = dt=0.00104433889386228\tt=26.084786039120743\tmax u=-0.003014766230093471 - 0.9718354190390766im, progress = 0.2603272059792489\n",
      "[\u001b[34m2024-09-01 18:02:52\u001b[39m] \u001b[34mLogLevel(-1)\u001b[39m: ODE message = dt=0.0010445085673787948\tt=27.129210903110092\tmax u=-0.9631562390831915 + 0.0913356891974225im, progress = 0.27075060781546995\n",
      "[\u001b[34m2024-09-01 18:02:53\u001b[39m] \u001b[34mLogLevel(-1)\u001b[39m: ODE message = dt=0.0010448285521261812\tt=28.17388149644211\tmax u=0.1420074774386137 + 0.9523501563293701im, progress = 0.2811764620403404\n",
      "[\u001b[34m2024-09-01 18:02:53\u001b[39m] \u001b[34mLogLevel(-1)\u001b[39m: ODE message = dt=0.0010451163802511108\tt=29.218836593744978\tmax u=0.9458302737019939 - 0.14991275298139597im, progress = 0.2916051556261974\n",
      "[\u001b[34m2024-09-01 18:02:54\u001b[39m] \u001b[34mLogLevel(-1)\u001b[39m: ODE message = dt=0.001045439182590182\tt=30.264125604083407\tmax u=-0.10917888426019999 - 0.9454959271121284im, progress = 0.3020371816774791\n",
      "[\u001b[34m2024-09-01 18:02:55\u001b[39m] \u001b[34mLogLevel(-1)\u001b[39m: ODE message = dt=0.0010459241613693122\tt=31.309795754486352\tmax u=-0.9455463524639179 + 0.012802945951501946im, progress = 0.3124730115218199\n",
      "[\u001b[34m2024-09-01 18:02:56\u001b[39m] \u001b[34mLogLevel(-1)\u001b[39m: ODE message = dt=0.0010463195551539313\tt=32.355904384274055\tmax u=-0.14571109992707812 + 0.9271536693191882im, progress = 0.32291321740792467\n",
      "[\u001b[34m2024-09-01 18:02:57\u001b[39m] \u001b[34mLogLevel(-1)\u001b[39m: ODE message = dt=0.0010468725390725862\tt=33.40251607917252\tmax u=0.8564556275444429 + 0.36496969785199257im, progress = 0.3333584439039174\n",
      "[\u001b[34m2024-09-01 18:02:57\u001b[39m] \u001b[34mLogLevel(-1)\u001b[39m: ODE message = dt=0.0010475356313137353\tt=34.44969413849492\tmax u=0.6208807141446128 - 0.6828470762640908im, progress = 0.34380932273947024\n",
      "[\u001b[34m2024-09-01 18:02:58\u001b[39m] \u001b[34mLogLevel(-1)\u001b[39m: ODE message = dt=0.0010481188979151004\tt=35.49751682011991\tmax u=-0.3542597555675678 - 0.8422649363898402im, progress = 0.3542666349313364\n",
      "[\u001b[34m2024-09-01 18:02:59\u001b[39m] \u001b[34mLogLevel(-1)\u001b[39m: ODE message = dt=0.0010489469922511918\tt=36.54606553840427\tmax u=-0.8942362188399092 - 0.13398437150502604im, progress = 0.3647311929980466\n",
      "[\u001b[34m2024-09-01 18:03:00\u001b[39m] \u001b[34mLogLevel(-1)\u001b[39m: ODE message = dt=0.001049845545601656\tt=37.595423732961216\tmax u=-0.6545420602144435 + 0.6089211217435805im, progress = 0.3752038296702716\n",
      "[\u001b[34m2024-09-01 18:03:01\u001b[39m] \u001b[34mLogLevel(-1)\u001b[39m: ODE message = dt=0.001050691774537625\tt=38.64569151319602\tmax u=-0.056471168865099126 + 0.8807344628922694im, progress = 0.38568554404387245\n",
      "[\u001b[34m2024-09-01 18:03:02\u001b[39m] \u001b[34mLogLevel(-1)\u001b[39m: ODE message = dt=0.00105182369448212\tt=39.69697096981861\tmax u=0.4455339269883298 + 0.7481763832784909im, progress = 0.39617735498820966\n",
      "[\u001b[34m2024-09-01 18:03:02\u001b[39m] \u001b[34mLogLevel(-1)\u001b[39m: ODE message = dt=0.0010530633244872428\tt=40.74936780477287\tmax u=0.7053662034153484 + 0.4890431671848554im, progress = 0.40668031741290284\n",
      "[\u001b[34m2024-09-01 18:03:03\u001b[39m] \u001b[34mLogLevel(-1)\u001b[39m: ODE message = dt=0.001054244857656416\tt=41.803004701791544\tmax u=0.7871697414939967 + 0.3058855968421529im, progress = 0.4171956557065024\n",
      "[\u001b[34m2024-09-01 18:03:04\u001b[39m] \u001b[34mLogLevel(-1)\u001b[39m: ODE message = dt=0.0010556843449562074\tt=42.858009370320445\tmax u=0.7809394002477317 + 0.28177021185871015im, progress = 0.4277246444143757\n",
      "[\u001b[34m2024-09-01 18:03:05\u001b[39m] \u001b[34mLogLevel(-1)\u001b[39m: ODE message = dt=0.0010573741554399819\tt=43.914511805625516\tmax u=0.6934100533649427 + 0.429261847857857im, progress = 0.4382685808944662\n",
      "[\u001b[34m2024-09-01 18:03:05\u001b[39m] \u001b[34mLogLevel(-1)\u001b[39m: ODE message = dt=0.0010590520123716458\tt=44.97265663522598\tmax u=0.42046691862820124 + 0.6801525898216787im, progress = 0.4488289085351894\n",
      "[\u001b[34m2024-09-01 18:03:06\u001b[39m] \u001b[34mLogLevel(-1)\u001b[39m: ODE message = dt=0.00106081416526539\tt=46.03260046728877\tmax u=-0.1456362204396257 + 0.7689952063351463im, progress = 0.4594071902923031\n",
      "[\u001b[34m2024-09-01 18:03:07\u001b[39m] \u001b[34mLogLevel(-1)\u001b[39m: ODE message = dt=0.0010628812598824414\tt=47.09450404947052\tmax u=-0.7216043172636208 + 0.25498821135701094im, progress = 0.4700050304338375\n",
      "[\u001b[34m2024-09-01 18:03:08\u001b[39m] \u001b[34mLogLevel(-1)\u001b[39m: ODE message = dt=0.0010652112561225784\tt=48.158535866531814\tmax u=-0.3821482406892618 - 0.6425322675565377im, progress = 0.48062411044442926\n",
      "[\u001b[34m2024-09-01 18:03:08\u001b[39m] \u001b[34mLogLevel(-1)\u001b[39m: ODE message = dt=0.0010676559528658327\tt=49.22487744651775\tmax u=0.678236732899706 - 0.2671970483569518im, progress = 0.4912662419812151\n",
      "[\u001b[34m2024-09-01 18:03:09\u001b[39m] \u001b[34mLogLevel(-1)\u001b[39m: ODE message = dt=0.0010701989632874893\tt=50.29372227548222\tmax u=-0.12255175617334982 + 0.6987105954059256im, progress = 0.5019333560427367\n",
      "[\u001b[34m2024-09-01 18:03:10\u001b[39m] \u001b[34mLogLevel(-1)\u001b[39m: ODE message = dt=0.0010729258726577626\tt=51.36527316295917\tmax u=-0.20725493860076896 - 0.6927109707532297im, progress = 0.5126274766762392\n",
      "[\u001b[34m2024-09-01 18:03:11\u001b[39m] \u001b[34mLogLevel(-1)\u001b[39m: ODE message = dt=0.001075904248525833\tt=52.439742236202264\tmax u=0.08060047815329463 + 0.7379035139719957im, progress = 0.5233507209201823\n",
      "[\u001b[34m2024-09-01 18:03:11\u001b[39m] \u001b[34mLogLevel(-1)\u001b[39m: ODE message = dt=0.0010791487949244898\tt=53.51735227604577\tmax u=0.3436109197979309 - 0.6788334009582944im, progress = 0.5341053121361853\n",
      "[\u001b[34m2024-09-01 18:03:12\u001b[39m] \u001b[34mLogLevel(-1)\u001b[39m: ODE message = dt=0.0010826495353098774\tt=54.59833750603902\tmax u=-0.7748435010643372 + 0.0775990206873706im, progress = 0.544893587884621\n",
      "[\u001b[34m2024-09-01 18:03:13\u001b[39m] \u001b[34mLogLevel(-1)\u001b[39m: ODE message = dt=0.001086399184027227\tt=55.68294368805354\tmax u=0.1676605829448156 + 0.7780718585127747im, progress = 0.5557180008787779\n",
      "[\u001b[34m2024-09-01 18:03:14\u001b[39m] \u001b[34mLogLevel(-1)\u001b[39m: ODE message = dt=0.0010904028458925742\tt=56.77142795045255\tmax u=0.8015975700867054 + 0.13238674179311202im, progress = 0.5665811172699855\n",
      "[\u001b[34m2024-09-01 18:03:15\u001b[39m] \u001b[34mLogLevel(-1)\u001b[39m: ODE message = dt=0.001094682080004332\tt=57.864058678928856\tmax u=0.7232102745751595 - 0.40366517889543696im, progress = 0.5774856155581722\n",
      "[\u001b[34m2024-09-01 18:03:15\u001b[39m] \u001b[34mLogLevel(-1)\u001b[39m: ODE message = dt=0.0010992796154831194\tt=58.96111556071883\tmax u=0.6840276747529921 - 0.49303651137798044im, progress = 0.5884342870331221\n",
      "[\u001b[34m2024-09-01 18:03:16\u001b[39m] \u001b[34mLogLevel(-1)\u001b[39m: ODE message = dt=0.001104238441861378\tt=60.06288978161788\tmax u=0.8481503078731106 - 0.1248480930938179im, progress = 0.5994300377406975\n",
      "[\u001b[34m2024-09-01 18:03:17\u001b[39m] \u001b[34mLogLevel(-1)\u001b[39m: ODE message = dt=0.001109511830613552\tt=61.169683302716905\tmax u=0.4965356865324138 + 0.71520928663808im, progress = 0.6104758812646397\n",
      "[\u001b[34m2024-09-01 18:03:17\u001b[39m] \u001b[34mLogLevel(-1)\u001b[39m: ODE message = dt=0.0011149263240830248\tt=62.28180500314744\tmax u=-0.8149435821976839 + 0.3414773910729748im, progress = 0.6215749002310124\n",
      "[\u001b[34m2024-09-01 18:03:18\u001b[39m] \u001b[34mLogLevel(-1)\u001b[39m: ODE message = dt=0.0011205760573194375\tt=63.39956819137994\tmax u=0.44818559922025014 - 0.7755275099159756im, progress = 0.6327302214708577\n",
      "[\u001b[34m2024-09-01 18:03:19\u001b[39m] \u001b[34mLogLevel(-1)\u001b[39m: ODE message = dt=0.001126883308324205\tt=64.52330096883927\tmax u=-0.5308764343139643 + 0.734861255286744im, progress = 0.6439451194494936\n",
      "[\u001b[34m2024-09-01 18:03:20\u001b[39m] \u001b[34mLogLevel(-1)\u001b[39m: ODE message = dt=0.001133296384953759\tt=65.65333667614415\tmax u=0.9159076427641242 - 0.04629866905722779im, progress = 0.6552229209196023\n",
      "[\u001b[34m2024-09-01 18:03:21\u001b[39m] \u001b[34mLogLevel(-1)\u001b[39m: ODE message = dt=0.001140047476498567\tt=66.78999316443354\tmax u=0.09950496069848429 - 0.9212580958359076im, progress = 0.6665667980482389\n",
      "[\u001b[34m2024-09-01 18:03:22\u001b[39m] \u001b[34mLogLevel(-1)\u001b[39m: ODE message = dt=0.001147205086281028\tt=67.93361067894922\tmax u=-0.3893471563471353 - 0.8505962534048905im, progress = 0.6779801464964992\n",
      "[\u001b[34m2024-09-01 18:03:22\u001b[39m] \u001b[34mLogLevel(-1)\u001b[39m: ODE message = dt=0.0011546790769219484\tt=69.08449479743801\tmax u=-0.04782171234855442 - 0.9422140331095349im, progress = 0.6894660159424951\n",
      "[\u001b[34m2024-09-01 18:03:23\u001b[39m] \u001b[34mLogLevel(-1)\u001b[39m: ODE message = dt=0.001162238013117696\tt=70.2429616407555\tmax u=0.9116469967575633 - 0.2706599181624576im, progress = 0.701027561284985\n",
      "[\u001b[34m2024-09-01 18:03:24\u001b[39m] \u001b[34mLogLevel(-1)\u001b[39m: ODE message = dt=0.0011703480444910696\tt=71.4092908165241\tmax u=-0.4280368022813319 + 0.8565757933791083im, progress = 0.7126675730192026\n",
      "[\u001b[34m2024-09-01 18:03:24\u001b[39m] \u001b[34mLogLevel(-1)\u001b[39m: ODE message = dt=0.001178668826354411\tt=72.58373300349224\tmax u=0.5954720956232834 - 0.7574311316725224im, progress = 0.7243885529290642\n",
      "[\u001b[34m2024-09-01 18:03:25\u001b[39m] \u001b[34mLogLevel(-1)\u001b[39m: ODE message = dt=0.0011870846148829418\tt=73.76650384320433\tmax u=-0.9111310763989702 - 0.32937706249769155im, progress = 0.7361926531257917\n",
      "[\u001b[34m2024-09-01 18:03:26\u001b[39m] \u001b[34mLogLevel(-1)\u001b[39m: ODE message = dt=0.0011956216199534666\tt=74.95776455691902\tmax u=-0.8660939398783662 + 0.44477595541369674im, progress = 0.7480814826039822\n",
      "[\u001b[34m2024-09-01 18:03:27\u001b[39m] \u001b[34mLogLevel(-1)\u001b[39m: ODE message = dt=0.0012042333373632815\tt=76.15760994086062\tmax u=-0.9553481907095186 + 0.20855117909957327im, progress = 0.7600559874337387\n",
      "[\u001b[34m2024-09-01 18:03:27\u001b[39m] \u001b[34mLogLevel(-1)\u001b[39m: ODE message = dt=0.0012127921372133389\tt=77.36605558334956\tmax u=-0.4211524894070717 - 0.8866237554753852im, progress = 0.7721163231871214\n",
      "[\u001b[34m2024-09-01 18:03:28\u001b[39m] \u001b[34mLogLevel(-1)\u001b[39m: ODE message = dt=0.0012211468749827926\tt=78.58302332580317\tmax u=0.9067037884540172 + 0.384410119508293im, progress = 0.784261709838355\n",
      "[\u001b[34m2024-09-01 18:03:29\u001b[39m] \u001b[34mLogLevel(-1)\u001b[39m: ODE message = dt=0.0012293258068970339\tt=79.80833012998386\tmax u=-0.7394460439027026 - 0.6546092455732858im, progress = 0.7964903206585215\n",
      "[\u001b[34m2024-09-01 18:03:30\u001b[39m] \u001b[34mLogLevel(-1)\u001b[39m: ODE message = dt=0.0012373059573631653\tt=81.04168423339534\tmax u=-0.46633297951296987 + 0.8731262023242479im, progress = 0.8087992438462609\n",
      "[\u001b[34m2024-09-01 18:03:30\u001b[39m] \u001b[34mLogLevel(-1)\u001b[39m: ODE message = dt=0.0012445885936731948\tt=82.2826705162734\tmax u=0.34331602000340455 + 0.9305804738127704im, progress = 0.8211843364897544\n",
      "[\u001b[34m2024-09-01 18:03:31\u001b[39m] \u001b[34mLogLevel(-1)\u001b[39m: ODE message = dt=0.001251467612319459\tt=83.53075713354737\tmax u=0.2968340387831118 + 0.948097187339066im, progress = 0.8336402907539657\n",
      "[\u001b[34m2024-09-01 18:03:32\u001b[39m] \u001b[34mLogLevel(-1)\u001b[39m: ODE message = dt=0.0012575092199470592\tt=84.78531147232609\tmax u=-0.5291641940650125 + 0.8424596612263153im, progress = 0.8461607931369869\n",
      "[\u001b[34m2024-09-01 18:03:33\u001b[39m] \u001b[34mLogLevel(-1)\u001b[39m: ODE message = dt=0.0012629382167470336\tt=86.0456065134316\tmax u=-0.8346269198073507 - 0.5433540740046187im, progress = 0.8587385879583991\n",
      "[\u001b[34m2024-09-01 18:03:33\u001b[39m] \u001b[34mLogLevel(-1)\u001b[39m: ODE message = dt=0.0012674422816672257\tt=87.31085378772973\tmax u=0.934974561079317 - 0.34549891586047915im, progress = 0.8713658062647677\n",
      "[\u001b[34m2024-09-01 18:03:34\u001b[39m] \u001b[34mLogLevel(-1)\u001b[39m: ODE message = dt=0.0012711447113638178\tt=88.58023223459281\tmax u=-0.7195854640216698 + 0.6907051863940025im, progress = 0.8840342538382516\n",
      "[\u001b[34m2024-09-01 18:03:35\u001b[39m] \u001b[34mLogLevel(-1)\u001b[39m: ODE message = dt=0.0012740767892933545\tt=89.85291578118243\tmax u=0.7234890270679026 - 0.6872986174981444im, progress = 0.8967356864389464\n",
      "[\u001b[34m2024-09-01 18:03:36\u001b[39m] \u001b[34mLogLevel(-1)\u001b[39m: ODE message = dt=0.001276209813936985\tt=91.12810974673468\tmax u=-0.9037932612423824 + 0.4238457083212527im, progress = 0.9094621731211046\n",
      "[\u001b[34m2024-09-01 18:03:36\u001b[39m] \u001b[34mLogLevel(-1)\u001b[39m: ODE message = dt=0.0012776242803148826\tt=92.40507730041963\tmax u=0.9928693179899984 + 0.10565950119063555im, progress = 0.922206360283629\n",
      "[\u001b[34m2024-09-01 18:03:37\u001b[39m] \u001b[34mLogLevel(-1)\u001b[39m: ODE message = dt=0.001278434459937943\tt=93.68316037148537\tmax u=-0.7021626986696816 - 0.7100649019780522im, progress = 0.9349616803541454\n",
      "[\u001b[34m2024-09-01 18:03:38\u001b[39m] \u001b[34mLogLevel(-1)\u001b[39m: ODE message = dt=0.0012787437873917932\tt=94.96179529296444\tmax u=0.025311640025163888 + 0.9983404176852065im, progress = 0.9477225079138167\n",
      "[\u001b[34m2024-09-01 18:03:39\u001b[39m] \u001b[34mLogLevel(-1)\u001b[39m: ODE message = dt=0.0012786471622849235\tt=96.24052047176333\tmax u=0.6737227941656029 - 0.737152202541311im, progress = 0.960484236245143\n",
      "[\u001b[34m2024-09-01 18:03:39\u001b[39m] \u001b[34mLogLevel(-1)\u001b[39m: ODE message = dt=0.0012782323752681686\tt=97.51897577059069\tmax u=-0.9937518366742789 + 0.09818465228152579im, progress = 0.9732432711635797\n",
      "[\u001b[34m2024-09-01 18:03:40\u001b[39m] \u001b[34mLogLevel(-1)\u001b[39m: ODE message = dt=0.0012775829904865428\tt=98.79689475013329\tmax u=0.8428775508380912 + 0.5353216086676811im, progress = 0.9859969535941446\n",
      "[\u001b[34m2024-09-01 18:03:41\u001b[39m] \u001b[34mLogLevel(-1)\u001b[39m: ODE message = dt=0.0012767840900078924\tt=100.07409189953607\tmax u=-0.417581101927595 - 0.9068709075496698im, progress = 0.9987434321310985\n",
      "[\u001b[34m2024-09-01 18:03:41\u001b[39m] \u001b[34mLogLevel(-1)\u001b[39m: ODE message = dt=0.0007866830370772959\tt=100.2\tmax u=0.2836638874416353 + 0.9572332318035214im, progress = done\n",
      "[\u001b[36m2024-09-01 18:03:41\u001b[39m] \u001b[36mInfo\u001b[39m: Time Evolution Complete\n",
      "[\u001b[36m2024-09-01 18:03:41\u001b[39m] \u001b[36mInfo\u001b[39m: Getting Overlaps\n",
      "[\u001b[36m2024-09-01 18:03:57\u001b[39m] \u001b[36mInfo\u001b[39m: Done with q_g_0\n"
     ]
    }
   ],
   "source": [
    "ψ = Mode3.dressed_states[(0,0)]\n",
    "SC.RunSingleOperator(Mode3, ψ, Mode3.Stuff[\"op_drive_params\"][\"q_g_0\"], save_step = true, to_return = \"Nothing\", step_name = \"q_g_0\", run_name = \"Single_Op_Demo_\"*string(now()));"
   ]
  },
  {
   "cell_type": "markdown",
   "metadata": {},
   "source": [
    "### Running a Series of Operators"
   ]
  },
  {
   "cell_type": "code",
   "execution_count": 12,
   "metadata": {},
   "outputs": [
    {
     "ename": "UndefVarError",
     "evalue": "UndefVarError: `model` not defined",
     "output_type": "error",
     "traceback": [
      "UndefVarError: `model` not defined\n",
      "\n",
      "Stacktrace:\n",
      " [1] top-level scope\n",
      "   @ ~/Documents/Git Repositories/SuperconductingCavities/Demo/jl_notebook_cell_df34fa98e69747e1a8f8a730347b8e2f_X45sZmlsZQ==.jl:1"
     ]
    }
   ],
   "source": [
    "ψ = Mode3.dressed_states[(0,0)]\n",
    "SC.RunPulseSequence(Mode3, ψ, [\"q_g_0\", \"q_e_0\"])"
   ]
  },
  {
   "cell_type": "markdown",
   "metadata": {},
   "source": [
    "## With Density Matrices"
   ]
  },
  {
   "cell_type": "code",
   "execution_count": 63,
   "metadata": {},
   "outputs": [
    {
     "data": {
      "text/plain": [
       "Dict{Any, Any} with 3 entries:\n",
       "  \"Mode 3 Collapse\"    => Operator(dim=100x100)…\n",
       "  \"Transmon Collapse\"  => Operator(dim=100x100)…\n",
       "  \"Transmon Dephasing\" => Operator(dim=100x100)…"
      ]
     },
     "metadata": {},
     "output_type": "display_data"
    }
   ],
   "source": [
    "Mode3.CandD_Ops"
   ]
  },
  {
   "cell_type": "code",
   "execution_count": 11,
   "metadata": {},
   "outputs": [
    {
     "name": "stdout",
     "output_type": "stream",
     "text": [
      "[\u001b[36m2024-09-02 10:22:16\u001b[39m] \u001b[36mInfo\u001b[39m: Running operator q_e_0\n",
      "[\u001b[36m2024-09-02 10:22:16\u001b[39m] \u001b[36mInfo\u001b[39m: Running Time Evolution\n",
      "[\u001b[34m2024-09-02 10:22:20\u001b[39m] \u001b[34mLogLevel(-1)\u001b[39m: ODE progress = 0\n",
      "[\u001b[34m2024-09-02 10:22:23\u001b[39m] \u001b[34mLogLevel(-1)\u001b[39m: ODE message = dt=0.0022297746318701603\tt=2.5613361773140353\tmax u=0.9999013482021929 + 8.228810546230448e-15im, progress = 0.035772851638464186\n",
      "[\u001b[34m2024-09-02 10:22:25\u001b[39m] \u001b[34mLogLevel(-1)\u001b[39m: ODE message = dt=0.0020833495695194502\tt=4.707294672719735\tmax u=0.9998000200400847 + 1.7106456496963785e-14im, progress = 0.06574433900446558\n",
      "[\u001b[34m2024-09-02 10:22:28\u001b[39m] \u001b[34mLogLevel(-1)\u001b[39m: ODE message = dt=0.0020097059359571743\tt=6.750558324570673\tmax u=0.9998388279127534 + 2.0327635739251425e-14im, progress = 0.09428154084595913\n",
      "[\u001b[34m2024-09-02 10:22:30\u001b[39m] \u001b[34mLogLevel(-1)\u001b[39m: ODE message = dt=0.00196296271793647\tt=8.73535858483198\tmax u=0.9999250840635244 + 2.672902978483838e-14im, progress = 0.12200221487195503\n",
      "[\u001b[34m2024-09-02 10:22:32\u001b[39m] \u001b[34mLogLevel(-1)\u001b[39m: ODE message = dt=0.0019299547416470359\tt=10.680941898272785\tmax u=0.999849307039278 + 3.0509707236162453e-14im, progress = 0.14917516617699422\n",
      "[\u001b[34m2024-09-02 10:22:35\u001b[39m] \u001b[34mLogLevel(-1)\u001b[39m: ODE message = dt=0.0019051621650536242\tt=12.597945455160431\tmax u=0.9995955729282984 + 3.575584288554735e-14im, progress = 0.17594895887095577\n",
      "[\u001b[34m2024-09-02 10:22:37\u001b[39m] \u001b[34mLogLevel(-1)\u001b[39m: ODE message = dt=0.0018857706609507867\tt=14.493037293178737\tmax u=0.9994381068400782 + 2.910161276607508e-14im, progress = 0.2024167219717701\n",
      "[\u001b[34m2024-09-02 10:22:39\u001b[39m] \u001b[34mLogLevel(-1)\u001b[39m: ODE message = dt=0.0018701833330733379\tt=16.37074455359681\tmax u=0.9995404031017486 + 2.615278976079001e-14im, progress = 0.22864168370945268\n",
      "[\u001b[34m2024-09-02 10:22:42\u001b[39m] \u001b[34mLogLevel(-1)\u001b[39m: ODE message = dt=0.001857396290095521\tt=18.234322870110383\tmax u=0.9996546278529501 + 2.482179968614712e-14im, progress = 0.25466931382835734\n",
      "[\u001b[34m2024-09-02 10:22:44\u001b[39m] \u001b[34mLogLevel(-1)\u001b[39m: ODE message = dt=0.00184671258246461\tt=20.086207261923043\tmax u=0.9994276333647414 + 2.0024604013035927e-14im, progress = 0.28053362097657886\n",
      "[\u001b[34m2024-09-02 10:22:47\u001b[39m] \u001b[34mLogLevel(-1)\u001b[39m: ODE message = dt=0.0018376697235136076\tt=21.92827077843226\tmax u=0.9990253366556829 + 2.0942311525695595e-14im, progress = 0.3062607650619031\n",
      "[\u001b[34m2024-09-02 10:22:49\u001b[39m] \u001b[34mLogLevel(-1)\u001b[39m: ODE message = dt=0.001829943216544534\tt=23.761987069484082\tmax u=0.9987639001201335 + 1.7426196026228383e-14im, progress = 0.3318713277860906\n",
      "[\u001b[34m2024-09-02 10:22:51\u001b[39m] \u001b[34mLogLevel(-1)\u001b[39m: ODE message = dt=0.0018233281736885674\tt=25.588542646237318\tmax u=0.9989468008919633 + 1.2863094247527424e-14im, progress = 0.3573818805340408\n",
      "[\u001b[34m2024-09-02 10:22:54\u001b[39m] \u001b[34mLogLevel(-1)\u001b[39m: ODE message = dt=0.001817588247332054\tt=27.408916442129826\tmax u=0.9990698475706191 + 4.959848165131494e-15im, progress = 0.38280609556047246\n",
      "[\u001b[34m2024-09-02 10:22:56\u001b[39m] \u001b[34mLogLevel(-1)\u001b[39m: ODE message = dt=0.0018125417271813934\tt=29.223921585586233\tmax u=0.9988838158402848 - 9.998192038470726e-16im, progress = 0.408155329407629\n",
      "[\u001b[34m2024-09-02 10:22:58\u001b[39m] \u001b[34mLogLevel(-1)\u001b[39m: ODE message = dt=0.0018081412586503354\tt=31.03423054763014\tmax u=0.9984649537977566 - 6.084986696526817e-15im, progress = 0.43343897412891264\n",
      "[\u001b[34m2024-09-02 10:23:01\u001b[39m] \u001b[34mLogLevel(-1)\u001b[39m: ODE message = dt=0.0018042893512346047\tt=32.840404910692186\tmax u=0.9982076390649136 - 1.1618609157868311e-14im, progress = 0.45866487305436016\n",
      "[\u001b[34m2024-09-02 10:23:03\u001b[39m] \u001b[34mLogLevel(-1)\u001b[39m: ODE message = dt=0.0018008726935316633\tt=34.6429322355436\tmax u=0.9983722350444794 - 1.9567829163494075e-14im, progress = 0.4838398356919497\n",
      "[\u001b[34m2024-09-02 10:23:05\u001b[39m] \u001b[34mLogLevel(-1)\u001b[39m: ODE message = dt=0.0017978069243815573\tt=36.44224428511711\tmax u=0.9986624446682939 - 2.5396134796108953e-14im, progress = 0.508969892250239\n",
      "[\u001b[34m2024-09-02 10:23:08\u001b[39m] \u001b[34mLogLevel(-1)\u001b[39m: ODE message = dt=0.0017951240359873185\tt=38.23870358316774\tmax u=0.9986594692230621 - 3.301531415146373e-14im, progress = 0.5340601059101641\n",
      "[\u001b[34m2024-09-02 10:23:10\u001b[39m] \u001b[34mLogLevel(-1)\u001b[39m: ODE message = dt=0.001792750971219145\tt=40.032610203143555\tmax u=0.9984381191401442 - 3.904108289465616e-14im, progress = 0.5591146676416698\n",
      "[\u001b[34m2024-09-02 10:23:13\u001b[39m] \u001b[34mLogLevel(-1)\u001b[39m: ODE message = dt=0.0017905882009733966\tt=41.82423783296433\tmax u=0.9983603987596471 - 4.725888736909581e-14im, progress = 0.5841373999017365\n",
      "[\u001b[34m2024-09-02 10:23:15\u001b[39m] \u001b[34mLogLevel(-1)\u001b[39m: ODE message = dt=0.001788636274394107\tt=43.6138376799667\tmax u=0.9985615675983732 - 5.4227511174216365e-14im, progress = 0.6091318111727193\n",
      "[\u001b[34m2024-09-02 10:23:17\u001b[39m] \u001b[34mLogLevel(-1)\u001b[39m: ODE message = dt=0.0017869372290729517\tt=45.40162031994797\tmax u=0.9988357396509798 - 6.030106862930742e-14im, progress = 0.634100842457374\n",
      "[\u001b[34m2024-09-02 10:23:20\u001b[39m] \u001b[34mLogLevel(-1)\u001b[39m: ODE message = dt=0.0017854166810144856\tt=47.18776687404837\tmax u=0.9989576024082307 - 6.478895032416748e-14im, progress = 0.6590470233805639\n",
      "[\u001b[34m2024-09-02 10:23:22\u001b[39m] \u001b[34mLogLevel(-1)\u001b[39m: ODE message = dt=0.0017839880446215886\tt=48.97244601976917\tmax u=0.9989519910562319 - 6.849771470570972e-14im, progress = 0.6839727097733125\n",
      "[\u001b[34m2024-09-02 10:23:24\u001b[39m] \u001b[34mLogLevel(-1)\u001b[39m: ODE message = dt=0.0017827213484864519\tt=50.755806903594184\tmax u=0.9989907581517474 - 7.266407080226151e-14im, progress = 0.7088799846870697\n",
      "[\u001b[34m2024-09-02 10:23:27\u001b[39m] \u001b[34mLogLevel(-1)\u001b[39m: ODE message = dt=0.0017816315881909594\tt=52.53797592773439\tmax u=0.9991439357879832 - 7.64362448795825e-14im, progress = 0.7337706135158435\n",
      "[\u001b[34m2024-09-02 10:23:29\u001b[39m] \u001b[34mLogLevel(-1)\u001b[39m: ODE message = dt=0.0017806120685701988\tt=54.31907275123134\tmax u=0.9993312342028852 - 8.175293462848839e-14im, progress = 0.7586462674752981\n",
      "[\u001b[34m2024-09-02 10:23:31\u001b[39m] \u001b[34mLogLevel(-1)\u001b[39m: ODE message = dt=0.0017796649091560892\tt=56.09920941305558\tmax u=0.9994636235818274 - 8.458722152750653e-14im, progress = 0.7835085113555249\n",
      "[\u001b[34m2024-09-02 10:23:34\u001b[39m] \u001b[34mLogLevel(-1)\u001b[39m: ODE message = dt=0.0017788525504010312\tt=57.87847509840731\tmax u=0.9995390607648101 - 8.560637477460097e-14im, progress = 0.8083585907598787\n",
      "[\u001b[34m2024-09-02 10:23:36\u001b[39m] \u001b[34mLogLevel(-1)\u001b[39m: ODE message = dt=0.0017781239348994358\tt=59.65694845819116\tmax u=0.9996019714390104 - 8.965699629375223e-14im, progress = 0.833197604164681\n",
      "[\u001b[34m2024-09-02 10:23:39\u001b[39m] \u001b[34mLogLevel(-1)\u001b[39m: ODE message = dt=0.0017774291661327747\tt=61.43471219732997\tmax u=0.9996732103622291 - 9.051360216214125e-14im, progress = 0.8580267066666198\n",
      "[\u001b[34m2024-09-02 10:23:41\u001b[39m] \u001b[34mLogLevel(-1)\u001b[39m: ODE message = dt=0.001776813508439002\tt=63.211838132373835\tmax u=0.9997427700496303 - 9.216329662428175e-14im, progress = 0.8828469012901374\n",
      "[\u001b[34m2024-09-02 10:23:43\u001b[39m] \u001b[34mLogLevel(-1)\u001b[39m: ODE message = dt=0.0017762820558767135\tt=64.9883821279573\tmax u=0.9997996617959659 - 9.35927472269009e-14im, progress = 0.9076589682675601\n",
      "[\u001b[34m2024-09-02 10:23:46\u001b[39m] \u001b[34mLogLevel(-1)\u001b[39m: ODE message = dt=0.0017757794577093035\tt=66.76439931514778\tmax u=0.9998435470884857 - 9.391789559669172e-14im, progress = 0.932463677585863\n",
      "[\u001b[34m2024-09-02 10:23:48\u001b[39m] \u001b[34mLogLevel(-1)\u001b[39m: ODE message = dt=0.0017753129791213981\tt=68.53994322751406\tmax u=0.9998760450765579 - 9.396601976556561e-14im, progress = 0.9572617769205874\n",
      "[\u001b[34m2024-09-02 10:23:50\u001b[39m] \u001b[34mLogLevel(-1)\u001b[39m: ODE message = dt=0.0017749119784157203\tt=70.31505729986547\tmax u=0.9998971157583291 - 9.87074884975204e-14im, progress = 0.9820538729031492\n",
      "[\u001b[34m2024-09-02 10:23:52\u001b[39m] \u001b[34mLogLevel(-1)\u001b[39m: ODE message = dt=6.119644254454215e-6\tt=71.6\tmax u=0.9999055660734263 - 1.0142540309379203e-13im, progress = done\n",
      "[\u001b[36m2024-09-02 10:23:52\u001b[39m] \u001b[36mInfo\u001b[39m: Time Evolution Complete\n",
      "[\u001b[36m2024-09-02 10:23:52\u001b[39m] \u001b[36mInfo\u001b[39m: Getting Probabilities\n",
      "[\u001b[36m2024-09-02 10:23:57\u001b[39m] \u001b[36mInfo\u001b[39m: Making Save Directory Data/\n",
      "[\u001b[36m2024-09-02 10:24:04\u001b[39m] \u001b[36mInfo\u001b[39m: Done with Step_1\n",
      "[\u001b[36m2024-09-02 10:24:04\u001b[39m] \u001b[36mInfo\u001b[39m: Running operator q_g_0\n",
      "[\u001b[36m2024-09-02 10:24:04\u001b[39m] \u001b[36mInfo\u001b[39m: Running Time Evolution\n",
      "[\u001b[34m2024-09-02 10:24:04\u001b[39m] \u001b[34mLogLevel(-1)\u001b[39m: ODE progress = 0\n",
      "[\u001b[34m2024-09-02 10:24:07\u001b[39m] \u001b[34mLogLevel(-1)\u001b[39m: ODE message = dt=0.0017742433851521838\tt=1.7722644270923633\tmax u=0.999805241774839 - 1.0157128653376487e-13im, progress = 0.01768726973146071\n",
      "[\u001b[34m2024-09-02 10:24:09\u001b[39m] \u001b[34mLogLevel(-1)\u001b[39m: ODE message = dt=0.0017739503556602073\tt=3.5463641562989965\tmax u=0.999573687117876 - 1.0186876833050873e-13im, progress = 0.03539285585128739\n",
      "[\u001b[34m2024-09-02 10:24:11\u001b[39m] \u001b[34mLogLevel(-1)\u001b[39m: ODE message = dt=0.0017737009544919083\tt=5.320190588011753\tmax u=0.999171926359327 - 1.0272381865750161e-13im, progress = 0.0530957144512151\n",
      "[\u001b[34m2024-09-02 10:24:14\u001b[39m] \u001b[34mLogLevel(-1)\u001b[39m: ODE message = dt=0.0017734895254807805\tt=7.093782814751978\tmax u=0.9985313082123937 - 1.0266600663172657e-13im, progress = 0.07079623567616744\n",
      "[\u001b[34m2024-09-02 10:24:16\u001b[39m] \u001b[34mLogLevel(-1)\u001b[39m: ODE message = dt=0.0017733241585782106\tt=8.867180521945928\tmax u=0.9975483439786754 - 1.0294828305823795e-13im, progress = 0.0884948155882827\n",
      "[\u001b[34m2024-09-02 10:24:19\u001b[39m] \u001b[34mLogLevel(-1)\u001b[39m: ODE message = dt=0.0017731943892464021\tt=10.640425580390016\tmax u=0.9961738782957914 - 1.0251358249485989e-13im, progress = 0.10619187205978059\n",
      "[\u001b[34m2024-09-02 10:24:21\u001b[39m] \u001b[34mLogLevel(-1)\u001b[39m: ODE message = dt=0.0017731143010646878\tt=12.413562517712302\tmax u=0.9942834538332294 - 1.0380322867475962e-13im, progress = 0.12388784947816668\n",
      "[\u001b[34m2024-09-02 10:24:23\u001b[39m] \u001b[34mLogLevel(-1)\u001b[39m: ODE message = dt=0.0017730681521946846\tt=14.18663947763701\tmax u=0.9916635045172405 - 1.0456418432481941e-13im, progress = 0.14158322831973064\n",
      "[\u001b[34m2024-09-02 10:24:26\u001b[39m] \u001b[34mLogLevel(-1)\u001b[39m: ODE message = dt=0.0017730797773935281\tt=15.959708828914065\tmax u=0.9882633997563484 - 1.0659089446513437e-13im, progress = 0.15927853122668728\n",
      "[\u001b[34m2024-09-02 10:24:28\u001b[39m] \u001b[34mLogLevel(-1)\u001b[39m: ODE message = dt=0.001773151761287948\tt=17.732827623000922\tmax u=0.9838894747890903 - 1.0822032103546377e-13im, progress = 0.1769743275748595\n",
      "[\u001b[34m2024-09-02 10:24:31\u001b[39m] \u001b[34mLogLevel(-1)\u001b[39m: ODE message = dt=0.0017732782392449369\tt=19.506058229055075\tmax u=0.9781493821389907 - 1.1111277891251925e-13im, progress = 0.19467123981092888\n",
      "[\u001b[34m2024-09-02 10:24:33\u001b[39m] \u001b[34mLogLevel(-1)\u001b[39m: ODE message = dt=0.001773502563091635\tt=21.27946785936417\tmax u=0.9710575350812312 - 1.1291726633689672e-13im, progress = 0.2123699387162093\n",
      "[\u001b[34m2024-09-02 10:24:35\u001b[39m] \u001b[34mLogLevel(-1)\u001b[39m: ODE message = dt=0.0017738038594048385\tt=23.053130691917172\tmax u=0.9623944493550646 - 1.1255214013268612e-13im, progress = 0.23007116458999172\n",
      "[\u001b[34m2024-09-02 10:24:38\u001b[39m] \u001b[34mLogLevel(-1)\u001b[39m: ODE message = dt=0.0017741903923966806\tt=24.82712442681763\tmax u=0.9515026561408593 - 1.1318665828922279e-13im, progress = 0.24777569288241147\n",
      "[\u001b[34m2024-09-02 10:24:40\u001b[39m] \u001b[34mLogLevel(-1)\u001b[39m: ODE message = dt=0.0017746707975764458\tt=26.601533593112034\tmax u=0.9385640809277733 - 1.1624579653707936e-13im, progress = 0.26548436719672686\n",
      "[\u001b[34m2024-09-02 10:24:42\u001b[39m] \u001b[34mLogLevel(-1)\u001b[39m: ODE message = dt=0.0017752412713719003\tt=28.37644504203053\tmax u=0.9233445663982839 - 1.1701644221136006e-13im, progress = 0.28319805431168193\n",
      "[\u001b[34m2024-09-02 10:24:45\u001b[39m] \u001b[34mLogLevel(-1)\u001b[39m: ODE message = dt=0.0017758610891818205\tt=30.151949611902946\tmax u=0.9049207177746053 - 1.1612718840800013e-13im, progress = 0.3009176607974346\n",
      "[\u001b[34m2024-09-02 10:24:47\u001b[39m] \u001b[34mLogLevel(-1)\u001b[39m: ODE message = dt=0.00177658348342642\tt=31.928137236650386\tmax u=0.8839887043103227 - 1.1583992390970032e-13im, progress = 0.31864408419810764\n",
      "[\u001b[34m2024-09-02 10:24:50\u001b[39m] \u001b[34mLogLevel(-1)\u001b[39m: ODE message = dt=0.001777379975044451\tt=33.70509779159526\tmax u=0.8600942377998961 - 1.1674488302522323e-13im, progress = 0.33637822147300656\n",
      "[\u001b[34m2024-09-02 10:24:52\u001b[39m] \u001b[34mLogLevel(-1)\u001b[39m: ODE message = dt=0.0017782096802973144\tt=35.48291279099293\tmax u=0.8322894812531104 - 1.1598918244720487e-13im, progress = 0.35412088613765397\n",
      "[\u001b[34m2024-09-02 10:24:54\u001b[39m] \u001b[34mLogLevel(-1)\u001b[39m: ODE message = dt=0.001779193418490422\tt=37.26165576502486\tmax u=0.802143076820067 - 1.127906613935672e-13im, progress = 0.3718728120261962\n",
      "[\u001b[34m2024-09-02 10:24:57\u001b[39m] \u001b[34mLogLevel(-1)\u001b[39m: ODE message = dt=0.001780162610320448\tt=39.04138648462804\tmax u=0.7682675771224297 - 1.0769895720463658e-13im, progress = 0.38963459565497044\n",
      "[\u001b[34m2024-09-02 10:24:59\u001b[39m] \u001b[34mLogLevel(-1)\u001b[39m: ODE message = dt=0.0017812455752366323\tt=40.82214608303758\tmax u=0.7311758347642835 - 1.0214374019954002e-13im, progress = 0.4074066475353052\n",
      "[\u001b[34m2024-09-02 10:25:01\u001b[39m] \u001b[34mLogLevel(-1)\u001b[39m: ODE message = dt=0.0017823404128726374\tt=42.603960085157894\tmax u=0.6922413392786536 - 9.508185739976629e-14im, progress = 0.4251892224067654\n",
      "[\u001b[34m2024-09-02 10:25:04\u001b[39m] \u001b[34mLogLevel(-1)\u001b[39m: ODE message = dt=0.0017834048603291158\tt=44.38682639431975\tmax u=0.6494293612869031 - 8.815004416763557e-14im, progress = 0.44298229934450845\n",
      "[\u001b[34m2024-09-02 10:25:06\u001b[39m] \u001b[34mLogLevel(-1)\u001b[39m: ODE message = dt=0.0017844762072059949\tt=46.17072210194039\tmax u=0.6060291285164578 - 8.047161057252216e-14im, progress = 0.460785649719964\n",
      "[\u001b[34m2024-09-02 10:25:09\u001b[39m] \u001b[34mLogLevel(-1)\u001b[39m: ODE message = dt=0.0017853999156676955\tt=47.95559277747797\tmax u=0.5599977279548501 - 7.293453059839123e-14im, progress = 0.47859873031415134\n",
      "[\u001b[34m2024-09-02 10:25:11\u001b[39m] \u001b[34mLogLevel(-1)\u001b[39m: ODE message = dt=0.0017862609293347554\tt=49.74135772563682\tmax u=0.5136621153781374 - 6.457719614305904e-14im, progress = 0.49642073578479856\n",
      "[\u001b[34m2024-09-02 10:25:13\u001b[39m] \u001b[34mLogLevel(-1)\u001b[39m: ODE message = dt=0.00178693903349636\tt=51.527909526575264\tmax u=0.5306434875583415 - 8.822321541656982e-14im, progress = 0.5142505940775974\n"
     ]
    },
    {
     "ename": "InterruptException",
     "evalue": "InterruptException:",
     "output_type": "error",
     "traceback": [
      "InterruptException:\n",
      "\n",
      "Stacktrace:\n",
      "  [1] Array\n",
      "    @ ./boot.jl:477 [inlined]\n",
      "  [2] getindex\n",
      "    @ ./array.jl:400 [inlined]\n",
      "  [3] merge(a::NamedTuple{(), Tuple{}}, itr::Dict{Symbol, Any})\n",
      "    @ Base ./namedtuple.jl:300\n",
      "  [4] (::SuperconductingCavities.var\"#envelope#15\"{String, Dict{Symbol, Any}})(t::Float64)\n",
      "    @ SuperconductingCavities /local/gr400/Git Repositories/Research-SpinChainEntropy/SuperconductingCavities/src/Circuits/ExtraStuff/TimeEvolutionUtils.jl:17\n",
      "  [5] (::SuperconductingCavities.var\"#20#21\"{Vector{Any}, QuantumOpticsBase.Operator{QuantumInterface.CompositeBasis{Vector{Int64}, Tuple{QuantumInterface.NLevelBasis{Int64}, QuantumInterface.FockBasis{Int64}}}, QuantumInterface.CompositeBasis{Vector{Int64}, Tuple{QuantumInterface.NLevelBasis{Int64}, QuantumInterface.FockBasis{Int64}}}, SparseMatrixCSC{ComplexF64, Int64}}, Float64, Float64, QuantumOpticsBase.Operator{QuantumInterface.CompositeBasis{Vector{Int64}, Tuple{QuantumInterface.NLevelBasis{Int64}, QuantumInterface.FockBasis{Int64}}}, QuantumInterface.CompositeBasis{Vector{Int64}, Tuple{QuantumInterface.NLevelBasis{Int64}, QuantumInterface.FockBasis{Int64}}}, SparseMatrixCSC{ComplexF64, Int64}}, SuperconductingCavities.var\"#envelope#15\"{String, Dict{Symbol, Any}}})(t::Float64, ψ::QuantumOpticsBase.Operator{QuantumInterface.CompositeBasis{Vector{Int64}, Tuple{QuantumInterface.NLevelBasis{Int64}, QuantumInterface.FockBasis{Int64}}}, QuantumInterface.CompositeBasis{Vector{Int64}, Tuple{QuantumInterface.NLevelBasis{Int64}, QuantumInterface.FockBasis{Int64}}}, Matrix{ComplexF64}})\n",
      "    @ SuperconductingCavities /local/gr400/Git Repositories/Research-SpinChainEntropy/SuperconductingCavities/src/Circuits/ExtraStuff/TimeEvolutionUtils.jl:41\n",
      "  [6] dmaster_h_dynamic!(drho::QuantumOpticsBase.Operator{QuantumInterface.CompositeBasis{Vector{Int64}, Tuple{QuantumInterface.NLevelBasis{Int64}, QuantumInterface.FockBasis{Int64}}}, QuantumInterface.CompositeBasis{Vector{Int64}, Tuple{QuantumInterface.NLevelBasis{Int64}, QuantumInterface.FockBasis{Int64}}}, Matrix{ComplexF64}}, f::SuperconductingCavities.var\"#20#21\"{Vector{Any}, QuantumOpticsBase.Operator{QuantumInterface.CompositeBasis{Vector{Int64}, Tuple{QuantumInterface.NLevelBasis{Int64}, QuantumInterface.FockBasis{Int64}}}, QuantumInterface.CompositeBasis{Vector{Int64}, Tuple{QuantumInterface.NLevelBasis{Int64}, QuantumInterface.FockBasis{Int64}}}, SparseMatrixCSC{ComplexF64, Int64}}, Float64, Float64, QuantumOpticsBase.Operator{QuantumInterface.CompositeBasis{Vector{Int64}, Tuple{QuantumInterface.NLevelBasis{Int64}, QuantumInterface.FockBasis{Int64}}}, QuantumInterface.CompositeBasis{Vector{Int64}, Tuple{QuantumInterface.NLevelBasis{Int64}, QuantumInterface.FockBasis{Int64}}}, SparseMatrixCSC{ComplexF64, Int64}}, SuperconductingCavities.var\"#envelope#15\"{String, Dict{Symbol, Any}}}, rates::Nothing, rho::QuantumOpticsBase.Operator{QuantumInterface.CompositeBasis{Vector{Int64}, Tuple{QuantumInterface.NLevelBasis{Int64}, QuantumInterface.FockBasis{Int64}}}, QuantumInterface.CompositeBasis{Vector{Int64}, Tuple{QuantumInterface.NLevelBasis{Int64}, QuantumInterface.FockBasis{Int64}}}, Matrix{ComplexF64}}, drho_cache::QuantumOpticsBase.Operator{QuantumInterface.CompositeBasis{Vector{Int64}, Tuple{QuantumInterface.NLevelBasis{Int64}, QuantumInterface.FockBasis{Int64}}}, QuantumInterface.CompositeBasis{Vector{Int64}, Tuple{QuantumInterface.NLevelBasis{Int64}, QuantumInterface.FockBasis{Int64}}}, Matrix{ComplexF64}}, t::Float64)\n",
      "    @ QuantumOptics.timeevolution ~/.julia/packages/QuantumOptics/aaJBj/src/master.jl:401\n",
      "  [7] dmaster_\n",
      "    @ ~/.julia/packages/QuantumOptics/aaJBj/src/master.jl:219 [inlined]\n",
      "  [8] df_\n",
      "    @ ~/.julia/packages/QuantumOptics/aaJBj/src/timeevolution_base.jl:23 [inlined]\n",
      "  [9] Void\n",
      "    @ ~/.julia/packages/SciMLBase/2HZ5m/src/utils.jl:481 [inlined]\n",
      " [10] (::FunctionWrappers.CallWrapper{Nothing})(f::SciMLBase.Void{QuantumOptics.timeevolution.var\"#df_#3\"{QuantumOptics.timeevolution.var\"#dmaster_#35\"{Nothing, SuperconductingCavities.var\"#20#21\"{Vector{Any}, QuantumOpticsBase.Operator{QuantumInterface.CompositeBasis{Vector{Int64}, Tuple{QuantumInterface.NLevelBasis{Int64}, QuantumInterface.FockBasis{Int64}}}, QuantumInterface.CompositeBasis{Vector{Int64}, Tuple{QuantumInterface.NLevelBasis{Int64}, QuantumInterface.FockBasis{Int64}}}, SparseMatrixCSC{ComplexF64, Int64}}, Float64, Float64, QuantumOpticsBase.Operator{QuantumInterface.CompositeBasis{Vector{Int64}, Tuple{QuantumInterface.NLevelBasis{Int64}, QuantumInterface.FockBasis{Int64}}}, QuantumInterface.CompositeBasis{Vector{Int64}, Tuple{QuantumInterface.NLevelBasis{Int64}, QuantumInterface.FockBasis{Int64}}}, SparseMatrixCSC{ComplexF64, Int64}}, SuperconductingCavities.var\"#envelope#15\"{String, Dict{Symbol, Any}}}, QuantumOpticsBase.Operator{QuantumInterface.CompositeBasis{Vector{Int64}, Tuple{QuantumInterface.NLevelBasis{Int64}, QuantumInterface.FockBasis{Int64}}}, QuantumInterface.CompositeBasis{Vector{Int64}, Tuple{QuantumInterface.NLevelBasis{Int64}, QuantumInterface.FockBasis{Int64}}}, Matrix{ComplexF64}}}, QuantumOpticsBase.Operator{QuantumInterface.CompositeBasis{Vector{Int64}, Tuple{QuantumInterface.NLevelBasis{Int64}, QuantumInterface.FockBasis{Int64}}}, QuantumInterface.CompositeBasis{Vector{Int64}, Tuple{QuantumInterface.NLevelBasis{Int64}, QuantumInterface.FockBasis{Int64}}}, Matrix{ComplexF64}}, QuantumOpticsBase.Operator{QuantumInterface.CompositeBasis{Vector{Int64}, Tuple{QuantumInterface.NLevelBasis{Int64}, QuantumInterface.FockBasis{Int64}}}, QuantumInterface.CompositeBasis{Vector{Int64}, Tuple{QuantumInterface.NLevelBasis{Int64}, QuantumInterface.FockBasis{Int64}}}, Matrix{ComplexF64}}}}, arg1::Matrix{ComplexF64}, arg2::Matrix{ComplexF64}, arg3::SciMLBase.NullParameters, arg4::Float64)\n",
      "    @ FunctionWrappers ~/.julia/packages/FunctionWrappers/Q5cBx/src/FunctionWrappers.jl:65\n",
      " [11] macro expansion\n",
      "    @ ~/.julia/packages/FunctionWrappers/Q5cBx/src/FunctionWrappers.jl:137 [inlined]\n",
      " [12] do_ccall\n",
      "    @ ~/.julia/packages/FunctionWrappers/Q5cBx/src/FunctionWrappers.jl:125 [inlined]\n",
      " [13] FunctionWrapper\n",
      "    @ ~/.julia/packages/FunctionWrappers/Q5cBx/src/FunctionWrappers.jl:144 [inlined]\n",
      " [14] _call\n",
      "    @ ~/.julia/packages/FunctionWrappersWrappers/9XR0m/src/FunctionWrappersWrappers.jl:12 [inlined]\n",
      " [15] FunctionWrappersWrapper\n",
      "    @ ~/.julia/packages/FunctionWrappersWrappers/9XR0m/src/FunctionWrappersWrappers.jl:10 [inlined]\n",
      " [16] ODEFunction\n",
      "    @ ~/.julia/packages/SciMLBase/2HZ5m/src/scimlfunctions.jl:2355 [inlined]\n",
      " [17] perform_step!(integrator::OrdinaryDiffEq.ODEIntegrator{OrdinaryDiffEq.DP5{typeof(OrdinaryDiffEq.trivial_limiter!), typeof(OrdinaryDiffEq.trivial_limiter!), Static.False}, true, Matrix{ComplexF64}, Nothing, Float64, SciMLBase.NullParameters, Float64, Float64, Float64, Float64, Vector{Matrix{ComplexF64}}, SciMLBase.ODESolution{ComplexF64, 3, Vector{Matrix{ComplexF64}}, Nothing, Nothing, Vector{Float64}, Vector{Vector{Matrix{ComplexF64}}}, SciMLBase.ODEProblem{Matrix{ComplexF64}, Tuple{Float64, Float64}, true, SciMLBase.NullParameters, SciMLBase.ODEFunction{true, SciMLBase.AutoSpecialize, FunctionWrappersWrappers.FunctionWrappersWrapper{Tuple{FunctionWrappers.FunctionWrapper{Nothing, Tuple{Matrix{ComplexF64}, Matrix{ComplexF64}, SciMLBase.NullParameters, Float64}}, FunctionWrappers.FunctionWrapper{Nothing, Tuple{Matrix{Complex{ForwardDiff.Dual{ForwardDiff.Tag{DiffEqBase.OrdinaryDiffEqTag, ComplexF64}, ComplexF64, 1}}}, Matrix{Complex{ForwardDiff.Dual{ForwardDiff.Tag{DiffEqBase.OrdinaryDiffEqTag, ComplexF64}, ComplexF64, 1}}}, SciMLBase.NullParameters, Float64}}, FunctionWrappers.FunctionWrapper{Nothing, Tuple{Matrix{Complex{ForwardDiff.Dual{ForwardDiff.Tag{DiffEqBase.OrdinaryDiffEqTag, ComplexF64}, ComplexF64, 1}}}, Matrix{ComplexF64}, SciMLBase.NullParameters, ForwardDiff.Dual{ForwardDiff.Tag{DiffEqBase.OrdinaryDiffEqTag, ComplexF64}, ComplexF64, 1}}}, FunctionWrappers.FunctionWrapper{Nothing, Tuple{Matrix{Complex{ForwardDiff.Dual{ForwardDiff.Tag{DiffEqBase.OrdinaryDiffEqTag, ComplexF64}, ComplexF64, 1}}}, Matrix{Complex{ForwardDiff.Dual{ForwardDiff.Tag{DiffEqBase.OrdinaryDiffEqTag, ComplexF64}, ComplexF64, 1}}}, SciMLBase.NullParameters, ForwardDiff.Dual{ForwardDiff.Tag{DiffEqBase.OrdinaryDiffEqTag, ComplexF64}, ComplexF64, 1}}}}, false}, UniformScaling{Bool}, Nothing, Nothing, Nothing, Nothing, Nothing, Nothing, Nothing, Nothing, Nothing, Nothing, Nothing, typeof(SciMLBase.DEFAULT_OBSERVED), Nothing, SymbolicIndexingInterface.SymbolCache{Nothing, Nothing, Nothing}}, Base.Pairs{Symbol, Union{}, Tuple{}, NamedTuple{(), Tuple{}}}, SciMLBase.StandardODEProblem}, OrdinaryDiffEq.DP5{typeof(OrdinaryDiffEq.trivial_limiter!), typeof(OrdinaryDiffEq.trivial_limiter!), Static.False}, OrdinaryDiffEq.InterpolationData{SciMLBase.ODEFunction{true, SciMLBase.AutoSpecialize, FunctionWrappersWrappers.FunctionWrappersWrapper{Tuple{FunctionWrappers.FunctionWrapper{Nothing, Tuple{Matrix{ComplexF64}, Matrix{ComplexF64}, SciMLBase.NullParameters, Float64}}, FunctionWrappers.FunctionWrapper{Nothing, Tuple{Matrix{Complex{ForwardDiff.Dual{ForwardDiff.Tag{DiffEqBase.OrdinaryDiffEqTag, ComplexF64}, ComplexF64, 1}}}, Matrix{Complex{ForwardDiff.Dual{ForwardDiff.Tag{DiffEqBase.OrdinaryDiffEqTag, ComplexF64}, ComplexF64, 1}}}, SciMLBase.NullParameters, Float64}}, FunctionWrappers.FunctionWrapper{Nothing, Tuple{Matrix{Complex{ForwardDiff.Dual{ForwardDiff.Tag{DiffEqBase.OrdinaryDiffEqTag, ComplexF64}, ComplexF64, 1}}}, Matrix{ComplexF64}, SciMLBase.NullParameters, ForwardDiff.Dual{ForwardDiff.Tag{DiffEqBase.OrdinaryDiffEqTag, ComplexF64}, ComplexF64, 1}}}, FunctionWrappers.FunctionWrapper{Nothing, Tuple{Matrix{Complex{ForwardDiff.Dual{ForwardDiff.Tag{DiffEqBase.OrdinaryDiffEqTag, ComplexF64}, ComplexF64, 1}}}, Matrix{Complex{ForwardDiff.Dual{ForwardDiff.Tag{DiffEqBase.OrdinaryDiffEqTag, ComplexF64}, ComplexF64, 1}}}, SciMLBase.NullParameters, ForwardDiff.Dual{ForwardDiff.Tag{DiffEqBase.OrdinaryDiffEqTag, ComplexF64}, ComplexF64, 1}}}}, false}, UniformScaling{Bool}, Nothing, Nothing, Nothing, Nothing, Nothing, Nothing, Nothing, Nothing, Nothing, Nothing, Nothing, typeof(SciMLBase.DEFAULT_OBSERVED), Nothing, SymbolicIndexingInterface.SymbolCache{Nothing, Nothing, Nothing}}, Vector{Matrix{ComplexF64}}, Vector{Float64}, Vector{Vector{Matrix{ComplexF64}}}, OrdinaryDiffEq.DP5Cache{Matrix{ComplexF64}, Matrix{ComplexF64}, Matrix{ComplexF64}, typeof(OrdinaryDiffEq.trivial_limiter!), typeof(OrdinaryDiffEq.trivial_limiter!), Static.False}, Nothing}, SciMLBase.DEStats, Nothing}, SciMLBase.ODEFunction{true, SciMLBase.AutoSpecialize, FunctionWrappersWrappers.FunctionWrappersWrapper{Tuple{FunctionWrappers.FunctionWrapper{Nothing, Tuple{Matrix{ComplexF64}, Matrix{ComplexF64}, SciMLBase.NullParameters, Float64}}, FunctionWrappers.FunctionWrapper{Nothing, Tuple{Matrix{Complex{ForwardDiff.Dual{ForwardDiff.Tag{DiffEqBase.OrdinaryDiffEqTag, ComplexF64}, ComplexF64, 1}}}, Matrix{Complex{ForwardDiff.Dual{ForwardDiff.Tag{DiffEqBase.OrdinaryDiffEqTag, ComplexF64}, ComplexF64, 1}}}, SciMLBase.NullParameters, Float64}}, FunctionWrappers.FunctionWrapper{Nothing, Tuple{Matrix{Complex{ForwardDiff.Dual{ForwardDiff.Tag{DiffEqBase.OrdinaryDiffEqTag, ComplexF64}, ComplexF64, 1}}}, Matrix{ComplexF64}, SciMLBase.NullParameters, ForwardDiff.Dual{ForwardDiff.Tag{DiffEqBase.OrdinaryDiffEqTag, ComplexF64}, ComplexF64, 1}}}, FunctionWrappers.FunctionWrapper{Nothing, Tuple{Matrix{Complex{ForwardDiff.Dual{ForwardDiff.Tag{DiffEqBase.OrdinaryDiffEqTag, ComplexF64}, ComplexF64, 1}}}, Matrix{Complex{ForwardDiff.Dual{ForwardDiff.Tag{DiffEqBase.OrdinaryDiffEqTag, ComplexF64}, ComplexF64, 1}}}, SciMLBase.NullParameters, ForwardDiff.Dual{ForwardDiff.Tag{DiffEqBase.OrdinaryDiffEqTag, ComplexF64}, ComplexF64, 1}}}}, false}, UniformScaling{Bool}, Nothing, Nothing, Nothing, Nothing, Nothing, Nothing, Nothing, Nothing, Nothing, Nothing, Nothing, typeof(SciMLBase.DEFAULT_OBSERVED), Nothing, SymbolicIndexingInterface.SymbolCache{Nothing, Nothing, Nothing}}, OrdinaryDiffEq.DP5Cache{Matrix{ComplexF64}, Matrix{ComplexF64}, Matrix{ComplexF64}, typeof(OrdinaryDiffEq.trivial_limiter!), typeof(OrdinaryDiffEq.trivial_limiter!), Static.False}, OrdinaryDiffEq.DEOptions{Float64, Float64, Float64, Float64, OrdinaryDiffEq.PIController{Rational{Int64}}, typeof(DiffEqBase.ODE_DEFAULT_NORM), typeof(opnorm), Bool, SciMLBase.CallbackSet{Tuple{}, Tuple{SciMLBase.DiscreteCallback{DiffEqCallbacks.var\"#41#42\", DiffEqCallbacks.SavingAffect{QuantumOptics.timeevolution.var\"#fout_#4\"{QuantumOptics.timeevolution.var\"#fout#7\", QuantumOpticsBase.Operator{QuantumInterface.CompositeBasis{Vector{Int64}, Tuple{QuantumInterface.NLevelBasis{Int64}, QuantumInterface.FockBasis{Int64}}}, QuantumInterface.CompositeBasis{Vector{Int64}, Tuple{QuantumInterface.NLevelBasis{Int64}, QuantumInterface.FockBasis{Int64}}}, Matrix{ComplexF64}}}, Float64, QuantumOpticsBase.Operator{QuantumInterface.CompositeBasis{Vector{Int64}, Tuple{QuantumInterface.NLevelBasis{Int64}, QuantumInterface.FockBasis{Int64}}}, QuantumInterface.CompositeBasis{Vector{Int64}, Tuple{QuantumInterface.NLevelBasis{Int64}, QuantumInterface.FockBasis{Int64}}}, Matrix{ComplexF64}}, DataStructures.BinaryMinHeap{Float64}, Vector{Float64}}, typeof(DiffEqCallbacks.saving_initialize), typeof(SciMLBase.FINALIZE_DEFAULT)}}}, typeof(DiffEqBase.ODE_DEFAULT_ISOUTOFDOMAIN), typeof(DiffEqBase.ODE_DEFAULT_PROG_MESSAGE), typeof(DiffEqBase.ODE_DEFAULT_UNSTABLE_CHECK), DataStructures.BinaryHeap{Float64, DataStructures.FasterForward}, DataStructures.BinaryHeap{Float64, DataStructures.FasterForward}, Nothing, Nothing, Int64, Tuple{}, Tuple{}, Tuple{}}, Matrix{ComplexF64}, ComplexF64, Nothing, OrdinaryDiffEq.DefaultInit, Nothing}, cache::OrdinaryDiffEq.DP5Cache{Matrix{ComplexF64}, Matrix{ComplexF64}, Matrix{ComplexF64}, typeof(OrdinaryDiffEq.trivial_limiter!), typeof(OrdinaryDiffEq.trivial_limiter!), Static.False}, repeat_step::Bool)\n",
      "    @ OrdinaryDiffEq ~/.julia/packages/OrdinaryDiffEq/NBaQM/src/perform_step/low_order_rk_perform_step.jl:948\n",
      " [18] perform_step!\n",
      "    @ ~/.julia/packages/OrdinaryDiffEq/NBaQM/src/perform_step/low_order_rk_perform_step.jl:919 [inlined]\n",
      " [19] solve!(integrator::OrdinaryDiffEq.ODEIntegrator{OrdinaryDiffEq.DP5{typeof(OrdinaryDiffEq.trivial_limiter!), typeof(OrdinaryDiffEq.trivial_limiter!), Static.False}, true, Matrix{ComplexF64}, Nothing, Float64, SciMLBase.NullParameters, Float64, Float64, Float64, Float64, Vector{Matrix{ComplexF64}}, SciMLBase.ODESolution{ComplexF64, 3, Vector{Matrix{ComplexF64}}, Nothing, Nothing, Vector{Float64}, Vector{Vector{Matrix{ComplexF64}}}, SciMLBase.ODEProblem{Matrix{ComplexF64}, Tuple{Float64, Float64}, true, SciMLBase.NullParameters, SciMLBase.ODEFunction{true, SciMLBase.AutoSpecialize, FunctionWrappersWrappers.FunctionWrappersWrapper{Tuple{FunctionWrappers.FunctionWrapper{Nothing, Tuple{Matrix{ComplexF64}, Matrix{ComplexF64}, SciMLBase.NullParameters, Float64}}, FunctionWrappers.FunctionWrapper{Nothing, Tuple{Matrix{Complex{ForwardDiff.Dual{ForwardDiff.Tag{DiffEqBase.OrdinaryDiffEqTag, ComplexF64}, ComplexF64, 1}}}, Matrix{Complex{ForwardDiff.Dual{ForwardDiff.Tag{DiffEqBase.OrdinaryDiffEqTag, ComplexF64}, ComplexF64, 1}}}, SciMLBase.NullParameters, Float64}}, FunctionWrappers.FunctionWrapper{Nothing, Tuple{Matrix{Complex{ForwardDiff.Dual{ForwardDiff.Tag{DiffEqBase.OrdinaryDiffEqTag, ComplexF64}, ComplexF64, 1}}}, Matrix{ComplexF64}, SciMLBase.NullParameters, ForwardDiff.Dual{ForwardDiff.Tag{DiffEqBase.OrdinaryDiffEqTag, ComplexF64}, ComplexF64, 1}}}, FunctionWrappers.FunctionWrapper{Nothing, Tuple{Matrix{Complex{ForwardDiff.Dual{ForwardDiff.Tag{DiffEqBase.OrdinaryDiffEqTag, ComplexF64}, ComplexF64, 1}}}, Matrix{Complex{ForwardDiff.Dual{ForwardDiff.Tag{DiffEqBase.OrdinaryDiffEqTag, ComplexF64}, ComplexF64, 1}}}, SciMLBase.NullParameters, ForwardDiff.Dual{ForwardDiff.Tag{DiffEqBase.OrdinaryDiffEqTag, ComplexF64}, ComplexF64, 1}}}}, false}, UniformScaling{Bool}, Nothing, Nothing, Nothing, Nothing, Nothing, Nothing, Nothing, Nothing, Nothing, Nothing, Nothing, typeof(SciMLBase.DEFAULT_OBSERVED), Nothing, SymbolicIndexingInterface.SymbolCache{Nothing, Nothing, Nothing}}, Base.Pairs{Symbol, Union{}, Tuple{}, NamedTuple{(), Tuple{}}}, SciMLBase.StandardODEProblem}, OrdinaryDiffEq.DP5{typeof(OrdinaryDiffEq.trivial_limiter!), typeof(OrdinaryDiffEq.trivial_limiter!), Static.False}, OrdinaryDiffEq.InterpolationData{SciMLBase.ODEFunction{true, SciMLBase.AutoSpecialize, FunctionWrappersWrappers.FunctionWrappersWrapper{Tuple{FunctionWrappers.FunctionWrapper{Nothing, Tuple{Matrix{ComplexF64}, Matrix{ComplexF64}, SciMLBase.NullParameters, Float64}}, FunctionWrappers.FunctionWrapper{Nothing, Tuple{Matrix{Complex{ForwardDiff.Dual{ForwardDiff.Tag{DiffEqBase.OrdinaryDiffEqTag, ComplexF64}, ComplexF64, 1}}}, Matrix{Complex{ForwardDiff.Dual{ForwardDiff.Tag{DiffEqBase.OrdinaryDiffEqTag, ComplexF64}, ComplexF64, 1}}}, SciMLBase.NullParameters, Float64}}, FunctionWrappers.FunctionWrapper{Nothing, Tuple{Matrix{Complex{ForwardDiff.Dual{ForwardDiff.Tag{DiffEqBase.OrdinaryDiffEqTag, ComplexF64}, ComplexF64, 1}}}, Matrix{ComplexF64}, SciMLBase.NullParameters, ForwardDiff.Dual{ForwardDiff.Tag{DiffEqBase.OrdinaryDiffEqTag, ComplexF64}, ComplexF64, 1}}}, FunctionWrappers.FunctionWrapper{Nothing, Tuple{Matrix{Complex{ForwardDiff.Dual{ForwardDiff.Tag{DiffEqBase.OrdinaryDiffEqTag, ComplexF64}, ComplexF64, 1}}}, Matrix{Complex{ForwardDiff.Dual{ForwardDiff.Tag{DiffEqBase.OrdinaryDiffEqTag, ComplexF64}, ComplexF64, 1}}}, SciMLBase.NullParameters, ForwardDiff.Dual{ForwardDiff.Tag{DiffEqBase.OrdinaryDiffEqTag, ComplexF64}, ComplexF64, 1}}}}, false}, UniformScaling{Bool}, Nothing, Nothing, Nothing, Nothing, Nothing, Nothing, Nothing, Nothing, Nothing, Nothing, Nothing, typeof(SciMLBase.DEFAULT_OBSERVED), Nothing, SymbolicIndexingInterface.SymbolCache{Nothing, Nothing, Nothing}}, Vector{Matrix{ComplexF64}}, Vector{Float64}, Vector{Vector{Matrix{ComplexF64}}}, OrdinaryDiffEq.DP5Cache{Matrix{ComplexF64}, Matrix{ComplexF64}, Matrix{ComplexF64}, typeof(OrdinaryDiffEq.trivial_limiter!), typeof(OrdinaryDiffEq.trivial_limiter!), Static.False}, Nothing}, SciMLBase.DEStats, Nothing}, SciMLBase.ODEFunction{true, SciMLBase.AutoSpecialize, FunctionWrappersWrappers.FunctionWrappersWrapper{Tuple{FunctionWrappers.FunctionWrapper{Nothing, Tuple{Matrix{ComplexF64}, Matrix{ComplexF64}, SciMLBase.NullParameters, Float64}}, FunctionWrappers.FunctionWrapper{Nothing, Tuple{Matrix{Complex{ForwardDiff.Dual{ForwardDiff.Tag{DiffEqBase.OrdinaryDiffEqTag, ComplexF64}, ComplexF64, 1}}}, Matrix{Complex{ForwardDiff.Dual{ForwardDiff.Tag{DiffEqBase.OrdinaryDiffEqTag, ComplexF64}, ComplexF64, 1}}}, SciMLBase.NullParameters, Float64}}, FunctionWrappers.FunctionWrapper{Nothing, Tuple{Matrix{Complex{ForwardDiff.Dual{ForwardDiff.Tag{DiffEqBase.OrdinaryDiffEqTag, ComplexF64}, ComplexF64, 1}}}, Matrix{ComplexF64}, SciMLBase.NullParameters, ForwardDiff.Dual{ForwardDiff.Tag{DiffEqBase.OrdinaryDiffEqTag, ComplexF64}, ComplexF64, 1}}}, FunctionWrappers.FunctionWrapper{Nothing, Tuple{Matrix{Complex{ForwardDiff.Dual{ForwardDiff.Tag{DiffEqBase.OrdinaryDiffEqTag, ComplexF64}, ComplexF64, 1}}}, Matrix{Complex{ForwardDiff.Dual{ForwardDiff.Tag{DiffEqBase.OrdinaryDiffEqTag, ComplexF64}, ComplexF64, 1}}}, SciMLBase.NullParameters, ForwardDiff.Dual{ForwardDiff.Tag{DiffEqBase.OrdinaryDiffEqTag, ComplexF64}, ComplexF64, 1}}}}, false}, UniformScaling{Bool}, Nothing, Nothing, Nothing, Nothing, Nothing, Nothing, Nothing, Nothing, Nothing, Nothing, Nothing, typeof(SciMLBase.DEFAULT_OBSERVED), Nothing, SymbolicIndexingInterface.SymbolCache{Nothing, Nothing, Nothing}}, OrdinaryDiffEq.DP5Cache{Matrix{ComplexF64}, Matrix{ComplexF64}, Matrix{ComplexF64}, typeof(OrdinaryDiffEq.trivial_limiter!), typeof(OrdinaryDiffEq.trivial_limiter!), Static.False}, OrdinaryDiffEq.DEOptions{Float64, Float64, Float64, Float64, OrdinaryDiffEq.PIController{Rational{Int64}}, typeof(DiffEqBase.ODE_DEFAULT_NORM), typeof(opnorm), Bool, SciMLBase.CallbackSet{Tuple{}, Tuple{SciMLBase.DiscreteCallback{DiffEqCallbacks.var\"#41#42\", DiffEqCallbacks.SavingAffect{QuantumOptics.timeevolution.var\"#fout_#4\"{QuantumOptics.timeevolution.var\"#fout#7\", QuantumOpticsBase.Operator{QuantumInterface.CompositeBasis{Vector{Int64}, Tuple{QuantumInterface.NLevelBasis{Int64}, QuantumInterface.FockBasis{Int64}}}, QuantumInterface.CompositeBasis{Vector{Int64}, Tuple{QuantumInterface.NLevelBasis{Int64}, QuantumInterface.FockBasis{Int64}}}, Matrix{ComplexF64}}}, Float64, QuantumOpticsBase.Operator{QuantumInterface.CompositeBasis{Vector{Int64}, Tuple{QuantumInterface.NLevelBasis{Int64}, QuantumInterface.FockBasis{Int64}}}, QuantumInterface.CompositeBasis{Vector{Int64}, Tuple{QuantumInterface.NLevelBasis{Int64}, QuantumInterface.FockBasis{Int64}}}, Matrix{ComplexF64}}, DataStructures.BinaryMinHeap{Float64}, Vector{Float64}}, typeof(DiffEqCallbacks.saving_initialize), typeof(SciMLBase.FINALIZE_DEFAULT)}}}, typeof(DiffEqBase.ODE_DEFAULT_ISOUTOFDOMAIN), typeof(DiffEqBase.ODE_DEFAULT_PROG_MESSAGE), typeof(DiffEqBase.ODE_DEFAULT_UNSTABLE_CHECK), DataStructures.BinaryHeap{Float64, DataStructures.FasterForward}, DataStructures.BinaryHeap{Float64, DataStructures.FasterForward}, Nothing, Nothing, Int64, Tuple{}, Tuple{}, Tuple{}}, Matrix{ComplexF64}, ComplexF64, Nothing, OrdinaryDiffEq.DefaultInit, Nothing})\n",
      "    @ OrdinaryDiffEq ~/.julia/packages/OrdinaryDiffEq/NBaQM/src/solve.jl:544\n",
      " [20] #__solve#746\n",
      "    @ ~/.julia/packages/OrdinaryDiffEq/NBaQM/src/solve.jl:6 [inlined]\n",
      " [21] __solve\n",
      "    @ ~/.julia/packages/OrdinaryDiffEq/NBaQM/src/solve.jl:1 [inlined]\n",
      " [22] solve_call(_prob::SciMLBase.ODEProblem{Matrix{ComplexF64}, Tuple{Float64, Float64}, true, SciMLBase.NullParameters, SciMLBase.ODEFunction{true, SciMLBase.AutoSpecialize, FunctionWrappersWrappers.FunctionWrappersWrapper{Tuple{FunctionWrappers.FunctionWrapper{Nothing, Tuple{Matrix{ComplexF64}, Matrix{ComplexF64}, SciMLBase.NullParameters, Float64}}, FunctionWrappers.FunctionWrapper{Nothing, Tuple{Matrix{Complex{ForwardDiff.Dual{ForwardDiff.Tag{DiffEqBase.OrdinaryDiffEqTag, ComplexF64}, ComplexF64, 1}}}, Matrix{Complex{ForwardDiff.Dual{ForwardDiff.Tag{DiffEqBase.OrdinaryDiffEqTag, ComplexF64}, ComplexF64, 1}}}, SciMLBase.NullParameters, Float64}}, FunctionWrappers.FunctionWrapper{Nothing, Tuple{Matrix{Complex{ForwardDiff.Dual{ForwardDiff.Tag{DiffEqBase.OrdinaryDiffEqTag, ComplexF64}, ComplexF64, 1}}}, Matrix{ComplexF64}, SciMLBase.NullParameters, ForwardDiff.Dual{ForwardDiff.Tag{DiffEqBase.OrdinaryDiffEqTag, ComplexF64}, ComplexF64, 1}}}, FunctionWrappers.FunctionWrapper{Nothing, Tuple{Matrix{Complex{ForwardDiff.Dual{ForwardDiff.Tag{DiffEqBase.OrdinaryDiffEqTag, ComplexF64}, ComplexF64, 1}}}, Matrix{Complex{ForwardDiff.Dual{ForwardDiff.Tag{DiffEqBase.OrdinaryDiffEqTag, ComplexF64}, ComplexF64, 1}}}, SciMLBase.NullParameters, ForwardDiff.Dual{ForwardDiff.Tag{DiffEqBase.OrdinaryDiffEqTag, ComplexF64}, ComplexF64, 1}}}}, false}, UniformScaling{Bool}, Nothing, Nothing, Nothing, Nothing, Nothing, Nothing, Nothing, Nothing, Nothing, Nothing, Nothing, typeof(SciMLBase.DEFAULT_OBSERVED), Nothing, SymbolicIndexingInterface.SymbolCache{Nothing, Nothing, Nothing}}, Base.Pairs{Symbol, Union{}, Tuple{}, NamedTuple{(), Tuple{}}}, SciMLBase.StandardODEProblem}, args::OrdinaryDiffEq.DP5{typeof(OrdinaryDiffEq.trivial_limiter!), typeof(OrdinaryDiffEq.trivial_limiter!), Static.False}; merge_callbacks::Bool, kwargshandle::Nothing, kwargs::Base.Pairs{Symbol, Any, NTuple{8, Symbol}, NamedTuple{(:reltol, :abstol, :save_everystep, :save_start, :save_end, :callback, :adaptive, :progress), Tuple{Float64, Float64, Bool, Bool, Bool, SciMLBase.CallbackSet{Tuple{}, Tuple{SciMLBase.DiscreteCallback{DiffEqCallbacks.var\"#41#42\", DiffEqCallbacks.SavingAffect{QuantumOptics.timeevolution.var\"#fout_#4\"{QuantumOptics.timeevolution.var\"#fout#7\", QuantumOpticsBase.Operator{QuantumInterface.CompositeBasis{Vector{Int64}, Tuple{QuantumInterface.NLevelBasis{Int64}, QuantumInterface.FockBasis{Int64}}}, QuantumInterface.CompositeBasis{Vector{Int64}, Tuple{QuantumInterface.NLevelBasis{Int64}, QuantumInterface.FockBasis{Int64}}}, Matrix{ComplexF64}}}, Float64, QuantumOpticsBase.Operator{QuantumInterface.CompositeBasis{Vector{Int64}, Tuple{QuantumInterface.NLevelBasis{Int64}, QuantumInterface.FockBasis{Int64}}}, QuantumInterface.CompositeBasis{Vector{Int64}, Tuple{QuantumInterface.NLevelBasis{Int64}, QuantumInterface.FockBasis{Int64}}}, Matrix{ComplexF64}}, DataStructures.BinaryMinHeap{Float64}, Vector{Float64}}, typeof(DiffEqCallbacks.saving_initialize), typeof(SciMLBase.FINALIZE_DEFAULT)}}}, Bool, Bool}}})\n",
      "    @ DiffEqBase ~/.julia/packages/DiffEqBase/eTCPy/src/solve.jl:608\n",
      " [23] solve_call\n",
      "    @ ~/.julia/packages/DiffEqBase/eTCPy/src/solve.jl:566 [inlined]\n",
      " [24] #solve_up#42\n",
      "    @ ~/.julia/packages/DiffEqBase/eTCPy/src/solve.jl:1057 [inlined]\n",
      " [25] solve_up\n",
      "    @ ~/.julia/packages/DiffEqBase/eTCPy/src/solve.jl:1043 [inlined]\n",
      " [26] #solve#40\n",
      "    @ ~/.julia/packages/DiffEqBase/eTCPy/src/solve.jl:980 [inlined]\n",
      " [27] integrate(tspan::Vector{Float64}, df::QuantumOptics.timeevolution.var\"#dmaster_#35\"{Nothing, SuperconductingCavities.var\"#20#21\"{Vector{Any}, QuantumOpticsBase.Operator{QuantumInterface.CompositeBasis{Vector{Int64}, Tuple{QuantumInterface.NLevelBasis{Int64}, QuantumInterface.FockBasis{Int64}}}, QuantumInterface.CompositeBasis{Vector{Int64}, Tuple{QuantumInterface.NLevelBasis{Int64}, QuantumInterface.FockBasis{Int64}}}, SparseMatrixCSC{ComplexF64, Int64}}, Float64, Float64, QuantumOpticsBase.Operator{QuantumInterface.CompositeBasis{Vector{Int64}, Tuple{QuantumInterface.NLevelBasis{Int64}, QuantumInterface.FockBasis{Int64}}}, QuantumInterface.CompositeBasis{Vector{Int64}, Tuple{QuantumInterface.NLevelBasis{Int64}, QuantumInterface.FockBasis{Int64}}}, SparseMatrixCSC{ComplexF64, Int64}}, SuperconductingCavities.var\"#envelope#15\"{String, Dict{Symbol, Any}}}, QuantumOpticsBase.Operator{QuantumInterface.CompositeBasis{Vector{Int64}, Tuple{QuantumInterface.NLevelBasis{Int64}, QuantumInterface.FockBasis{Int64}}}, QuantumInterface.CompositeBasis{Vector{Int64}, Tuple{QuantumInterface.NLevelBasis{Int64}, QuantumInterface.FockBasis{Int64}}}, Matrix{ComplexF64}}}, x0::Matrix{ComplexF64}, state::QuantumOpticsBase.Operator{QuantumInterface.CompositeBasis{Vector{Int64}, Tuple{QuantumInterface.NLevelBasis{Int64}, QuantumInterface.FockBasis{Int64}}}, QuantumInterface.CompositeBasis{Vector{Int64}, Tuple{QuantumInterface.NLevelBasis{Int64}, QuantumInterface.FockBasis{Int64}}}, Matrix{ComplexF64}}, dstate::QuantumOpticsBase.Operator{QuantumInterface.CompositeBasis{Vector{Int64}, Tuple{QuantumInterface.NLevelBasis{Int64}, QuantumInterface.FockBasis{Int64}}}, QuantumInterface.CompositeBasis{Vector{Int64}, Tuple{QuantumInterface.NLevelBasis{Int64}, QuantumInterface.FockBasis{Int64}}}, Matrix{ComplexF64}}, fout::QuantumOptics.timeevolution.var\"#fout#7\"; alg::OrdinaryDiffEq.DP5{typeof(OrdinaryDiffEq.trivial_limiter!), typeof(OrdinaryDiffEq.trivial_limiter!), Static.False}, steady_state::Bool, tol::Float64, save_everystep::Bool, saveat::Vector{Float64}, callback::Nothing, kwargs::Base.Pairs{Symbol, Real, NTuple{4, Symbol}, NamedTuple{(:reltol, :adaptive, :abstol, :progress), Tuple{Float64, Bool, Float64, Bool}}})\n",
      "    @ QuantumOptics.timeevolution ~/.julia/packages/QuantumOptics/aaJBj/src/timeevolution_base.jl:63\n",
      " [28] integrate(tspan::Vector{Float64}, df::Function, x0::Matrix{ComplexF64}, state::QuantumOpticsBase.Operator{QuantumInterface.CompositeBasis{Vector{Int64}, Tuple{QuantumInterface.NLevelBasis{Int64}, QuantumInterface.FockBasis{Int64}}}, QuantumInterface.CompositeBasis{Vector{Int64}, Tuple{QuantumInterface.NLevelBasis{Int64}, QuantumInterface.FockBasis{Int64}}}, Matrix{ComplexF64}}, dstate::QuantumOpticsBase.Operator{QuantumInterface.CompositeBasis{Vector{Int64}, Tuple{QuantumInterface.NLevelBasis{Int64}, QuantumInterface.FockBasis{Int64}}}, QuantumInterface.CompositeBasis{Vector{Int64}, Tuple{QuantumInterface.NLevelBasis{Int64}, QuantumInterface.FockBasis{Int64}}}, Matrix{ComplexF64}}, ::Nothing; kwargs::Base.Pairs{Symbol, Real, NTuple{5, Symbol}, NamedTuple{(:tol, :reltol, :adaptive, :abstol, :progress), Tuple{Float64, Float64, Bool, Float64, Bool}}})\n",
      "    @ QuantumOptics.timeevolution ~/.julia/packages/QuantumOptics/aaJBj/src/timeevolution_base.jl:79\n",
      " [29] integrate\n",
      "    @ ~/.julia/packages/QuantumOptics/aaJBj/src/timeevolution_base.jl:74 [inlined]\n",
      " [30] integrate_master(tspan::Vector{Float64}, df::Function, rho0::QuantumOpticsBase.Operator{QuantumInterface.CompositeBasis{Vector{Int64}, Tuple{QuantumInterface.NLevelBasis{Int64}, QuantumInterface.FockBasis{Int64}}}, QuantumInterface.CompositeBasis{Vector{Int64}, Tuple{QuantumInterface.NLevelBasis{Int64}, QuantumInterface.FockBasis{Int64}}}, Matrix{ComplexF64}}, fout::Nothing; kwargs::Base.Pairs{Symbol, Real, NTuple{5, Symbol}, NamedTuple{(:tol, :reltol, :adaptive, :abstol, :progress), Tuple{Float64, Float64, Bool, Float64, Bool}}})\n",
      "    @ QuantumOptics.timeevolution ~/.julia/packages/QuantumOptics/aaJBj/src/master.jl:268\n",
      " [31] integrate_master\n",
      "    @ ~/.julia/packages/QuantumOptics/aaJBj/src/master.jl:264 [inlined]\n",
      " [32] #master_dynamic#34\n",
      "    @ ~/.julia/packages/QuantumOptics/aaJBj/src/master.jl:221 [inlined]\n",
      " [33] RunSingleOperator(model::SuperconductingCavities.Transmon_Resonators, ρ::QuantumOpticsBase.Operator{QuantumInterface.CompositeBasis{Vector{Int64}, Tuple{QuantumInterface.NLevelBasis{Int64}, QuantumInterface.FockBasis{Int64}}}, QuantumInterface.CompositeBasis{Vector{Int64}, Tuple{QuantumInterface.NLevelBasis{Int64}, QuantumInterface.FockBasis{Int64}}}, Matrix{ComplexF64}}, op_params::Dict{String, Any}; c_ops::Vector{Any}, spps::Int64, solver_kwargs::Dict{Any, Any}, save_step::Bool, step_name::String, to_return::String, save_path::String, run_name::String, save_as_seperate_file::Bool)\n",
      "    @ SuperconductingCavities /local/gr400/Git Repositories/Research-SpinChainEntropy/SuperconductingCavities/src/Utils/RunOperatorSequence.jl:143\n",
      " [34] RunPulseSequence(model::SuperconductingCavities.Transmon_Resonators, ρ::QuantumOpticsBase.Operator{QuantumInterface.CompositeBasis{Vector{Int64}, Tuple{QuantumInterface.NLevelBasis{Int64}, QuantumInterface.FockBasis{Int64}}}, QuantumInterface.CompositeBasis{Vector{Int64}, Tuple{QuantumInterface.NLevelBasis{Int64}, QuantumInterface.FockBasis{Int64}}}, Matrix{ComplexF64}}, op_sequence::Vector{Any}; spps::Int64, solver_kwargs::Dict{Any, Any}, run_name::String, save_path::String, c_ops::Vector{Any})\n",
      "    @ SuperconductingCavities /local/gr400/Git Repositories/Research-SpinChainEntropy/SuperconductingCavities/src/Utils/RunOperatorSequence.jl:217\n",
      " [35] top-level scope\n",
      "    @ /local/gr400/Git Repositories/Research-SpinChainEntropy/SuperconductingCavities/Demo/jl_notebook_cell_df34fa98e69747e1a8f8a730347b8e2f_X34sZmlsZQ==.jl:3"
     ]
    }
   ],
   "source": [
    "ψ = Mode3.dressed_states[(0,0)]\n",
    "ρ = ψ*ψ'\n",
    "SC.RunPulseSequence(Mode3, ρ, Mode3.Stuff[\"Drive Sequences\"][\"Binomial_Code\"], c_ops = [], run_name = \"Demo_Run_With_Out_Loss_\"*string(now()))"
   ]
  },
  {
   "cell_type": "code",
   "execution_count": null,
   "metadata": {},
   "outputs": [],
   "source": [
    "SC.RunPulseSequence(Mode3, ρ, Mode3.Stuff[\"Drive Sequences\"][\"Binomial_Code\"], c_ops = collect(values(Mode3.CandD_Ops)), run_name = \"Demo_Run_With_Loss_\"*string(now()))"
   ]
  }
 ],
 "metadata": {
  "kernelspec": {
   "display_name": "Julia 1.9.2",
   "language": "julia",
   "name": "julia-1.9"
  },
  "language_info": {
   "file_extension": ".jl",
   "mimetype": "application/julia",
   "name": "julia",
   "version": "1.9.2"
  }
 },
 "nbformat": 4,
 "nbformat_minor": 2
}
