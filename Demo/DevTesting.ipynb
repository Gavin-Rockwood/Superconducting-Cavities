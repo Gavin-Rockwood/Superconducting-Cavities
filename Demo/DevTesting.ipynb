{
 "cells": [
  {
   "cell_type": "markdown",
   "metadata": {},
   "source": [
    "# Setup"
   ]
  },
  {
   "cell_type": "markdown",
   "metadata": {},
   "source": [
    "## Imports"
   ]
  },
  {
   "cell_type": "code",
   "execution_count": 1,
   "metadata": {},
   "outputs": [],
   "source": [
    "import QuantumOptics as qo\n",
    "using Logging\n",
    "\n",
    "using LinearAlgebra\n",
    "using SparseArrays\n",
    "import CairoMakie as cm\n",
    "\n",
    "using ProtoStructs\n",
    "\n",
    "import QuantumOptics.⊗\n",
    "import QuantumOptics.*\n",
    "\n",
    "import CSV\n",
    "using JSON\n",
    "import Tables\n",
    "\n",
    "using YAXArrays\n",
    "\n",
    "using MiniLoggers\n",
    "using Dates\n",
    "using Revise"
   ]
  },
  {
   "cell_type": "code",
   "execution_count": 2,
   "metadata": {},
   "outputs": [],
   "source": [
    "import SuperconductingCavities as SC"
   ]
  },
  {
   "cell_type": "markdown",
   "metadata": {},
   "source": [
    "## Extra Stuff"
   ]
  },
  {
   "cell_type": "code",
   "execution_count": 3,
   "metadata": {},
   "outputs": [
    {
     "data": {
      "text/plain": [
       "Base.CoreLogging.SimpleLogger(VSCodeServer.IJuliaCore.IJuliaStdio{Base.PipeEndpoint, typeof(VSCodeServer.io_send_callback)}(IOContext(Base.PipeEndpoint(RawFD(21) open, 0 bytes waiting)), VSCodeServer.io_send_callback), Info, Dict{Any, Int64}())"
      ]
     },
     "metadata": {},
     "output_type": "display_data"
    }
   ],
   "source": [
    "# MiniLogger(minlevel = MiniLoggers.Info) |> global_logger\n",
    "InfoLogger = MiniLogger(minlevel = MiniLoggers.Info)\n",
    "ProgressLogger = MiniLogger(minlevel = LogLevel(-1))\n",
    "DebugLogger = MiniLogger(minlevel = MiniLoggers.Debug)\n",
    "\n",
    "global_logger(ProgressLogger)"
   ]
  },
  {
   "cell_type": "code",
   "execution_count": 4,
   "metadata": {},
   "outputs": [
    {
     "data": {
      "text/plain": [
       "tostr (generic function with 1 method)"
      ]
     },
     "metadata": {},
     "output_type": "display_data"
    }
   ],
   "source": [
    "function tostr(obj)\n",
    "    io = IOBuffer()\n",
    "    show(io, \"text/plain\", obj)\n",
    "    String(take!(io))\n",
    "end"
   ]
  },
  {
   "cell_type": "markdown",
   "metadata": {},
   "source": [
    "# Doing Stuff"
   ]
  },
  {
   "cell_type": "code",
   "execution_count": 5,
   "metadata": {},
   "outputs": [],
   "source": [
    "Mode3 = SC.Transmon_Resonators_Loader(\"ModelSaves/Mode_3/Mode_3.json\");"
   ]
  },
  {
   "cell_type": "code",
   "execution_count": 59,
   "metadata": {},
   "outputs": [
    {
     "data": {
      "text/plain": [
       "2-element Vector{Int64}:\n",
       " 10\n",
       " 10"
      ]
     },
     "metadata": {},
     "output_type": "display_data"
    }
   ],
   "source": [
    "qo.basis(Mode3.Ĥ).shape"
   ]
  },
  {
   "cell_type": "code",
   "execution_count": 58,
   "metadata": {},
   "outputs": [
    {
     "data": {
      "text/plain": [
       "2-element Vector{Any}:\n",
       " \"Transmon\"\n",
       " \"Mode 3\""
      ]
     },
     "metadata": {},
     "output_type": "display_data"
    }
   ],
   "source": [
    "Mode3.order"
   ]
  },
  {
   "cell_type": "code",
   "execution_count": 33,
   "metadata": {},
   "outputs": [
    {
     "data": {
      "text/plain": [
       "YAXArray Dataset\n",
       "Shared Axes: \n",
       "(\u001b[38;5;209m↓ \u001b[39m\u001b[38;5;209mState\u001b[39m Categorical{String} \u001b[38;5;209m[(7, 1), (0, 3), …, (9, 0), (6, 7)]\u001b[39m \u001b[38;5;244mUnordered\u001b[39m,\n",
       "\u001b[38;5;32m→ \u001b[39m\u001b[38;5;32mComp \u001b[39m Categorical{String} \u001b[38;5;32m[\"Re\", \"Im\"]\u001b[39m \u001b[38;5;244mReverseOrdered\u001b[39m)\n",
       "Variables: \n",
       "Step_1\n",
       "  (\u001b[38;5;209m↓ \u001b[39m\u001b[38;5;209mStep_1_Steps\u001b[39m Sampled{Int64} \u001b[38;5;209m0:1:501\u001b[39m \u001b[38;5;244mForwardOrdered\u001b[39m \u001b[38;5;244mRegular\u001b[39m \u001b[38;5;244mPoints\u001b[39m)\n",
       "Step_2\n",
       "  (\u001b[38;5;209m↓ \u001b[39m\u001b[38;5;209mStep_2_Steps\u001b[39m Sampled{Int64} \u001b[38;5;209m0:1:358\u001b[39m \u001b[38;5;244mForwardOrdered\u001b[39m \u001b[38;5;244mRegular\u001b[39m \u001b[38;5;244mPoints\u001b[39m)\n",
       "\n",
       "Properties: Dict{String, Any}(\"Data\" => \"Wave Function Amplitudes\", \"Basis Shape\" => [10, 10])\n"
      ]
     },
     "metadata": {},
     "output_type": "display_data"
    }
   ],
   "source": [
    "dat = open_dataset(\"Data/Operator_Sequence_2024-09-01T23:11:30.654.nc\")"
   ]
  },
  {
   "cell_type": "code",
   "execution_count": 47,
   "metadata": {},
   "outputs": [
    {
     "data": {
      "text/plain": [
       "OrderedCollections.OrderedDict{Symbol, YAXArray} with 2 entries:\n",
       "  :Step_1 => 100×502×2 NetCDFVariable{Float64, 3}\n",
       "  :Step_2 => 100×359×2 NetCDFVariable{Float64, 3}"
      ]
     },
     "metadata": {},
     "output_type": "display_data"
    }
   ],
   "source": [
    "dat.cubes"
   ]
  },
  {
   "cell_type": "code",
   "execution_count": null,
   "metadata": {},
   "outputs": [],
   "source": []
  }
 ],
 "metadata": {
  "kernelspec": {
   "display_name": "Julia 1.10.4",
   "language": "julia",
   "name": "julia-1.10"
  },
  "language_info": {
   "file_extension": ".jl",
   "mimetype": "application/julia",
   "name": "julia",
   "version": "1.10.4"
  }
 },
 "nbformat": 4,
 "nbformat_minor": 2
}
