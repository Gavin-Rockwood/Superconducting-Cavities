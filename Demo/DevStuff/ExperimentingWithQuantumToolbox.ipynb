{
 "cells": [
  {
   "cell_type": "code",
   "execution_count": 113,
   "metadata": {},
   "outputs": [
    {
     "data": {
      "text/plain": [
       "QuantumToolbox [6c2fb7c5-b903-41d2-bc5e-5a7c320b9fab]"
      ]
     },
     "metadata": {},
     "output_type": "display_data"
    }
   ],
   "source": [
    "Base.identify_package(\"QuantumToolbox\")"
   ]
  },
  {
   "cell_type": "code",
   "execution_count": 145,
   "metadata": {},
   "outputs": [
    {
     "name": "stderr",
     "output_type": "stream",
     "text": [
      "WARNING: replacing module SC.\n"
     ]
    }
   ],
   "source": [
    "import QuantumToolbox as qt\n",
    "using Revise\n",
    "using LinearAlgebra\n",
    "import SciMLBase: solve\n",
    "import OrdinaryDiffEq as ode\n",
    "\n",
    "include(\"/local/gr400/Git Repositories/SuperconductingCavities/src copy/SuperconductingCavities.jl\")\n",
    "\n",
    "using Logging\n",
    "using MiniLoggers\n",
    "using ProgressMeter"
   ]
  },
  {
   "cell_type": "code",
   "execution_count": 146,
   "metadata": {},
   "outputs": [
    {
     "data": {
      "text/plain": [
       "MiniLogger{MiniLoggers.Squash, VSCodeServer.IJuliaCore.IJuliaStdio{Base.PipeEndpoint, typeof(VSCodeServer.io_send_callback)}, VSCodeServer.IJuliaCore.IJuliaStdio{Base.PipeEndpoint, typeof(VSCodeServer.io_send_callback)}, Dates.DateFormat{Symbol(\"yyyy-mm-dd HH:MM:SS\"), Tuple{Dates.DatePart{'y'}, Dates.Delim{Char, 1}, Dates.DatePart{'m'}, Dates.Delim{Char, 1}, Dates.DatePart{'d'}, Dates.Delim{Char, 1}, Dates.DatePart{'H'}, Dates.Delim{Char, 1}, Dates.DatePart{'M'}, Dates.Delim{Char, 1}, Dates.DatePart{'S'}}}, typeof(string)}(VSCodeServer.IJuliaCore.IJuliaStdio{Base.PipeEndpoint, typeof(VSCodeServer.io_send_callback)}(IOContext(Base.PipeEndpoint(RawFD(19) open, 0 bytes waiting)), VSCodeServer.io_send_callback), VSCodeServer.IJuliaCore.IJuliaStdio{Base.PipeEndpoint, typeof(VSCodeServer.io_send_callback)}(IOContext(Base.PipeEndpoint(RawFD(21) open, 0 bytes waiting)), VSCodeServer.io_send_callback), Error, Debug, Dict{Any, Int64}(), true, MiniLoggers.Token[MiniLoggers.Token(\"[\", MiniLoggers.Color(-1, false)), MiniLoggers.Token(\"timestamp\", MiniLoggers.Color(:func, false)), MiniLoggers.Token(\"] \", MiniLoggers.Color(-1, false)), MiniLoggers.Token(\"level\", MiniLoggers.Color(:func, false)), MiniLoggers.Token(\": \", MiniLoggers.Color(-1, false)), MiniLoggers.Token(\"message\", MiniLoggers.Color(-1, false))], dateformat\"yyyy-mm-dd HH:MM:SS\", MiniLoggers.Squash(), \"\\t\", 0, Base.RefValue{Int64}(63862206894262), ReentrantLock(nothing, 0x00000000, 0x00, Base.GenericCondition{Base.Threads.SpinLock}(Base.IntrusiveLinkedList{Task}(nothing, nothing), Base.Threads.SpinLock(0)), (0, 51, 144578674812)), string)"
      ]
     },
     "metadata": {},
     "output_type": "display_data"
    }
   ],
   "source": [
    "# MiniLogger(minlevel = MiniLoggers.Info) |> global_logger\n",
    "InfoLogger = MiniLogger(minlevel = MiniLoggers.Info)\n",
    "ProgressLogger = MiniLogger(minlevel = LogLevel(-1))\n",
    "DebugLogger = MiniLogger(minlevel = MiniLoggers.Debug)\n",
    "\n",
    "global_logger(DebugLogger)"
   ]
  },
  {
   "cell_type": "code",
   "execution_count": 147,
   "metadata": {},
   "outputs": [],
   "source": [
    "Mode3 = SC.Transmon_Resonators_Loader(\"ModelSaves/Mode_3/Mode_3.json\");"
   ]
  },
  {
   "cell_type": "code",
   "execution_count": 149,
   "metadata": {},
   "outputs": [
    {
     "name": "stdout",
     "output_type": "stream",
     "text": [
      "[\u001b[36m2024-09-16 22:08:39\u001b[39m] \u001b[36mInfo\u001b[39m: Running Time Evolution\n",
      "Progress: [==============================] 100.0% --- Elapsed Time: 0h 00m 02s (ETA: 0h 00m 00s)\n",
      "Solution of time evolution\n",
      "(return code: Success)\n",
      "--------------------------\n",
      "num_states = 502\n",
      "num_expect = 0\n",
      "ODE alg.: OrdinaryDiffEqTsit5.Tsit5{typeof(OrdinaryDiffEqCore.trivial_limiter!), typeof(OrdinaryDiffEqCore.trivial_limiter!), Static.False}(OrdinaryDiffEqCore.trivial_limiter!, OrdinaryDiffEqCore.trivial_limiter!, static(false))\n",
      "abstol = 1.0e-8\n",
      "reltol = 1.0e-6\n",
      "\n",
      "[\u001b[34m2024-09-16 22:08:42\u001b[39m] \u001b[34mDebug\u001b[39m: nothing\n",
      "[\u001b[36m2024-09-16 22:08:42\u001b[39m] \u001b[36mInfo\u001b[39m: Time Evolution Complete\n",
      "[\u001b[36m2024-09-16 22:08:42\u001b[39m] \u001b[36mInfo\u001b[39m: Done with DEFAULT\n"
     ]
    }
   ],
   "source": [
    "res = SC.RunSingleOperator_se(Mode3, ψi, Mode3.Stuff[\"op_drive_params\"][\"q_g_0\"]);"
   ]
  },
  {
   "cell_type": "code",
   "execution_count": 153,
   "metadata": {},
   "outputs": [
    {
     "name": "stdout",
     "output_type": "stream",
     "text": [
      "[\u001b[36m2024-09-16 22:09:33\u001b[39m] \u001b[36mInfo\u001b[39m: Running Time Evolution\n",
      "Progress: [                              ]   2.6% --- Elapsed Time: 0h 00m 05s (ETA: 0h 03m 08s)"
     ]
    },
    {
     "ename": "InterruptException",
     "evalue": "InterruptException:",
     "output_type": "error",
     "traceback": [
      "InterruptException:\n",
      "\n",
      "Stacktrace:\n",
      "  [1] update_coefficients!(A::QuantumToolbox.TimeDependentOperatorSum{Vector{Main.SC.var\"#drive_coef#24\"{Main.SC.var\"#envelope#25\"{String, Dict{Symbol, Any}}, Float64, Float64}}, QuantumToolbox.OperatorSum{Vector{ComplexF64}, Vector{QuantumToolbox.QuantumObject{SparseArrays.SparseMatrixCSC{ComplexF64, Int64}, QuantumToolbox.SuperOperatorQuantumObject, 2}}}}, t::Float64, params::@NamedTuple{L::SparseArrays.SparseMatrixCSC{ComplexF64, Int64}, progr::QuantumToolbox.ProgressBar{Base.Threads.Atomic{Int64}, Int64, Float64, Base.Threads.Atomic{Float64}, Float64, ReentrantLock}, Hdims::StaticArraysCore.SVector{2, Int64}, e_ops::Vector{Vector{ComplexF64}}, expvals::Matrix{ComplexF64}, H_t::QuantumToolbox.TimeDependentOperatorSum{Vector{Main.SC.var\"#drive_coef#24\"{Main.SC.var\"#envelope#25\"{String, Dict{Symbol, Any}}, Float64, Float64}}, QuantumToolbox.OperatorSum{Vector{ComplexF64}, Vector{QuantumToolbox.QuantumObject{SparseArrays.SparseMatrixCSC{ComplexF64, Int64}, QuantumToolbox.SuperOperatorQuantumObject, 2}}}}, is_empty_e_ops::Bool})\n",
      "    @ QuantumToolbox ~/.julia/packages/QuantumToolbox/s5JrE/src/time_evolution/time_evolution.jl:131\n",
      "  [2] TimeDependentOperatorSum\n",
      "    @ ~/.julia/packages/QuantumToolbox/s5JrE/src/time_evolution/time_evolution.jl:137 [inlined]\n",
      "  [3] mesolve_td_dudt!(du::Vector{ComplexF64}, u::Vector{ComplexF64}, p::@NamedTuple{L::SparseArrays.SparseMatrixCSC{ComplexF64, Int64}, progr::QuantumToolbox.ProgressBar{Base.Threads.Atomic{Int64}, Int64, Float64, Base.Threads.Atomic{Float64}, Float64, ReentrantLock}, Hdims::StaticArraysCore.SVector{2, Int64}, e_ops::Vector{Vector{ComplexF64}}, expvals::Matrix{ComplexF64}, H_t::QuantumToolbox.TimeDependentOperatorSum{Vector{Main.SC.var\"#drive_coef#24\"{Main.SC.var\"#envelope#25\"{String, Dict{Symbol, Any}}, Float64, Float64}}, QuantumToolbox.OperatorSum{Vector{ComplexF64}, Vector{QuantumToolbox.QuantumObject{SparseArrays.SparseMatrixCSC{ComplexF64, Int64}, QuantumToolbox.SuperOperatorQuantumObject, 2}}}}, is_empty_e_ops::Bool}, t::Float64)\n",
      "    @ QuantumToolbox ~/.julia/packages/QuantumToolbox/s5JrE/src/time_evolution/mesolve.jl:25\n",
      "  [4] ODEFunction\n",
      "    @ ~/.julia/packages/SciMLBase/j8jQg/src/scimlfunctions.jl:2335 [inlined]\n",
      "  [5] perform_step!(integrator::OrdinaryDiffEqCore.ODEIntegrator{OrdinaryDiffEqTsit5.Tsit5{typeof(OrdinaryDiffEqCore.trivial_limiter!), typeof(OrdinaryDiffEqCore.trivial_limiter!), Static.False}, true, Vector{ComplexF64}, Nothing, Float64, @NamedTuple{L::SparseArrays.SparseMatrixCSC{ComplexF64, Int64}, progr::QuantumToolbox.ProgressBar{Base.Threads.Atomic{Int64}, Int64, Float64, Base.Threads.Atomic{Float64}, Float64, ReentrantLock}, Hdims::StaticArraysCore.SVector{2, Int64}, e_ops::Vector{Vector{ComplexF64}}, expvals::Matrix{ComplexF64}, H_t::QuantumToolbox.TimeDependentOperatorSum{Vector{Main.SC.var\"#drive_coef#24\"{Main.SC.var\"#envelope#25\"{String, Dict{Symbol, Any}}, Float64, Float64}}, QuantumToolbox.OperatorSum{Vector{ComplexF64}, Vector{QuantumToolbox.QuantumObject{SparseArrays.SparseMatrixCSC{ComplexF64, Int64}, QuantumToolbox.SuperOperatorQuantumObject, 2}}}}, is_empty_e_ops::Bool}, Float64, Float64, Float64, Float64, Vector{Vector{ComplexF64}}, SciMLBase.ODESolution{ComplexF64, 2, Vector{Vector{ComplexF64}}, Nothing, Nothing, Vector{Float64}, Vector{Vector{Vector{ComplexF64}}}, Nothing, SciMLBase.ODEProblem{Vector{ComplexF64}, Tuple{Float64, Float64}, true, @NamedTuple{L::SparseArrays.SparseMatrixCSC{ComplexF64, Int64}, progr::QuantumToolbox.ProgressBar{Base.Threads.Atomic{Int64}, Int64, Float64, Base.Threads.Atomic{Float64}, Float64, ReentrantLock}, Hdims::StaticArraysCore.SVector{2, Int64}, e_ops::Vector{Vector{ComplexF64}}, expvals::Matrix{ComplexF64}, H_t::QuantumToolbox.TimeDependentOperatorSum{Vector{Main.SC.var\"#drive_coef#24\"{Main.SC.var\"#envelope#25\"{String, Dict{Symbol, Any}}, Float64, Float64}}, QuantumToolbox.OperatorSum{Vector{ComplexF64}, Vector{QuantumToolbox.QuantumObject{SparseArrays.SparseMatrixCSC{ComplexF64, Int64}, QuantumToolbox.SuperOperatorQuantumObject, 2}}}}, is_empty_e_ops::Bool}, SciMLBase.ODEFunction{true, SciMLBase.FullSpecialize, typeof(QuantumToolbox.mesolve_td_dudt!), UniformScaling{Bool}, Nothing, Nothing, Nothing, Nothing, Nothing, Nothing, Nothing, Nothing, Nothing, Nothing, Nothing, typeof(SciMLBase.DEFAULT_OBSERVED), Nothing, Nothing, Nothing, Nothing}, @Kwargs{abstol::Float64, reltol::Float64, save_everystep::Bool, save_end::Bool, saveat::Vector{Float64}, callback::SciMLBase.DiscreteCallback{DiffEqCallbacks.var\"#109#113\", DiffEqCallbacks.var\"#110#114\"{typeof(QuantumToolbox._save_func_mesolve)}, DiffEqCallbacks.var\"#111#115\"{typeof(SciMLBase.INITIALIZE_DEFAULT), Bool, typeof(QuantumToolbox._save_func_mesolve)}, typeof(SciMLBase.FINALIZE_DEFAULT), Nothing}}, SciMLBase.StandardODEProblem}, OrdinaryDiffEqTsit5.Tsit5{typeof(OrdinaryDiffEqCore.trivial_limiter!), typeof(OrdinaryDiffEqCore.trivial_limiter!), Static.False}, OrdinaryDiffEqCore.InterpolationData{SciMLBase.ODEFunction{true, SciMLBase.FullSpecialize, typeof(QuantumToolbox.mesolve_td_dudt!), UniformScaling{Bool}, Nothing, Nothing, Nothing, Nothing, Nothing, Nothing, Nothing, Nothing, Nothing, Nothing, Nothing, typeof(SciMLBase.DEFAULT_OBSERVED), Nothing, Nothing, Nothing, Nothing}, Vector{Vector{ComplexF64}}, Vector{Float64}, Vector{Vector{Vector{ComplexF64}}}, Nothing, OrdinaryDiffEqTsit5.Tsit5Cache{Vector{ComplexF64}, Vector{ComplexF64}, Vector{ComplexF64}, typeof(OrdinaryDiffEqCore.trivial_limiter!), typeof(OrdinaryDiffEqCore.trivial_limiter!), Static.False}, Nothing}, SciMLBase.DEStats, Nothing, Nothing, Nothing}, SciMLBase.ODEFunction{true, SciMLBase.FullSpecialize, typeof(QuantumToolbox.mesolve_td_dudt!), UniformScaling{Bool}, Nothing, Nothing, Nothing, Nothing, Nothing, Nothing, Nothing, Nothing, Nothing, Nothing, Nothing, typeof(SciMLBase.DEFAULT_OBSERVED), Nothing, Nothing, Nothing, Nothing}, OrdinaryDiffEqTsit5.Tsit5Cache{Vector{ComplexF64}, Vector{ComplexF64}, Vector{ComplexF64}, typeof(OrdinaryDiffEqCore.trivial_limiter!), typeof(OrdinaryDiffEqCore.trivial_limiter!), Static.False}, OrdinaryDiffEqCore.DEOptions{Float64, Float64, Float64, Float64, OrdinaryDiffEqCore.PIController{Rational{Int64}}, typeof(DiffEqBase.ODE_DEFAULT_NORM), typeof(opnorm), Bool, SciMLBase.CallbackSet{Tuple{}, Tuple{SciMLBase.DiscreteCallback{DiffEqCallbacks.var\"#109#113\", DiffEqCallbacks.var\"#110#114\"{typeof(QuantumToolbox._save_func_mesolve)}, DiffEqCallbacks.var\"#111#115\"{typeof(SciMLBase.INITIALIZE_DEFAULT), Bool, typeof(QuantumToolbox._save_func_mesolve)}, typeof(SciMLBase.FINALIZE_DEFAULT), Nothing}}}, typeof(DiffEqBase.ODE_DEFAULT_ISOUTOFDOMAIN), typeof(DiffEqBase.ODE_DEFAULT_PROG_MESSAGE), typeof(DiffEqBase.ODE_DEFAULT_UNSTABLE_CHECK), DataStructures.BinaryHeap{Float64, DataStructures.FasterForward}, DataStructures.BinaryHeap{Float64, DataStructures.FasterForward}, Nothing, Nothing, Int64, Tuple{}, Vector{Float64}, Tuple{}}, Vector{ComplexF64}, ComplexF64, Nothing, OrdinaryDiffEqCore.DefaultInit, Nothing}, cache::OrdinaryDiffEqTsit5.Tsit5Cache{Vector{ComplexF64}, Vector{ComplexF64}, Vector{ComplexF64}, typeof(OrdinaryDiffEqCore.trivial_limiter!), typeof(OrdinaryDiffEqCore.trivial_limiter!), Static.False}, repeat_step::Bool)\n",
      "    @ OrdinaryDiffEqTsit5 ~/.julia/packages/OrdinaryDiffEqTsit5/DHYtz/src/tsit_perform_step.jl:199\n",
      "  [6] perform_step!\n",
      "    @ ~/.julia/packages/OrdinaryDiffEqTsit5/DHYtz/src/tsit_perform_step.jl:181 [inlined]\n",
      "  [7] solve!(integrator::OrdinaryDiffEqCore.ODEIntegrator{OrdinaryDiffEqTsit5.Tsit5{typeof(OrdinaryDiffEqCore.trivial_limiter!), typeof(OrdinaryDiffEqCore.trivial_limiter!), Static.False}, true, Vector{ComplexF64}, Nothing, Float64, @NamedTuple{L::SparseArrays.SparseMatrixCSC{ComplexF64, Int64}, progr::QuantumToolbox.ProgressBar{Base.Threads.Atomic{Int64}, Int64, Float64, Base.Threads.Atomic{Float64}, Float64, ReentrantLock}, Hdims::StaticArraysCore.SVector{2, Int64}, e_ops::Vector{Vector{ComplexF64}}, expvals::Matrix{ComplexF64}, H_t::QuantumToolbox.TimeDependentOperatorSum{Vector{Main.SC.var\"#drive_coef#24\"{Main.SC.var\"#envelope#25\"{String, Dict{Symbol, Any}}, Float64, Float64}}, QuantumToolbox.OperatorSum{Vector{ComplexF64}, Vector{QuantumToolbox.QuantumObject{SparseArrays.SparseMatrixCSC{ComplexF64, Int64}, QuantumToolbox.SuperOperatorQuantumObject, 2}}}}, is_empty_e_ops::Bool}, Float64, Float64, Float64, Float64, Vector{Vector{ComplexF64}}, SciMLBase.ODESolution{ComplexF64, 2, Vector{Vector{ComplexF64}}, Nothing, Nothing, Vector{Float64}, Vector{Vector{Vector{ComplexF64}}}, Nothing, SciMLBase.ODEProblem{Vector{ComplexF64}, Tuple{Float64, Float64}, true, @NamedTuple{L::SparseArrays.SparseMatrixCSC{ComplexF64, Int64}, progr::QuantumToolbox.ProgressBar{Base.Threads.Atomic{Int64}, Int64, Float64, Base.Threads.Atomic{Float64}, Float64, ReentrantLock}, Hdims::StaticArraysCore.SVector{2, Int64}, e_ops::Vector{Vector{ComplexF64}}, expvals::Matrix{ComplexF64}, H_t::QuantumToolbox.TimeDependentOperatorSum{Vector{Main.SC.var\"#drive_coef#24\"{Main.SC.var\"#envelope#25\"{String, Dict{Symbol, Any}}, Float64, Float64}}, QuantumToolbox.OperatorSum{Vector{ComplexF64}, Vector{QuantumToolbox.QuantumObject{SparseArrays.SparseMatrixCSC{ComplexF64, Int64}, QuantumToolbox.SuperOperatorQuantumObject, 2}}}}, is_empty_e_ops::Bool}, SciMLBase.ODEFunction{true, SciMLBase.FullSpecialize, typeof(QuantumToolbox.mesolve_td_dudt!), UniformScaling{Bool}, Nothing, Nothing, Nothing, Nothing, Nothing, Nothing, Nothing, Nothing, Nothing, Nothing, Nothing, typeof(SciMLBase.DEFAULT_OBSERVED), Nothing, Nothing, Nothing, Nothing}, @Kwargs{abstol::Float64, reltol::Float64, save_everystep::Bool, save_end::Bool, saveat::Vector{Float64}, callback::SciMLBase.DiscreteCallback{DiffEqCallbacks.var\"#109#113\", DiffEqCallbacks.var\"#110#114\"{typeof(QuantumToolbox._save_func_mesolve)}, DiffEqCallbacks.var\"#111#115\"{typeof(SciMLBase.INITIALIZE_DEFAULT), Bool, typeof(QuantumToolbox._save_func_mesolve)}, typeof(SciMLBase.FINALIZE_DEFAULT), Nothing}}, SciMLBase.StandardODEProblem}, OrdinaryDiffEqTsit5.Tsit5{typeof(OrdinaryDiffEqCore.trivial_limiter!), typeof(OrdinaryDiffEqCore.trivial_limiter!), Static.False}, OrdinaryDiffEqCore.InterpolationData{SciMLBase.ODEFunction{true, SciMLBase.FullSpecialize, typeof(QuantumToolbox.mesolve_td_dudt!), UniformScaling{Bool}, Nothing, Nothing, Nothing, Nothing, Nothing, Nothing, Nothing, Nothing, Nothing, Nothing, Nothing, typeof(SciMLBase.DEFAULT_OBSERVED), Nothing, Nothing, Nothing, Nothing}, Vector{Vector{ComplexF64}}, Vector{Float64}, Vector{Vector{Vector{ComplexF64}}}, Nothing, OrdinaryDiffEqTsit5.Tsit5Cache{Vector{ComplexF64}, Vector{ComplexF64}, Vector{ComplexF64}, typeof(OrdinaryDiffEqCore.trivial_limiter!), typeof(OrdinaryDiffEqCore.trivial_limiter!), Static.False}, Nothing}, SciMLBase.DEStats, Nothing, Nothing, Nothing}, SciMLBase.ODEFunction{true, SciMLBase.FullSpecialize, typeof(QuantumToolbox.mesolve_td_dudt!), UniformScaling{Bool}, Nothing, Nothing, Nothing, Nothing, Nothing, Nothing, Nothing, Nothing, Nothing, Nothing, Nothing, typeof(SciMLBase.DEFAULT_OBSERVED), Nothing, Nothing, Nothing, Nothing}, OrdinaryDiffEqTsit5.Tsit5Cache{Vector{ComplexF64}, Vector{ComplexF64}, Vector{ComplexF64}, typeof(OrdinaryDiffEqCore.trivial_limiter!), typeof(OrdinaryDiffEqCore.trivial_limiter!), Static.False}, OrdinaryDiffEqCore.DEOptions{Float64, Float64, Float64, Float64, OrdinaryDiffEqCore.PIController{Rational{Int64}}, typeof(DiffEqBase.ODE_DEFAULT_NORM), typeof(opnorm), Bool, SciMLBase.CallbackSet{Tuple{}, Tuple{SciMLBase.DiscreteCallback{DiffEqCallbacks.var\"#109#113\", DiffEqCallbacks.var\"#110#114\"{typeof(QuantumToolbox._save_func_mesolve)}, DiffEqCallbacks.var\"#111#115\"{typeof(SciMLBase.INITIALIZE_DEFAULT), Bool, typeof(QuantumToolbox._save_func_mesolve)}, typeof(SciMLBase.FINALIZE_DEFAULT), Nothing}}}, typeof(DiffEqBase.ODE_DEFAULT_ISOUTOFDOMAIN), typeof(DiffEqBase.ODE_DEFAULT_PROG_MESSAGE), typeof(DiffEqBase.ODE_DEFAULT_UNSTABLE_CHECK), DataStructures.BinaryHeap{Float64, DataStructures.FasterForward}, DataStructures.BinaryHeap{Float64, DataStructures.FasterForward}, Nothing, Nothing, Int64, Tuple{}, Vector{Float64}, Tuple{}}, Vector{ComplexF64}, ComplexF64, Nothing, OrdinaryDiffEqCore.DefaultInit, Nothing})\n",
      "    @ OrdinaryDiffEqCore ~/.julia/packages/OrdinaryDiffEqCore/55UVY/src/solve.jl:551\n",
      "  [8] #__solve#75\n",
      "    @ ~/.julia/packages/OrdinaryDiffEqCore/55UVY/src/solve.jl:7 [inlined]\n",
      "  [9] __solve\n",
      "    @ ~/.julia/packages/OrdinaryDiffEqCore/55UVY/src/solve.jl:1 [inlined]\n",
      " [10] solve_call(_prob::SciMLBase.ODEProblem{Vector{ComplexF64}, Tuple{Float64, Float64}, true, @NamedTuple{L::SparseArrays.SparseMatrixCSC{ComplexF64, Int64}, progr::QuantumToolbox.ProgressBar{Base.Threads.Atomic{Int64}, Int64, Float64, Base.Threads.Atomic{Float64}, Float64, ReentrantLock}, Hdims::StaticArraysCore.SVector{2, Int64}, e_ops::Vector{Vector{ComplexF64}}, expvals::Matrix{ComplexF64}, H_t::QuantumToolbox.TimeDependentOperatorSum{Vector{Main.SC.var\"#drive_coef#24\"{Main.SC.var\"#envelope#25\"{String, Dict{Symbol, Any}}, Float64, Float64}}, QuantumToolbox.OperatorSum{Vector{ComplexF64}, Vector{QuantumToolbox.QuantumObject{SparseArrays.SparseMatrixCSC{ComplexF64, Int64}, QuantumToolbox.SuperOperatorQuantumObject, 2}}}}, is_empty_e_ops::Bool}, SciMLBase.ODEFunction{true, SciMLBase.FullSpecialize, typeof(QuantumToolbox.mesolve_td_dudt!), UniformScaling{Bool}, Nothing, Nothing, Nothing, Nothing, Nothing, Nothing, Nothing, Nothing, Nothing, Nothing, Nothing, typeof(SciMLBase.DEFAULT_OBSERVED), Nothing, Nothing, Nothing, Nothing}, @Kwargs{abstol::Float64, reltol::Float64, save_everystep::Bool, save_end::Bool, saveat::Vector{Float64}, callback::SciMLBase.DiscreteCallback{DiffEqCallbacks.var\"#109#113\", DiffEqCallbacks.var\"#110#114\"{typeof(QuantumToolbox._save_func_mesolve)}, DiffEqCallbacks.var\"#111#115\"{typeof(SciMLBase.INITIALIZE_DEFAULT), Bool, typeof(QuantumToolbox._save_func_mesolve)}, typeof(SciMLBase.FINALIZE_DEFAULT), Nothing}}, SciMLBase.StandardODEProblem}, args::OrdinaryDiffEqTsit5.Tsit5{typeof(OrdinaryDiffEqCore.trivial_limiter!), typeof(OrdinaryDiffEqCore.trivial_limiter!), Static.False}; merge_callbacks::Bool, kwargshandle::Nothing, kwargs::@Kwargs{})\n",
      "    @ DiffEqBase ~/.julia/packages/DiffEqBase/DdIeW/src/solve.jl:612\n",
      " [11] solve_call\n",
      "    @ ~/.julia/packages/DiffEqBase/DdIeW/src/solve.jl:569 [inlined]\n",
      " [12] #solve_up#53\n",
      "    @ ~/.julia/packages/DiffEqBase/DdIeW/src/solve.jl:1080 [inlined]\n",
      " [13] solve_up\n",
      "    @ ~/.julia/packages/DiffEqBase/DdIeW/src/solve.jl:1066 [inlined]\n",
      " [14] #solve#51\n",
      "    @ ~/.julia/packages/DiffEqBase/DdIeW/src/solve.jl:1003 [inlined]\n",
      " [15] solve\n",
      "    @ ~/.julia/packages/DiffEqBase/DdIeW/src/solve.jl:993 [inlined]\n",
      " [16] mesolve(prob::SciMLBase.ODEProblem{Vector{ComplexF64}, Tuple{Float64, Float64}, true, @NamedTuple{L::SparseArrays.SparseMatrixCSC{ComplexF64, Int64}, progr::QuantumToolbox.ProgressBar{Base.Threads.Atomic{Int64}, Int64, Float64, Base.Threads.Atomic{Float64}, Float64, ReentrantLock}, Hdims::StaticArraysCore.SVector{2, Int64}, e_ops::Vector{Vector{ComplexF64}}, expvals::Matrix{ComplexF64}, H_t::QuantumToolbox.TimeDependentOperatorSum{Vector{Main.SC.var\"#drive_coef#24\"{Main.SC.var\"#envelope#25\"{String, Dict{Symbol, Any}}, Float64, Float64}}, QuantumToolbox.OperatorSum{Vector{ComplexF64}, Vector{QuantumToolbox.QuantumObject{SparseArrays.SparseMatrixCSC{ComplexF64, Int64}, QuantumToolbox.SuperOperatorQuantumObject, 2}}}}, is_empty_e_ops::Bool}, SciMLBase.ODEFunction{true, SciMLBase.FullSpecialize, typeof(QuantumToolbox.mesolve_td_dudt!), UniformScaling{Bool}, Nothing, Nothing, Nothing, Nothing, Nothing, Nothing, Nothing, Nothing, Nothing, Nothing, Nothing, typeof(SciMLBase.DEFAULT_OBSERVED), Nothing, Nothing, Nothing, Nothing}, @Kwargs{abstol::Float64, reltol::Float64, save_everystep::Bool, save_end::Bool, saveat::Vector{Float64}, callback::SciMLBase.DiscreteCallback{DiffEqCallbacks.var\"#109#113\", DiffEqCallbacks.var\"#110#114\"{typeof(QuantumToolbox._save_func_mesolve)}, DiffEqCallbacks.var\"#111#115\"{typeof(SciMLBase.INITIALIZE_DEFAULT), Bool, typeof(QuantumToolbox._save_func_mesolve)}, typeof(SciMLBase.FINALIZE_DEFAULT), Nothing}}, SciMLBase.StandardODEProblem}, alg::OrdinaryDiffEqTsit5.Tsit5{typeof(OrdinaryDiffEqCore.trivial_limiter!), typeof(OrdinaryDiffEqCore.trivial_limiter!), Static.False})\n",
      "    @ QuantumToolbox ~/.julia/packages/QuantumToolbox/s5JrE/src/time_evolution/mesolve.jl:247\n",
      " [17] mesolve(H::QuantumToolbox.QuantumObject{Matrix{ComplexF64}, QuantumToolbox.OperatorQuantumObject, 2}, ψ0::QuantumToolbox.QuantumObject{Matrix{ComplexF64}, QuantumToolbox.OperatorQuantumObject, 2}, tlist::Vector{Float64}, c_ops::Vector{Any}; alg::OrdinaryDiffEqTsit5.Tsit5{typeof(OrdinaryDiffEqCore.trivial_limiter!), typeof(OrdinaryDiffEqCore.trivial_limiter!), Static.False}, e_ops::Nothing, H_t::QuantumToolbox.TimeDependentOperatorSum{Vector{Main.SC.var\"#drive_coef#24\"{Main.SC.var\"#envelope#25\"{String, Dict{Symbol, Any}}, Float64, Float64}}, QuantumToolbox.OperatorSum{Vector{ComplexF64}, Vector{QuantumToolbox.QuantumObject{SparseArrays.SparseMatrixCSC{ComplexF64, Int64}, QuantumToolbox.SuperOperatorQuantumObject, 2}}}}, params::@NamedTuple{}, progress_bar::Val{true}, kwargs::@Kwargs{})\n",
      "    @ QuantumToolbox ~/.julia/packages/QuantumToolbox/s5JrE/src/time_evolution/mesolve.jl:243\n",
      " [18] RunSingleOperator_me(model::Main.SC.Transmon_Resonators, ρ::QuantumToolbox.QuantumObject{Matrix{ComplexF64}, QuantumToolbox.OperatorQuantumObject, 2}, op_params::Dict{String, Any}; c_ops::Vector{Any}, spps::Int64, solver_kwargs::Dict{Any, Any}, save_step::Bool, step_name::String, op_name::String, to_return::String, save_path::String, run_name::String, save_as_seperate_file::Bool, tspan::Vector{Any})\n",
      "    @ Main.SC /local/gr400/Git Repositories/SuperconductingCavities/src copy/Utils/RunOperatorSequence.jl:160\n",
      " [19] top-level scope\n",
      "    @ /local/gr400/Git Repositories/SuperconductingCavities/Demo/jl_notebook_cell_df34fa98e69747e1a8f8a730347b8e2f_W6sZmlsZQ==.jl:2"
     ]
    }
   ],
   "source": [
    "ψi = Mode3.dressed_states[(0,0)]\n",
    "res = SC_qt.RunSingleOperator_me(Mode3, ψi*ψi', Mode3.Stuff[\"op_drive_params\"][\"q_g_0\"], c_ops = collect(values(Mode3.CandD_Ops)), save_step = false, to_return = \"Last DM\")"
   ]
  },
  {
   "cell_type": "code",
   "execution_count": 151,
   "metadata": {},
   "outputs": [
    {
     "data": {
      "text/plain": [
       "Quantum Object:   type=Ket   dims=[10, 10]   size=(100,)\n",
       "100-element Vector{ComplexF64}:\n",
       "   -0.024601453793491383 + 0.03328879636377604im\n",
       "  -8.000854116735394e-20 + 1.0826140831512444e-19im\n",
       "   -4.948490412239883e-7 + 6.695916876454381e-7im\n",
       "   4.020276744906553e-24 - 5.439929485899936e-24im\n",
       " -1.2214445274030168e-11 + 1.652764852178163e-11im\n",
       "  1.0310414009632607e-25 - 1.395125976187988e-25im\n",
       " -3.2201131175158487e-16 + 4.3572095672520186e-16im\n",
       "   2.977458513317721e-26 - 4.028868007696656e-26im\n",
       "    2.14400100723311e-19 - 2.9010973714242795e-19im\n",
       " -1.7028177130571144e-26 + 2.3041220478436015e-26im\n",
       "                         ⋮\n",
       "  -2.962874356297948e-11 + 4.00913384738061e-11im\n",
       "  -4.684983468917486e-19 + 6.339359534342304e-19im\n",
       " -2.8941081381794205e-13 + 3.9160846865110886e-13im\n",
       "  -5.129490657886828e-19 + 6.940832496877133e-19im\n",
       " -3.5071081245930097e-16 + 4.745549151904517e-16im\n",
       " -3.3778821825430715e-19 + 4.570690539648212e-19im\n",
       " -1.2758859167529291e-19 + 1.7264307557886942e-19im\n",
       "   2.872218699252222e-19 - 3.886465580214305e-19im\n",
       " -1.7550925550888733e-23 + 2.374856346147719e-23im"
      ]
     },
     "metadata": {},
     "output_type": "display_data"
    }
   ],
   "source": [
    "ψi'*res.states[end]*ψi"
   ]
  },
  {
   "cell_type": "code",
   "execution_count": 152,
   "metadata": {},
   "outputs": [],
   "source": []
  },
  {
   "cell_type": "code",
   "execution_count": null,
   "metadata": {},
   "outputs": [],
   "source": []
  }
 ],
 "metadata": {
  "kernelspec": {
   "display_name": "Julia 1.10.5",
   "language": "julia",
   "name": "julia-1.10"
  },
  "language_info": {
   "file_extension": ".jl",
   "mimetype": "application/julia",
   "name": "julia",
   "version": "1.10.5"
  }
 },
 "nbformat": 4,
 "nbformat_minor": 2
}
